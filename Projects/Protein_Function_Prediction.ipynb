{
  "cells": [
    {
      "cell_type": "markdown",
      "metadata": {
        "id": "view-in-github",
        "colab_type": "text"
      },
      "source": [
        "<a href=\"https://colab.research.google.com/github/HussainAhmed202/my-bioinformatics-journal/blob/main/Projects/Protein_Function_Prediction.ipynb\" target=\"_parent\"><img src=\"https://colab.research.google.com/assets/colab-badge.svg\" alt=\"Open In Colab\"/></a>"
      ]
    },
    {
      "cell_type": "markdown",
      "metadata": {
        "id": "CFydsPAL_s7d"
      },
      "source": [
        "# A Neural Network-Based Multi-Label Classifier for Protein Function Prediction"
      ]
    },
    {
      "cell_type": "code",
      "execution_count": 1,
      "metadata": {
        "colab": {
          "base_uri": "https://localhost:8080/",
          "height": 329
        },
        "id": "k-GOp14uM9sR",
        "outputId": "c0166a8d-5a80-422b-c13a-ca011c834a15"
      },
      "outputs": [
        {
          "output_type": "error",
          "ename": "MessageError",
          "evalue": "Error: credential propagation was unsuccessful",
          "traceback": [
            "\u001b[0;31m---------------------------------------------------------------------------\u001b[0m",
            "\u001b[0;31mMessageError\u001b[0m                              Traceback (most recent call last)",
            "\u001b[0;32m<ipython-input-1-d5df0069828e>\u001b[0m in \u001b[0;36m<cell line: 0>\u001b[0;34m()\u001b[0m\n\u001b[1;32m      1\u001b[0m \u001b[0;32mfrom\u001b[0m \u001b[0mgoogle\u001b[0m\u001b[0;34m.\u001b[0m\u001b[0mcolab\u001b[0m \u001b[0;32mimport\u001b[0m \u001b[0mdrive\u001b[0m\u001b[0;34m\u001b[0m\u001b[0;34m\u001b[0m\u001b[0m\n\u001b[0;32m----> 2\u001b[0;31m \u001b[0mdrive\u001b[0m\u001b[0;34m.\u001b[0m\u001b[0mmount\u001b[0m\u001b[0;34m(\u001b[0m\u001b[0;34m'/content/drive'\u001b[0m\u001b[0;34m)\u001b[0m\u001b[0;34m\u001b[0m\u001b[0;34m\u001b[0m\u001b[0m\n\u001b[0m",
            "\u001b[0;32m/usr/local/lib/python3.11/dist-packages/google/colab/drive.py\u001b[0m in \u001b[0;36mmount\u001b[0;34m(mountpoint, force_remount, timeout_ms, readonly)\u001b[0m\n\u001b[1;32m     98\u001b[0m \u001b[0;32mdef\u001b[0m \u001b[0mmount\u001b[0m\u001b[0;34m(\u001b[0m\u001b[0mmountpoint\u001b[0m\u001b[0;34m,\u001b[0m \u001b[0mforce_remount\u001b[0m\u001b[0;34m=\u001b[0m\u001b[0;32mFalse\u001b[0m\u001b[0;34m,\u001b[0m \u001b[0mtimeout_ms\u001b[0m\u001b[0;34m=\u001b[0m\u001b[0;36m120000\u001b[0m\u001b[0;34m,\u001b[0m \u001b[0mreadonly\u001b[0m\u001b[0;34m=\u001b[0m\u001b[0;32mFalse\u001b[0m\u001b[0;34m)\u001b[0m\u001b[0;34m:\u001b[0m\u001b[0;34m\u001b[0m\u001b[0;34m\u001b[0m\u001b[0m\n\u001b[1;32m     99\u001b[0m   \u001b[0;34m\"\"\"Mount your Google Drive at the specified mountpoint path.\"\"\"\u001b[0m\u001b[0;34m\u001b[0m\u001b[0;34m\u001b[0m\u001b[0m\n\u001b[0;32m--> 100\u001b[0;31m   return _mount(\n\u001b[0m\u001b[1;32m    101\u001b[0m       \u001b[0mmountpoint\u001b[0m\u001b[0;34m,\u001b[0m\u001b[0;34m\u001b[0m\u001b[0;34m\u001b[0m\u001b[0m\n\u001b[1;32m    102\u001b[0m       \u001b[0mforce_remount\u001b[0m\u001b[0;34m=\u001b[0m\u001b[0mforce_remount\u001b[0m\u001b[0;34m,\u001b[0m\u001b[0;34m\u001b[0m\u001b[0;34m\u001b[0m\u001b[0m\n",
            "\u001b[0;32m/usr/local/lib/python3.11/dist-packages/google/colab/drive.py\u001b[0m in \u001b[0;36m_mount\u001b[0;34m(mountpoint, force_remount, timeout_ms, ephemeral, readonly)\u001b[0m\n\u001b[1;32m    135\u001b[0m   )\n\u001b[1;32m    136\u001b[0m   \u001b[0;32mif\u001b[0m \u001b[0mephemeral\u001b[0m\u001b[0;34m:\u001b[0m\u001b[0;34m\u001b[0m\u001b[0;34m\u001b[0m\u001b[0m\n\u001b[0;32m--> 137\u001b[0;31m     _message.blocking_request(\n\u001b[0m\u001b[1;32m    138\u001b[0m         \u001b[0;34m'request_auth'\u001b[0m\u001b[0;34m,\u001b[0m\u001b[0;34m\u001b[0m\u001b[0;34m\u001b[0m\u001b[0m\n\u001b[1;32m    139\u001b[0m         \u001b[0mrequest\u001b[0m\u001b[0;34m=\u001b[0m\u001b[0;34m{\u001b[0m\u001b[0;34m'authType'\u001b[0m\u001b[0;34m:\u001b[0m \u001b[0;34m'dfs_ephemeral'\u001b[0m\u001b[0;34m}\u001b[0m\u001b[0;34m,\u001b[0m\u001b[0;34m\u001b[0m\u001b[0;34m\u001b[0m\u001b[0m\n",
            "\u001b[0;32m/usr/local/lib/python3.11/dist-packages/google/colab/_message.py\u001b[0m in \u001b[0;36mblocking_request\u001b[0;34m(request_type, request, timeout_sec, parent)\u001b[0m\n\u001b[1;32m    174\u001b[0m       \u001b[0mrequest_type\u001b[0m\u001b[0;34m,\u001b[0m \u001b[0mrequest\u001b[0m\u001b[0;34m,\u001b[0m \u001b[0mparent\u001b[0m\u001b[0;34m=\u001b[0m\u001b[0mparent\u001b[0m\u001b[0;34m,\u001b[0m \u001b[0mexpect_reply\u001b[0m\u001b[0;34m=\u001b[0m\u001b[0;32mTrue\u001b[0m\u001b[0;34m\u001b[0m\u001b[0;34m\u001b[0m\u001b[0m\n\u001b[1;32m    175\u001b[0m   )\n\u001b[0;32m--> 176\u001b[0;31m   \u001b[0;32mreturn\u001b[0m \u001b[0mread_reply_from_input\u001b[0m\u001b[0;34m(\u001b[0m\u001b[0mrequest_id\u001b[0m\u001b[0;34m,\u001b[0m \u001b[0mtimeout_sec\u001b[0m\u001b[0;34m)\u001b[0m\u001b[0;34m\u001b[0m\u001b[0;34m\u001b[0m\u001b[0m\n\u001b[0m",
            "\u001b[0;32m/usr/local/lib/python3.11/dist-packages/google/colab/_message.py\u001b[0m in \u001b[0;36mread_reply_from_input\u001b[0;34m(message_id, timeout_sec)\u001b[0m\n\u001b[1;32m    101\u001b[0m     ):\n\u001b[1;32m    102\u001b[0m       \u001b[0;32mif\u001b[0m \u001b[0;34m'error'\u001b[0m \u001b[0;32min\u001b[0m \u001b[0mreply\u001b[0m\u001b[0;34m:\u001b[0m\u001b[0;34m\u001b[0m\u001b[0;34m\u001b[0m\u001b[0m\n\u001b[0;32m--> 103\u001b[0;31m         \u001b[0;32mraise\u001b[0m \u001b[0mMessageError\u001b[0m\u001b[0;34m(\u001b[0m\u001b[0mreply\u001b[0m\u001b[0;34m[\u001b[0m\u001b[0;34m'error'\u001b[0m\u001b[0;34m]\u001b[0m\u001b[0;34m)\u001b[0m\u001b[0;34m\u001b[0m\u001b[0;34m\u001b[0m\u001b[0m\n\u001b[0m\u001b[1;32m    104\u001b[0m       \u001b[0;32mreturn\u001b[0m \u001b[0mreply\u001b[0m\u001b[0;34m.\u001b[0m\u001b[0mget\u001b[0m\u001b[0;34m(\u001b[0m\u001b[0;34m'data'\u001b[0m\u001b[0;34m,\u001b[0m \u001b[0;32mNone\u001b[0m\u001b[0;34m)\u001b[0m\u001b[0;34m\u001b[0m\u001b[0;34m\u001b[0m\u001b[0m\n\u001b[1;32m    105\u001b[0m \u001b[0;34m\u001b[0m\u001b[0m\n",
            "\u001b[0;31mMessageError\u001b[0m: Error: credential propagation was unsuccessful"
          ]
        }
      ],
      "source": [
        "from google.colab import drive\n",
        "drive.mount('/content/drive')"
      ]
    },
    {
      "cell_type": "code",
      "execution_count": 2,
      "metadata": {
        "colab": {
          "base_uri": "https://localhost:8080/"
        },
        "id": "9fMjyyGRTCaC",
        "outputId": "83b7609c-da65-4e29-8af8-6d1aaba72e07"
      },
      "outputs": [
        {
          "output_type": "stream",
          "name": "stdout",
          "text": [
            "Collecting unrar\n",
            "  Downloading unrar-0.4-py3-none-any.whl.metadata (3.0 kB)\n",
            "Downloading unrar-0.4-py3-none-any.whl (25 kB)\n",
            "Installing collected packages: unrar\n",
            "Successfully installed unrar-0.4\n",
            "\n",
            "UNRAR 6.11 beta 1 freeware      Copyright (c) 1993-2022 Alexander Roshal\n",
            "\n",
            "\n",
            "Extracting from /content/drive/MyDrive/Dataset.rar\n",
            "\n",
            "Creating    /content/Test Dataset                                     OK\n",
            "Extracting  /content/Test Dataset/Act_test.csv                           \b\b\b\b  0%\b\b\b\b  1%\b\b\b\b  2%\b\b\b\b\b  OK \n",
            "Extracting  /content/Test Dataset/Bac_test.csv                           \b\b\b\b  2%\b\b\b\b\b  OK \n",
            "Extracting  /content/Test Dataset/Chl_test.csv                           \b\b\b\b  3%\b\b\b\b\b  OK \n",
            "Extracting  /content/Test Dataset/Cya_test.csv                           \b\b\b\b  4%\b\b\b\b\b  OK \n",
            "Extracting  /content/Test Dataset/Fir_test1.csv                          \b\b\b\b  5%\b\b\b\b  6%\b\b\b\b  7%\b\b\b\b  8%\b\b\b\b\b  OK \n",
            "Extracting  /content/Test Dataset/Fir_test2.csv                          \b\b\b\b  9%\b\b\b\b 10%\b\b\b\b 11%\b\b\b\b\b  OK \n",
            "Extracting  /content/Test Dataset/Fuso_test.csv                          \b\b\b\b 11%\b\b\b\b\b  OK \n",
            "Extracting  /content/Test Dataset/Pro_test1.csv                          \b\b\b\b 12%\b\b\b\b 13%\b\b\b\b 14%\b\b\b\b 15%\b\b\b\b\b  OK \n",
            "Extracting  /content/Test Dataset/Pro_test2.csv                          \b\b\b\b 15%\b\b\b\b 16%\b\b\b\b 17%\b\b\b\b 18%\b\b\b\b\b  OK \n",
            "Extracting  /content/Test Dataset/Pro_test3.csv                          \b\b\b\b 18%\b\b\b\b 19%\b\b\b\b 20%\b\b\b\b\b  OK \n",
            "Extracting  /content/Test Dataset/Pro_test4.csv                          \b\b\b\b 21%\b\b\b\b\b  OK \n",
            "Extracting  /content/Test Dataset/Spi_test.csv                           \b\b\b\b 21%\b\b\b\b\b  OK \n",
            "Extracting  /content/Test Dataset/Ten_test.csv                           \b\b\b\b 21%\b\b\b\b\b  OK \n",
            "Creating    /content/Train Dataset                                    OK\n",
            "Extracting  /content/Train Dataset/Act_train1.csv                        \b\b\b\b 22%\b\b\b\b 23%\b\b\b\b 24%\b\b\b\b 25%\b\b\b\b\b  OK \n",
            "Extracting  /content/Train Dataset/Act_train2.csv                        \b\b\b\b 25%\b\b\b\b 26%\b\b\b\b 27%\b\b\b\b 28%\b\b\b\b\b  OK \n",
            "Extracting  /content/Train Dataset/Bac_train.csv                         \b\b\b\b 28%\b\b\b\b 29%\b\b\b\b 30%\b\b\b\b\b  OK \n",
            "Extracting  /content/Train Dataset/Chl_train.csv                         \b\b\b\b 31%\b\b\b\b\b  OK \n",
            "Extracting  /content/Train Dataset/Cya_train.csv                         \b\b\b\b 31%\b\b\b\b 32%\b\b\b\b 33%\b\b\b\b 34%\b\b\b\b\b  OK \n",
            "Extracting  /content/Train Dataset/Fir_train1.csv                        \b\b\b\b 35%\b\b\b\b 36%\b\b\b\b 37%\b\b\b\b\b  OK \n",
            "Extracting  /content/Train Dataset/Fir_train2.csv                        \b\b\b\b 37%\b\b\b\b 38%\b\b\b\b 39%\b\b\b\b 40%\b\b\b\b\b  OK \n",
            "Extracting  /content/Train Dataset/Fir_train3.csv                        \b\b\b\b 41%\b\b\b\b 42%\b\b\b\b 43%\b\b\b\b 44%\b\b\b\b\b  OK \n",
            "Extracting  /content/Train Dataset/Fir_train4.csv                        \b\b\b\b 45%\b\b\b\b 46%\b\b\b\b 47%\b\b\b\b 48%\b\b\b\b\b  OK \n",
            "Extracting  /content/Train Dataset/Fir_train5.csv                        \b\b\b\b 49%\b\b\b\b 50%\b\b\b\b 51%\b\b\b\b\b  OK \n",
            "Extracting  /content/Train Dataset/Fir_train6.csv                        \b\b\b\b 52%\b\b\b\b 53%\b\b\b\b\b  OK \n",
            "Extracting  /content/Train Dataset/Fuso_train.csv                        \b\b\b\b 54%\b\b\b\b\b  OK \n",
            "Extracting  /content/Train Dataset/Pro_train1.csv                        \b\b\b\b 54%\b\b\b\b 55%\b\b\b\b 56%\b\b\b\b 57%\b\b\b\b\b  OK \n",
            "Extracting  /content/Train Dataset/Pro_train10.csv                       \b\b\b\b 58%\b\b\b\b 59%\b\b\b\b 60%\b\b\b\b\b  OK \n",
            "Extracting  /content/Train Dataset/Pro_train11.csv                       \b\b\b\b 61%\b\b\b\b 62%\b\b\b\b 63%\b\b\b\b\b  OK \n",
            "Extracting  /content/Train Dataset/Pro_train12.csv                       \b\b\b\b 64%\b\b\b\b 65%\b\b\b\b 66%\b\b\b\b 67%\b\b\b\b 68%\b\b\b\b\b  OK \n",
            "Extracting  /content/Train Dataset/Pro_train13.csv                       \b\b\b\b 68%\b\b\b\b 69%\b\b\b\b 70%\b\b\b\b 71%\b\b\b\b 72%\b\b\b\b\b  OK \n",
            "Extracting  /content/Train Dataset/Pro_train14.csv                       \b\b\b\b 73%\b\b\b\b 74%\b\b\b\b 75%\b\b\b\b 76%\b\b\b\b\b  OK \n",
            "Extracting  /content/Train Dataset/Pro_train2.csv                        \b\b\b\b 77%\b\b\b\b 78%\b\b\b\b 79%\b\b\b\b 80%\b\b\b\b\b  OK \n",
            "Extracting  /content/Train Dataset/Pro_train3.csv                        \b\b\b\b 81%\b\b\b\b 82%\b\b\b\b 83%\b\b\b\b 84%\b\b\b\b\b  OK \n",
            "Extracting  /content/Train Dataset/Pro_train4.csv                        \b\b\b\b 84%\b\b\b\b 85%\b\b\b\b 86%\b\b\b\b\b  OK \n",
            "Extracting  /content/Train Dataset/Pro_train5.csv                        \b\b\b\b 87%\b\b\b\b 88%\b\b\b\b\b  OK \n",
            "Extracting  /content/Train Dataset/Pro_train7.csv                        \b\b\b\b 89%\b\b\b\b 90%\b\b\b\b 91%\b\b\b\b 92%\b\b\b\b\b  OK \n",
            "Extracting  /content/Train Dataset/Pro_train8.csv                        \b\b\b\b 93%\b\b\b\b\b  OK \n",
            "Extracting  /content/Train Dataset/Pro_train9.csv                        \b\b\b\b 94%\b\b\b\b 95%\b\b\b\b 96%\b\b\b\b 97%\b\b\b\b\b  OK \n",
            "Extracting  /content/Train Dataset/Spi_train.csv                         \b\b\b\b 98%\b\b\b\b\b  OK \n",
            "Extracting  /content/Train Dataset/Ten_train.csv                         \b\b\b\b 99%\b\b\b\b\b  OK \n",
            "All OK\n"
          ]
        }
      ],
      "source": [
        "!pip install unrar\n",
        "!unrar x  \"/content/drive/MyDrive/Dataset.rar\" \"/content\"\n"
      ]
    },
    {
      "cell_type": "code",
      "execution_count": null,
      "metadata": {
        "colab": {
          "base_uri": "https://localhost:8080/"
        },
        "id": "13TR_Mn_BA8g",
        "outputId": "b1e7fe40-a065-4199-c0fa-9316800995d1"
      },
      "outputs": [
        {
          "name": "stdout",
          "output_type": "stream",
          "text": [
            "Sun Feb  9 08:09:33 2025       \n",
            "+-----------------------------------------------------------------------------------------+\n",
            "| NVIDIA-SMI 550.54.15              Driver Version: 550.54.15      CUDA Version: 12.4     |\n",
            "|-----------------------------------------+------------------------+----------------------+\n",
            "| GPU  Name                 Persistence-M | Bus-Id          Disp.A | Volatile Uncorr. ECC |\n",
            "| Fan  Temp   Perf          Pwr:Usage/Cap |           Memory-Usage | GPU-Util  Compute M. |\n",
            "|                                         |                        |               MIG M. |\n",
            "|=========================================+========================+======================|\n",
            "|   0  Tesla T4                       Off |   00000000:00:04.0 Off |                    0 |\n",
            "| N/A   51C    P8             10W /   70W |       0MiB /  15360MiB |      0%      Default |\n",
            "|                                         |                        |                  N/A |\n",
            "+-----------------------------------------+------------------------+----------------------+\n",
            "                                                                                         \n",
            "+-----------------------------------------------------------------------------------------+\n",
            "| Processes:                                                                              |\n",
            "|  GPU   GI   CI        PID   Type   Process name                              GPU Memory |\n",
            "|        ID   ID                                                               Usage      |\n",
            "|=========================================================================================|\n",
            "|  No running processes found                                                             |\n",
            "+-----------------------------------------------------------------------------------------+\n"
          ]
        }
      ],
      "source": [
        "!nvidia-smi"
      ]
    },
    {
      "cell_type": "markdown",
      "source": [
        "# Import all Libraries"
      ],
      "metadata": {
        "id": "uQo4W9lMszAF"
      }
    },
    {
      "cell_type": "code",
      "execution_count": 3,
      "metadata": {
        "id": "OwgpSUYqgV2F"
      },
      "outputs": [],
      "source": [
        "# import cudf\n",
        "# %load_ext cudf.pandas\n",
        "import pandas as pd\n",
        "import sys\n"
      ]
    },
    {
      "cell_type": "markdown",
      "source": [
        "# Import all the datasets"
      ],
      "metadata": {
        "id": "sTueggSPsyf7"
      }
    },
    {
      "cell_type": "markdown",
      "source": [
        "## Actinobacteria"
      ],
      "metadata": {
        "id": "uaDTOYwrs6_h"
      }
    },
    {
      "cell_type": "code",
      "source": [
        "data_Actinobacteria1 = pd.read_csv('/content/Train Dataset/Act_train1.csv')\n",
        "data_Actinobacteria1.info(verbose=False,memory_usage=\"deep\")"
      ],
      "metadata": {
        "colab": {
          "base_uri": "https://localhost:8080/"
        },
        "id": "tJDw2MBqedRM",
        "outputId": "18775326-d563-42a1-cc16-92a1d4412d7f"
      },
      "execution_count": 49,
      "outputs": [
        {
          "output_type": "stream",
          "name": "stdout",
          "text": [
            "<class 'pandas.core.frame.DataFrame'>\n",
            "RangeIndex: 4932 entries, 0 to 4931\n",
            "Columns: 11632 entries, Entry to GO:0001884\n",
            "dtypes: float64(9323), int64(2306), object(3)\n",
            "memory usage: 440.0 MB\n"
          ]
        }
      ]
    },
    {
      "cell_type": "markdown",
      "source": [
        "The memory usage for this dataset is **440MB**. We can reduce this by using other int and float datatypes for smaller number"
      ],
      "metadata": {
        "id": "fZtBh4Bptgjf"
      }
    },
    {
      "cell_type": "markdown",
      "source": [
        "In Pandas for **Integer** data the default dtype is **int64**\n",
        "\n",
        "* **int64** is a signed 64-bit integer range -(2^63) -> (2^63 - 1)\n",
        "\n",
        "Other options are **int8** and **int16**\n",
        "* **int16** is a signed 16-bit integer range -(2^15) -> (2^15 - 1)\n",
        "* **int8** is a signed 8-bit integer range -(2^7) -> (2^7 - 1)\n"
      ],
      "metadata": {
        "id": "5e53HkOMtw6J"
      }
    },
    {
      "cell_type": "code",
      "source": [
        "# define the ranges\n",
        "min_val_8bit, max_val_8bit = -2**7, 2**7 - 1\n",
        "min_val_16bit, max_val_16bit = -2**15, 2**15 - 1"
      ],
      "metadata": {
        "id": "Mpo4LKCGx0FO"
      },
      "execution_count": null,
      "outputs": []
    },
    {
      "cell_type": "code",
      "source": [
        "# Goal: Iterate over all integer columns\n",
        "# If their max and min value can be represented in 8-bit binary then replace with int8\n",
        "# If their max and min value can be represented in 16-bit binary then replace with int16\n",
        "\n",
        "int_cols = data_Actinobacteria1.select_dtypes(include=['int64']).columns\n",
        "for col in int_cols:\n",
        "  if (data_Actinobacteria1[col].max() < max_val_8bit) and (data_Actinobacteria1[col].min() > min_val_8bit):\n",
        "    data_Actinobacteria1[col] = data_Actinobacteria1[col].astype('int8')\n",
        "  elif (data_Actinobacteria1[col].max() < max_val_16bit) and (data_Actinobacteria1[col].min() > min_val_16bit):\n",
        "      data_Actinobacteria1[col] = data_Actinobacteria1[col].astype('int16')"
      ],
      "metadata": {
        "id": "4_dASUDOwnHq"
      },
      "execution_count": 50,
      "outputs": []
    },
    {
      "cell_type": "code",
      "source": [
        "# check change in size\n",
        "data_Actinobacteria1.info(verbose=False,memory_usage=\"deep\")"
      ],
      "metadata": {
        "colab": {
          "base_uri": "https://localhost:8080/"
        },
        "id": "joJo8DWZvcQJ",
        "outputId": "a2b52526-3ea6-4e72-d686-c43acb876089"
      },
      "execution_count": 51,
      "outputs": [
        {
          "output_type": "stream",
          "name": "stdout",
          "text": [
            "<class 'pandas.core.frame.DataFrame'>\n",
            "RangeIndex: 4932 entries, 0 to 4931\n",
            "Columns: 11632 entries, Entry to GO:0001884\n",
            "dtypes: float64(9323), int16(1), int64(2), int8(2303), object(3)\n",
            "memory usage: 364.2 MB\n"
          ]
        }
      ]
    },
    {
      "cell_type": "markdown",
      "source": [
        "In Pandas for **Floating Point** data the default dtype is float64. Floating point numbers are stored using **IEEE 754** standard\n",
        "\n",
        "* **float64** is double precision floating point number ranging -1.7e+308 to +1.7e+308.\n",
        "\n",
        "Other options are **float16** and **float32**\n",
        "* **float32** is a single precision range from -3.4e+38 to 3.4e+38.\n",
        "\n",
        "* **float16** is a half  precision range from -(6.55×104) to +(6.55×104)\n",
        "\n",
        "\n"
      ],
      "metadata": {
        "id": "NfpWawpWtBfy"
      }
    },
    {
      "cell_type": "code",
      "source": [
        "# define the ranges\n",
        "min_val_16bit, max_val_16bit = -6.55*(10**4), 6.55*(10**4)\n",
        "min_val_32bit, max_val_32bit = -3.4*(10**38), 3.4*(10**38)"
      ],
      "metadata": {
        "id": "8rhV-qoZx3eg"
      },
      "execution_count": null,
      "outputs": []
    },
    {
      "cell_type": "code",
      "source": [
        "# Goal: Iterate over all float columns\n",
        "# If their max and min value can be represented in 16-bit binary then replace with float16\n",
        "# If their max and min value can be represented in 32-bit binary then replace with float32\n",
        "\n",
        "float_cols = data_Actinobacteria1.select_dtypes(include=['float64']).columns\n",
        "for col in float_cols:\n",
        "  if (data_Actinobacteria1[col].max() < max_val_16bit) and (data_Actinobacteria1[col].min() > min_val_16bit):\n",
        "      data_Actinobacteria1[col] = data_Actinobacteria1[col].astype('float16')\n",
        "  elif (data_Actinobacteria1[col].max() < max_val_32bit) and (data_Actinobacteria1[col].min() > min_val_32bit):\n",
        "    data_Actinobacteria1[col] = data_Actinobacteria1[col].astype('float32')\n"
      ],
      "metadata": {
        "id": "SHD1Wlu5wXlI"
      },
      "execution_count": 52,
      "outputs": []
    },
    {
      "cell_type": "code",
      "source": [
        "# check change in size\n",
        "data_Actinobacteria1.info(verbose=False,memory_usage=\"deep\")"
      ],
      "metadata": {
        "colab": {
          "base_uri": "https://localhost:8080/"
        },
        "outputId": "5a93e343-a724-47c1-88f6-237073a15edb",
        "id": "_E63-0VVwzEa"
      },
      "execution_count": 53,
      "outputs": [
        {
          "output_type": "stream",
          "name": "stdout",
          "text": [
            "<class 'pandas.core.frame.DataFrame'>\n",
            "RangeIndex: 4932 entries, 0 to 4931\n",
            "Columns: 11632 entries, Entry to GO:0001884\n",
            "dtypes: float16(9322), float32(1), int16(1), int64(2), int8(2303), object(3)\n",
            "memory usage: 101.1 MB\n"
          ]
        }
      ]
    },
    {
      "cell_type": "markdown",
      "source": [
        "The size has been reduced to **101.1MB**"
      ],
      "metadata": {
        "id": "hMBwQGc8tF2J"
      }
    },
    {
      "cell_type": "code",
      "source": [
        "data_Actinobacteria2 = pd.read_csv('/content/Train Dataset/Act_train2.csv')\n",
        "data_Actinobacteria2.info(verbose=False,memory_usage=\"deep\")\n"
      ],
      "metadata": {
        "colab": {
          "base_uri": "https://localhost:8080/"
        },
        "id": "1w8R6G-ae_ib",
        "outputId": "8c6c65c9-4589-47ea-d182-12ff45f3dea5"
      },
      "execution_count": 55,
      "outputs": [
        {
          "output_type": "stream",
          "name": "stdout",
          "text": [
            "<class 'pandas.core.frame.DataFrame'>\n",
            "RangeIndex: 4932 entries, 0 to 4931\n",
            "Columns: 11632 entries, Entry to GO:0001884\n",
            "dtypes: float64(9323), int64(2306), object(3)\n",
            "memory usage: 440.1 MB\n"
          ]
        }
      ]
    },
    {
      "cell_type": "code",
      "source": [
        "# reduce any int64 columns\n",
        "int_cols = data_Actinobacteria2.select_dtypes(include=['int64']).columns\n",
        "for col in int_cols:\n",
        "  if (data_Actinobacteria2[col].max() < max_val_8bit) and (data_Actinobacteria2[col].min() > min_val_8bit):\n",
        "    data_Actinobacteria2[col] = data_Actinobacteria2[col].astype('int8')\n",
        "  elif (data_Actinobacteria2[col].max() < max_val_16bit) and (data_Actinobacteria2[col].min() > min_val_16bit):\n",
        "      data_Actinobacteria2[col] = data_Actinobacteria2[col].astype('int16')\n",
        "\n",
        "\n",
        "# reduce any float64 columns\n",
        "float_cols = data_Actinobacteria2.select_dtypes(include=['float64']).columns\n",
        "for col in float_cols:\n",
        "  if (data_Actinobacteria2[col].max() < max_val_16bit) and (data_Actinobacteria2[col].min() > min_val_16bit):\n",
        "      data_Actinobacteria2[col] = data_Actinobacteria2[col].astype('float16')\n",
        "  elif (data_Actinobacteria2[col].max() < max_val_32bit) and (data_Actinobacteria2[col].min() > min_val_32bit):\n",
        "    data_Actinobacteria2[col] = data_Actinobacteria2[col].astype('float32')\n",
        "\n",
        "\n",
        "\n",
        "data_Actinobacteria2.info(verbose=False,memory_usage=\"deep\")"
      ],
      "metadata": {
        "colab": {
          "base_uri": "https://localhost:8080/"
        },
        "id": "07ySlclZx8D6",
        "outputId": "f0038793-9bed-44bc-87e7-5023979ab664"
      },
      "execution_count": 56,
      "outputs": [
        {
          "output_type": "stream",
          "name": "stdout",
          "text": [
            "<class 'pandas.core.frame.DataFrame'>\n",
            "RangeIndex: 4932 entries, 0 to 4931\n",
            "Columns: 11632 entries, Entry to GO:0001884\n",
            "dtypes: float16(9322), float32(1), int16(1), int64(2), int8(2303), object(3)\n",
            "memory usage: 101.1 MB\n"
          ]
        }
      ]
    },
    {
      "cell_type": "markdown",
      "source": [
        "## Bacteroidetes"
      ],
      "metadata": {
        "id": "H_ZjCsU2tFlJ"
      }
    },
    {
      "cell_type": "code",
      "source": [
        "data_Bacteroidetes = pd.read_csv('/content/Train Dataset/Bac_train.csv')\n",
        "data_Bacteroidetes.info(verbose=False,memory_usage=\"deep\")"
      ],
      "metadata": {
        "colab": {
          "base_uri": "https://localhost:8080/"
        },
        "id": "faTFThCIhSvs",
        "outputId": "ba07caa2-4e62-4810-b398-b687629b404d"
      },
      "execution_count": 57,
      "outputs": [
        {
          "output_type": "stream",
          "name": "stdout",
          "text": [
            "<class 'pandas.core.frame.DataFrame'>\n",
            "RangeIndex: 3149 entries, 0 to 3148\n",
            "Columns: 11632 entries, Entry to GO:0001884\n",
            "dtypes: float64(11629), object(3)\n",
            "memory usage: 280.9 MB\n"
          ]
        }
      ]
    },
    {
      "cell_type": "code",
      "source": [
        "# reduce any int64 columns\n",
        "int_cols = data_Bacteroidetes.select_dtypes(include=['int64']).columns\n",
        "for col in int_cols:\n",
        "  if (data_Bacteroidetes[col].max() < max_val_8bit) and (data_Bacteroidetes[col].min() > min_val_8bit):\n",
        "    data_Bacteroidetes[col] = data_Bacteroidetes[col].astype('int8')\n",
        "  elif (data_Bacteroidetes[col].max() < max_val_16bit) and (data_Bacteroidetes[col].min() > min_val_16bit):\n",
        "      data_Bacteroidetes[col] = data_Bacteroidetes[col].astype('int16')\n",
        "\n",
        "\n",
        "# reduce any float64 columns\n",
        "float_cols = data_Bacteroidetes.select_dtypes(include=['float64']).columns\n",
        "for col in float_cols:\n",
        "  if (data_Bacteroidetes[col].max() < max_val_16bit) and (data_Bacteroidetes[col].min() > min_val_16bit):\n",
        "      data_Bacteroidetes[col] = data_Bacteroidetes[col].astype('float16')\n",
        "  elif (data_Bacteroidetes[col].max() < max_val_32bit) and (data_Bacteroidetes[col].min() > min_val_32bit):\n",
        "    data_Bacteroidetes[col] = data_Bacteroidetes[col].astype('float32')\n",
        "\n",
        "\n",
        "\n",
        "data_Bacteroidetes.info(verbose=False,memory_usage=\"deep\")"
      ],
      "metadata": {
        "colab": {
          "base_uri": "https://localhost:8080/"
        },
        "id": "JbTn3bFHytL-",
        "outputId": "cdba02cf-f7dc-4858-add6-4ffadbb03aa5"
      },
      "execution_count": 58,
      "outputs": [
        {
          "output_type": "stream",
          "name": "stdout",
          "text": [
            "<class 'pandas.core.frame.DataFrame'>\n",
            "RangeIndex: 3149 entries, 0 to 3148\n",
            "Columns: 11632 entries, Entry to GO:0001884\n",
            "dtypes: float16(11626), float32(3), object(3)\n",
            "memory usage: 71.4 MB\n"
          ]
        }
      ]
    },
    {
      "cell_type": "markdown",
      "source": [
        "## Chlamydiae"
      ],
      "metadata": {
        "id": "vOA9T2jLtFb6"
      }
    },
    {
      "cell_type": "code",
      "source": [
        "data_Chlamydiae = pd.read_csv('/content/Train Dataset/Chl_train.csv')\n",
        "data_Chlamydiae.info(verbose=False,memory_usage=\"deep\")\n"
      ],
      "metadata": {
        "colab": {
          "base_uri": "https://localhost:8080/"
        },
        "id": "1Xxl8zX2iL1n",
        "outputId": "b4a0c9bf-8032-4e44-b29a-cd49e2547b50"
      },
      "execution_count": 59,
      "outputs": [
        {
          "output_type": "stream",
          "name": "stdout",
          "text": [
            "<class 'pandas.core.frame.DataFrame'>\n",
            "RangeIndex: 1309 entries, 0 to 1308\n",
            "Columns: 11632 entries, Entry to GO:0001884\n",
            "dtypes: float64(9214), int64(2415), object(3)\n",
            "memory usage: 116.8 MB\n"
          ]
        }
      ]
    },
    {
      "cell_type": "code",
      "source": [
        "# reduce any int64 columns\n",
        "int_cols = data_Chlamydiae.select_dtypes(include=['int64']).columns\n",
        "for col in int_cols:\n",
        "  if (data_Chlamydiae[col].max() < max_val_8bit) and (data_Chlamydiae[col].min() > min_val_8bit):\n",
        "    data_Chlamydiae[col] = data_Chlamydiae[col].astype('int8')\n",
        "  elif (data_Chlamydiae[col].max() < max_val_16bit) and (data_Chlamydiae[col].min() > min_val_16bit):\n",
        "      data_Chlamydiae[col] = data_Chlamydiae[col].astype('int16')\n",
        "\n",
        "\n",
        "# reduce any float64 columns\n",
        "float_cols = data_Chlamydiae.select_dtypes(include=['float64']).columns\n",
        "for col in float_cols:\n",
        "  if (data_Chlamydiae[col].max() < max_val_16bit) and (data_Chlamydiae[col].min() > min_val_16bit):\n",
        "      data_Chlamydiae[col] = data_Chlamydiae[col].astype('float16')\n",
        "  elif (data_Chlamydiae[col].max() < max_val_32bit) and (data_Chlamydiae[col].min() > min_val_32bit):\n",
        "    data_Chlamydiae[col] = data_Chlamydiae[col].astype('float32')\n",
        "\n",
        "\n",
        "\n",
        "data_Chlamydiae.info(verbose=False,memory_usage=\"deep\")"
      ],
      "metadata": {
        "colab": {
          "base_uri": "https://localhost:8080/"
        },
        "outputId": "36c57838-0329-475a-b7db-72f30dc85758",
        "id": "KMNFQ6ezzdEr"
      },
      "execution_count": 60,
      "outputs": [
        {
          "output_type": "stream",
          "name": "stdout",
          "text": [
            "<class 'pandas.core.frame.DataFrame'>\n",
            "RangeIndex: 1309 entries, 0 to 1308\n",
            "Columns: 11632 entries, Entry to GO:0001884\n",
            "dtypes: float16(9213), float32(1), int16(1), int64(2), int8(2412), object(3)\n",
            "memory usage: 26.7 MB\n"
          ]
        }
      ]
    },
    {
      "cell_type": "markdown",
      "source": [
        "## Cyanobacteria"
      ],
      "metadata": {
        "id": "xRkSasHztFS5"
      }
    },
    {
      "cell_type": "code",
      "source": [
        "data_Cyanobacteria = pd.read_csv('/content/Train Dataset/Cya_train.csv')\n",
        "data_Cyanobacteria.info(verbose=False,memory_usage=\"deep\")\n"
      ],
      "metadata": {
        "colab": {
          "base_uri": "https://localhost:8080/"
        },
        "id": "zbNlukg4hSSw",
        "outputId": "936a6922-eaeb-4df2-e140-51557a98c707"
      },
      "execution_count": 61,
      "outputs": [
        {
          "output_type": "stream",
          "name": "stdout",
          "text": [
            "<class 'pandas.core.frame.DataFrame'>\n",
            "RangeIndex: 5459 entries, 0 to 5458\n",
            "Columns: 11632 entries, Entry to GO:0001884\n",
            "dtypes: float64(9318), int64(2311), object(3)\n",
            "memory usage: 487.0 MB\n"
          ]
        }
      ]
    },
    {
      "cell_type": "code",
      "source": [
        "# reduce any int64 columns\n",
        "int_cols = data_Cyanobacteria.select_dtypes(include=['int64']).columns\n",
        "for col in int_cols:\n",
        "  if (data_Cyanobacteria[col].max() < max_val_8bit) and (data_Cyanobacteria[col].min() > min_val_8bit):\n",
        "    data_Cyanobacteria[col] = data_Cyanobacteria[col].astype('int8')\n",
        "  elif (data_Cyanobacteria[col].max() < max_val_16bit) and (data_Cyanobacteria[col].min() > min_val_16bit):\n",
        "      data_Cyanobacteria[col] = data_Cyanobacteria[col].astype('int16')\n",
        "\n",
        "\n",
        "# reduce any float64 columns\n",
        "float_cols = data_Cyanobacteria.select_dtypes(include=['float64']).columns\n",
        "for col in float_cols:\n",
        "  if (data_Cyanobacteria[col].max() < max_val_16bit) and (data_Cyanobacteria[col].min() > min_val_16bit):\n",
        "      data_Cyanobacteria[col] = data_Cyanobacteria[col].astype('float16')\n",
        "  elif (data_Cyanobacteria[col].max() < max_val_32bit) and (data_Cyanobacteria[col].min() > min_val_32bit):\n",
        "    data_Cyanobacteria[col] = data_Cyanobacteria[col].astype('float32')\n",
        "\n",
        "\n",
        "\n",
        "data_Cyanobacteria.info(verbose=False,memory_usage=\"deep\")"
      ],
      "metadata": {
        "colab": {
          "base_uri": "https://localhost:8080/"
        },
        "outputId": "e053eca2-c88b-4856-a5f9-fd324ae03922",
        "id": "fPaUJvm3zp1s"
      },
      "execution_count": 62,
      "outputs": [
        {
          "output_type": "stream",
          "name": "stdout",
          "text": [
            "<class 'pandas.core.frame.DataFrame'>\n",
            "RangeIndex: 5459 entries, 0 to 5458\n",
            "Columns: 11632 entries, Entry to GO:0001884\n",
            "dtypes: float16(9317), float32(1), int16(1), int64(2), int8(2308), object(3)\n",
            "memory usage: 111.8 MB\n"
          ]
        }
      ]
    },
    {
      "cell_type": "markdown",
      "source": [
        "## Firmicutes"
      ],
      "metadata": {
        "id": "AiX1nWiLtFGw"
      }
    },
    {
      "cell_type": "code",
      "source": [
        "data_Firmicutes1 = pd.read_csv('/content/Train Dataset/Fir_train1.csv')\n",
        "data_Firmicutes1.info(verbose=False,memory_usage=\"deep\")\n"
      ],
      "metadata": {
        "colab": {
          "base_uri": "https://localhost:8080/"
        },
        "id": "m6HtIh2XhTMj",
        "outputId": "16919123-1469-44a6-ca0f-39bed9e3695e"
      },
      "execution_count": 63,
      "outputs": [
        {
          "output_type": "stream",
          "name": "stdout",
          "text": [
            "<class 'pandas.core.frame.DataFrame'>\n",
            "RangeIndex: 2697 entries, 0 to 2696\n",
            "Columns: 11632 entries, Entry to GO:0001884\n",
            "dtypes: float64(9329), int64(2300), object(3)\n",
            "memory usage: 240.7 MB\n"
          ]
        }
      ]
    },
    {
      "cell_type": "code",
      "source": [
        "# reduce any int64 columns\n",
        "int_cols = data_Firmicutes1.select_dtypes(include=['int64']).columns\n",
        "for col in int_cols:\n",
        "  if (data_Firmicutes1[col].max() < max_val_8bit) and (data_Firmicutes1[col].min() > min_val_8bit):\n",
        "    data_Firmicutes1[col] = data_Firmicutes1[col].astype('int8')\n",
        "  elif (data_Firmicutes1[col].max() < max_val_16bit) and (data_Firmicutes1[col].min() > min_val_16bit):\n",
        "      data_Firmicutes1[col] = data_Firmicutes1[col].astype('int16')\n",
        "\n",
        "\n",
        "# reduce any float64 columns\n",
        "float_cols = data_Firmicutes1.select_dtypes(include=['float64']).columns\n",
        "for col in float_cols:\n",
        "  if (data_Firmicutes1[col].max() < max_val_16bit) and (data_Firmicutes1[col].min() > min_val_16bit):\n",
        "      data_Firmicutes1[col] = data_Firmicutes1[col].astype('float16')\n",
        "  elif (data_Firmicutes1[col].max() < max_val_32bit) and (data_Firmicutes1[col].min() > min_val_32bit):\n",
        "    data_Firmicutes1[col] = data_Firmicutes1[col].astype('float32')\n",
        "\n",
        "\n",
        "\n",
        "data_Firmicutes1.info(verbose=False,memory_usage=\"deep\")"
      ],
      "metadata": {
        "colab": {
          "base_uri": "https://localhost:8080/"
        },
        "outputId": "3335fed0-6cd7-48ee-8c08-a0879695854c",
        "id": "RLSjsnIKz8py"
      },
      "execution_count": 64,
      "outputs": [
        {
          "output_type": "stream",
          "name": "stdout",
          "text": [
            "<class 'pandas.core.frame.DataFrame'>\n",
            "RangeIndex: 2697 entries, 0 to 2696\n",
            "Columns: 11632 entries, Entry to GO:0001884\n",
            "dtypes: float16(9328), float32(1), int16(1), int64(2), int8(2297), object(3)\n",
            "memory usage: 55.3 MB\n"
          ]
        }
      ]
    },
    {
      "cell_type": "code",
      "source": [
        "data_Firmicutes2 = pd.read_csv('/content/Train Dataset/Fir_train2.csv')\n",
        "data_Firmicutes2.info(verbose=False,memory_usage=\"deep\")\n"
      ],
      "metadata": {
        "colab": {
          "base_uri": "https://localhost:8080/"
        },
        "id": "YAs4ePHIhUeC",
        "outputId": "b45444a9-8939-4c10-f8ba-f67b21d06611"
      },
      "execution_count": 65,
      "outputs": [
        {
          "output_type": "stream",
          "name": "stdout",
          "text": [
            "<class 'pandas.core.frame.DataFrame'>\n",
            "RangeIndex: 5993 entries, 0 to 5992\n",
            "Columns: 11632 entries, Entry to GO:0001884\n",
            "dtypes: float64(9329), int64(2300), object(3)\n",
            "memory usage: 534.3 MB\n"
          ]
        }
      ]
    },
    {
      "cell_type": "code",
      "source": [
        "# reduce any int64 columns\n",
        "int_cols = data_Firmicutes2.select_dtypes(include=['int64']).columns\n",
        "for col in int_cols:\n",
        "  if (data_Firmicutes2[col].max() < max_val_8bit) and (data_Firmicutes2[col].min() > min_val_8bit):\n",
        "    data_Firmicutes2[col] = data_Firmicutes2[col].astype('int8')\n",
        "  elif (data_Firmicutes2[col].max() < max_val_16bit) and (data_Firmicutes2[col].min() > min_val_16bit):\n",
        "      data_Firmicutes2[col] = data_Firmicutes2[col].astype('int16')\n",
        "\n",
        "\n",
        "# reduce any float64 columns\n",
        "float_cols = data_Firmicutes2.select_dtypes(include=['float64']).columns\n",
        "for col in float_cols:\n",
        "  if (data_Firmicutes2[col].max() < max_val_16bit) and (data_Firmicutes2[col].min() > min_val_16bit):\n",
        "      data_Firmicutes2[col] = data_Firmicutes2[col].astype('float16')\n",
        "  elif (data_Firmicutes2[col].max() < max_val_32bit) and (data_Firmicutes2[col].min() > min_val_32bit):\n",
        "    data_Firmicutes2[col] = data_Firmicutes2[col].astype('float32')\n",
        "\n",
        "\n",
        "\n",
        "data_Firmicutes2.info(verbose=False,memory_usage=\"deep\")"
      ],
      "metadata": {
        "colab": {
          "base_uri": "https://localhost:8080/"
        },
        "outputId": "224b93ff-9a85-450c-8ac0-54dea7e777e9",
        "id": "35KQ5jOp0MAQ"
      },
      "execution_count": 66,
      "outputs": [
        {
          "output_type": "stream",
          "name": "stdout",
          "text": [
            "<class 'pandas.core.frame.DataFrame'>\n",
            "RangeIndex: 5993 entries, 0 to 5992\n",
            "Columns: 11632 entries, Entry to GO:0001884\n",
            "dtypes: float16(9328), float32(1), int16(1), int64(2), int8(2297), object(3)\n",
            "memory usage: 122.5 MB\n"
          ]
        }
      ]
    },
    {
      "cell_type": "markdown",
      "source": [
        "## Fusobacteria"
      ],
      "metadata": {
        "id": "ahYEN-w9tE41"
      }
    },
    {
      "cell_type": "code",
      "source": [
        "data_Fusobacteria = pd.read_csv('/content/Train Dataset/Fuso_train.csv')\n",
        "data_Fusobacteria.info(verbose=False,memory_usage=\"deep\")\n"
      ],
      "metadata": {
        "colab": {
          "base_uri": "https://localhost:8080/"
        },
        "id": "UcwNCG-khU7P",
        "outputId": "061a81e5-b9fc-4b47-ddcc-eda5df59a956"
      },
      "execution_count": 67,
      "outputs": [
        {
          "output_type": "stream",
          "name": "stdout",
          "text": [
            "<class 'pandas.core.frame.DataFrame'>\n",
            "RangeIndex: 187 entries, 0 to 186\n",
            "Columns: 11632 entries, Entry to GO:0001884\n",
            "dtypes: float64(8414), int64(3215), object(3)\n",
            "memory usage: 16.7 MB\n"
          ]
        }
      ]
    },
    {
      "cell_type": "code",
      "source": [
        "# reduce any int64 columns\n",
        "int_cols = data_Fusobacteria.select_dtypes(include=['int64']).columns\n",
        "for col in int_cols:\n",
        "  if (data_Fusobacteria[col].max() < max_val_8bit) and (data_Fusobacteria[col].min() > min_val_8bit):\n",
        "    data_Fusobacteria[col] = data_Fusobacteria[col].astype('int8')\n",
        "  elif (data_Fusobacteria[col].max() < max_val_16bit) and (data_Fusobacteria[col].min() > min_val_16bit):\n",
        "      data_Fusobacteria[col] = data_Fusobacteria[col].astype('int16')\n",
        "\n",
        "\n",
        "# reduce any float64 columns\n",
        "float_cols = data_Fusobacteria.select_dtypes(include=['float64']).columns\n",
        "for col in float_cols:\n",
        "  if (data_Fusobacteria[col].max() < max_val_16bit) and (data_Fusobacteria[col].min() > min_val_16bit):\n",
        "      data_Fusobacteria[col] = data_Fusobacteria[col].astype('float16')\n",
        "  elif (data_Fusobacteria[col].max() < max_val_32bit) and (data_Fusobacteria[col].min() > min_val_32bit):\n",
        "    data_Fusobacteria[col] = data_Fusobacteria[col].astype('float32')\n",
        "\n",
        "\n",
        "\n",
        "data_Fusobacteria.info(verbose=False,memory_usage=\"deep\")"
      ],
      "metadata": {
        "colab": {
          "base_uri": "https://localhost:8080/"
        },
        "outputId": "c9c5f236-2378-4460-ca32-acfd0b47cc12",
        "id": "VxFYtnCr0mQF"
      },
      "execution_count": 68,
      "outputs": [
        {
          "output_type": "stream",
          "name": "stdout",
          "text": [
            "<class 'pandas.core.frame.DataFrame'>\n",
            "RangeIndex: 187 entries, 0 to 186\n",
            "Columns: 11632 entries, Entry to GO:0001884\n",
            "dtypes: float16(8413), float32(1), int16(1), int64(2), int8(3212), object(3)\n",
            "memory usage: 3.7 MB\n"
          ]
        }
      ]
    },
    {
      "cell_type": "markdown",
      "source": [
        "## Proteobacteria"
      ],
      "metadata": {
        "id": "awEyhc6RtEgP"
      }
    },
    {
      "cell_type": "code",
      "source": [
        "data_Proteobacteria = pd.read_csv('/content/Train Dataset/Pro_train1.csv')\n",
        "data_Proteobacteria.info(verbose=False,memory_usage=\"deep\")\n"
      ],
      "metadata": {
        "colab": {
          "base_uri": "https://localhost:8080/"
        },
        "id": "ZLstACqYiXcN",
        "outputId": "df061a76-f85f-499d-d97f-0869855630d1"
      },
      "execution_count": 69,
      "outputs": [
        {
          "output_type": "stream",
          "name": "stdout",
          "text": [
            "<class 'pandas.core.frame.DataFrame'>\n",
            "RangeIndex: 4993 entries, 0 to 4992\n",
            "Columns: 11632 entries, Entry to GO:0001884\n",
            "dtypes: float64(9303), int64(2326), object(3)\n",
            "memory usage: 445.9 MB\n"
          ]
        }
      ]
    },
    {
      "cell_type": "code",
      "source": [
        "# reduce any int64 columns\n",
        "int_cols = data_Proteobacteria.select_dtypes(include=['int64']).columns\n",
        "for col in int_cols:\n",
        "  if (data_Proteobacteria[col].max() < max_val_8bit) and (data_Proteobacteria[col].min() > min_val_8bit):\n",
        "    data_Proteobacteria[col] = data_Proteobacteria[col].astype('int8')\n",
        "  elif (data_Proteobacteria[col].max() < max_val_16bit) and (data_Proteobacteria[col].min() > min_val_16bit):\n",
        "      data_Proteobacteria[col] = data_Proteobacteria[col].astype('int16')\n",
        "\n",
        "\n",
        "# reduce any float64 columns\n",
        "float_cols = data_Proteobacteria.select_dtypes(include=['float64']).columns\n",
        "for col in float_cols:\n",
        "  if (data_Proteobacteria[col].max() < max_val_16bit) and (data_Proteobacteria[col].min() > min_val_16bit):\n",
        "      data_Proteobacteria[col] = data_Proteobacteria[col].astype('float16')\n",
        "  elif (data_Proteobacteria[col].max() < max_val_32bit) and (data_Proteobacteria[col].min() > min_val_32bit):\n",
        "    data_Proteobacteria[col] = data_Proteobacteria[col].astype('float32')\n",
        "\n",
        "\n",
        "\n",
        "data_Proteobacteria.info(verbose=False,memory_usage=\"deep\")"
      ],
      "metadata": {
        "colab": {
          "base_uri": "https://localhost:8080/"
        },
        "outputId": "9ddce3b8-8fa7-40aa-c9ad-2a6f693d0f6b",
        "id": "xQGrrJiN07MG"
      },
      "execution_count": 70,
      "outputs": [
        {
          "output_type": "stream",
          "name": "stdout",
          "text": [
            "<class 'pandas.core.frame.DataFrame'>\n",
            "RangeIndex: 4993 entries, 0 to 4992\n",
            "Columns: 11632 entries, Entry to GO:0001884\n",
            "dtypes: float16(9302), float32(1), int16(1), int64(2), int8(2323), object(3)\n",
            "memory usage: 102.7 MB\n"
          ]
        }
      ]
    },
    {
      "cell_type": "code",
      "source": [
        "data_Proteobacteria4 = pd.read_csv('/content/Train Dataset/Pro_train4.csv')\n",
        "data_Proteobacteria4.info(verbose=False,memory_usage=\"deep\")\n"
      ],
      "metadata": {
        "colab": {
          "base_uri": "https://localhost:8080/"
        },
        "id": "MONGS16viXWt",
        "outputId": "fdb56a2c-72a4-4e41-8df7-fa5daf0a828d"
      },
      "execution_count": 71,
      "outputs": [
        {
          "output_type": "stream",
          "name": "stdout",
          "text": [
            "<class 'pandas.core.frame.DataFrame'>\n",
            "RangeIndex: 4994 entries, 0 to 4993\n",
            "Columns: 11632 entries, Entry to GO:0001884\n",
            "dtypes: float64(9177), int64(2452), object(3)\n",
            "memory usage: 445.3 MB\n"
          ]
        }
      ]
    },
    {
      "cell_type": "code",
      "source": [
        "# reduce any int64 columns\n",
        "int_cols = data_Proteobacteria4.select_dtypes(include=['int64']).columns\n",
        "for col in int_cols:\n",
        "  if (data_Proteobacteria4[col].max() < max_val_8bit) and (data_Proteobacteria4[col].min() > min_val_8bit):\n",
        "    data_Proteobacteria4[col] = data_Proteobacteria4[col].astype('int8')\n",
        "  elif (data_Proteobacteria4[col].max() < max_val_16bit) and (data_Proteobacteria4[col].min() > min_val_16bit):\n",
        "      data_Proteobacteria4[col] = data_Proteobacteria4[col].astype('int16')\n",
        "\n",
        "\n",
        "# reduce any float64 columns\n",
        "float_cols = data_Proteobacteria4.select_dtypes(include=['float64']).columns\n",
        "for col in float_cols:\n",
        "  if (data_Proteobacteria4[col].max() < max_val_16bit) and (data_Proteobacteria4[col].min() > min_val_16bit):\n",
        "      data_Proteobacteria4[col] = data_Proteobacteria4[col].astype('float16')\n",
        "  elif (data_Proteobacteria4[col].max() < max_val_32bit) and (data_Proteobacteria4[col].min() > min_val_32bit):\n",
        "    data_Proteobacteria4[col] = data_Proteobacteria4[col].astype('float32')\n",
        "\n",
        "\n",
        "\n",
        "data_Proteobacteria4.info(verbose=False,memory_usage=\"deep\")"
      ],
      "metadata": {
        "colab": {
          "base_uri": "https://localhost:8080/"
        },
        "outputId": "4fe6d56e-5385-489d-a2e0-204c3529753b",
        "id": "yS4TyyhR08E4"
      },
      "execution_count": 72,
      "outputs": [
        {
          "output_type": "stream",
          "name": "stdout",
          "text": [
            "<class 'pandas.core.frame.DataFrame'>\n",
            "RangeIndex: 4994 entries, 0 to 4993\n",
            "Columns: 11632 entries, Entry to GO:0001884\n",
            "dtypes: float16(9176), float32(1), int16(1), int64(2), int8(2449), object(3)\n",
            "memory usage: 101.4 MB\n"
          ]
        }
      ]
    },
    {
      "cell_type": "code",
      "source": [
        "data_Proteobacteria5 = pd.read_csv('/content/Train Dataset/Pro_train5.csv')\n",
        "data_Proteobacteria5.info(verbose=False,memory_usage=\"deep\")\n"
      ],
      "metadata": {
        "colab": {
          "base_uri": "https://localhost:8080/"
        },
        "id": "mB9NvhJ5iXSK",
        "outputId": "dfa4e829-1b51-49df-91dd-f3d98c0563bb"
      },
      "execution_count": 73,
      "outputs": [
        {
          "output_type": "stream",
          "name": "stdout",
          "text": [
            "<class 'pandas.core.frame.DataFrame'>\n",
            "RangeIndex: 4998 entries, 0 to 4997\n",
            "Columns: 11632 entries, Entry to GO:0001884\n",
            "dtypes: float64(8455), int64(3174), object(3)\n",
            "memory usage: 445.0 MB\n"
          ]
        }
      ]
    },
    {
      "cell_type": "code",
      "source": [
        "# reduce any int64 columns\n",
        "int_cols = data_Proteobacteria5.select_dtypes(include=['int64']).columns\n",
        "for col in int_cols:\n",
        "  if (data_Proteobacteria5[col].max() < max_val_8bit) and (data_Proteobacteria5[col].min() > min_val_8bit):\n",
        "    data_Proteobacteria5[col] = data_Proteobacteria5[col].astype('int8')\n",
        "  elif (data_Proteobacteria5[col].max() < max_val_16bit) and (data_Proteobacteria5[col].min() > min_val_16bit):\n",
        "      data_Proteobacteria5[col] = data_Proteobacteria5[col].astype('int16')\n",
        "\n",
        "\n",
        "# reduce any float64 columns\n",
        "float_cols = data_Proteobacteria5.select_dtypes(include=['float64']).columns\n",
        "for col in float_cols:\n",
        "  if (data_Proteobacteria5[col].max() < max_val_16bit) and (data_Proteobacteria5[col].min() > min_val_16bit):\n",
        "      data_Proteobacteria5[col] = data_Proteobacteria5[col].astype('float16')\n",
        "  elif (data_Proteobacteria5[col].max() < max_val_32bit) and (data_Proteobacteria5[col].min() > min_val_32bit):\n",
        "    data_Proteobacteria5[col] = data_Proteobacteria5[col].astype('float32')\n",
        "\n",
        "\n",
        "\n",
        "data_Proteobacteria5.info(verbose=False,memory_usage=\"deep\")"
      ],
      "metadata": {
        "colab": {
          "base_uri": "https://localhost:8080/"
        },
        "outputId": "6216a011-3336-41cc-e185-615c8f20fdf8",
        "id": "n3wNBHDO08y4"
      },
      "execution_count": 74,
      "outputs": [
        {
          "output_type": "stream",
          "name": "stdout",
          "text": [
            "<class 'pandas.core.frame.DataFrame'>\n",
            "RangeIndex: 4998 entries, 0 to 4997\n",
            "Columns: 11632 entries, Entry to GO:0001884\n",
            "dtypes: float16(8455), int16(3), int8(3171), object(3)\n",
            "memory usage: 97.3 MB\n"
          ]
        }
      ]
    },
    {
      "cell_type": "markdown",
      "source": [
        "## Spirochaetes"
      ],
      "metadata": {
        "id": "rCV-Xs0d09r7"
      }
    },
    {
      "cell_type": "code",
      "source": [
        "data_Spirochaetes = pd.read_csv('/content/Train Dataset/Spi_train.csv')\n",
        "data_Spirochaetes.info(verbose=False,memory_usage=\"deep\")\n"
      ],
      "metadata": {
        "colab": {
          "base_uri": "https://localhost:8080/"
        },
        "id": "BhowRG_IiXM6",
        "outputId": "066afe60-4557-4540-9540-e267110fbc71"
      },
      "execution_count": 75,
      "outputs": [
        {
          "output_type": "stream",
          "name": "stdout",
          "text": [
            "<class 'pandas.core.frame.DataFrame'>\n",
            "RangeIndex: 1940 entries, 0 to 1939\n",
            "Columns: 11632 entries, Entry to GO:0001884\n",
            "dtypes: float64(9144), int64(2485), object(3)\n",
            "memory usage: 173.1 MB\n"
          ]
        }
      ]
    },
    {
      "cell_type": "code",
      "source": [
        "# reduce any int64 columns\n",
        "int_cols = data_Spirochaetes.select_dtypes(include=['int64']).columns\n",
        "for col in int_cols:\n",
        "  if (data_Spirochaetes[col].max() < max_val_8bit) and (data_Spirochaetes[col].min() > min_val_8bit):\n",
        "    data_Spirochaetes[col] = data_Spirochaetes[col].astype('int8')\n",
        "  elif (data_Spirochaetes[col].max() < max_val_16bit) and (data_Spirochaetes[col].min() > min_val_16bit):\n",
        "      data_Spirochaetes[col] = data_Spirochaetes[col].astype('int16')\n",
        "\n",
        "\n",
        "# reduce any float64 columns\n",
        "float_cols = data_Spirochaetes.select_dtypes(include=['float64']).columns\n",
        "for col in float_cols:\n",
        "  if (data_Spirochaetes[col].max() < max_val_16bit) and (data_Spirochaetes[col].min() > min_val_16bit):\n",
        "      data_Spirochaetes[col] = data_Spirochaetes[col].astype('float16')\n",
        "  elif (data_Spirochaetes[col].max() < max_val_32bit) and (data_Spirochaetes[col].min() > min_val_32bit):\n",
        "    data_Spirochaetes[col] = data_Spirochaetes[col].astype('float32')\n",
        "\n",
        "\n",
        "\n",
        "data_Spirochaetes.info(verbose=False,memory_usage=\"deep\")"
      ],
      "metadata": {
        "colab": {
          "base_uri": "https://localhost:8080/"
        },
        "id": "72sAGKj11K0U",
        "outputId": "67e60407-9b76-499a-be9a-07eb071c53f9"
      },
      "execution_count": 76,
      "outputs": [
        {
          "output_type": "stream",
          "name": "stdout",
          "text": [
            "<class 'pandas.core.frame.DataFrame'>\n",
            "RangeIndex: 1940 entries, 0 to 1939\n",
            "Columns: 11632 entries, Entry to GO:0001884\n",
            "dtypes: float16(9143), float32(1), int16(1), int64(2), int8(2482), object(3)\n",
            "memory usage: 39.4 MB\n"
          ]
        }
      ]
    },
    {
      "cell_type": "markdown",
      "source": [
        "## Tenericutes"
      ],
      "metadata": {
        "id": "zXmHtzLd1P2B"
      }
    },
    {
      "cell_type": "code",
      "source": [
        "data_Tenericutes = pd.read_csv('/content/Train Dataset/Ten_train.csv')\n",
        "data_Tenericutes.info(verbose=False,memory_usage=\"deep\")\n"
      ],
      "metadata": {
        "colab": {
          "base_uri": "https://localhost:8080/"
        },
        "id": "u5SFShDciXFs",
        "outputId": "51e85b9e-7f61-42b4-c137-80bbde149bf3"
      },
      "execution_count": 77,
      "outputs": [
        {
          "output_type": "stream",
          "name": "stdout",
          "text": [
            "<class 'pandas.core.frame.DataFrame'>\n",
            "RangeIndex: 2163 entries, 0 to 2162\n",
            "Columns: 11632 entries, Entry to GO:0001884\n",
            "dtypes: float64(9215), int64(2414), object(3)\n",
            "memory usage: 192.9 MB\n"
          ]
        }
      ]
    },
    {
      "cell_type": "code",
      "source": [
        "# reduce any int64 columns\n",
        "int_cols = data_Tenericutes.select_dtypes(include=['int64']).columns\n",
        "for col in int_cols:\n",
        "  if (data_Tenericutes[col].max() < max_val_8bit) and (data_Tenericutes[col].min() > min_val_8bit):\n",
        "    data_Tenericutes[col] = data_Tenericutes[col].astype('int8')\n",
        "  elif (data_Tenericutes[col].max() < max_val_16bit) and (data_Tenericutes[col].min() > min_val_16bit):\n",
        "      data_Tenericutes[col] = data_Tenericutes[col].astype('int16')\n",
        "\n",
        "\n",
        "# reduce any float64 columns\n",
        "float_cols = data_Tenericutes.select_dtypes(include=['float64']).columns\n",
        "for col in float_cols:\n",
        "  if (data_Tenericutes[col].max() < max_val_16bit) and (data_Tenericutes[col].min() > min_val_16bit):\n",
        "      data_Tenericutes[col] = data_Tenericutes[col].astype('float16')\n",
        "  elif (data_Tenericutes[col].max() < max_val_32bit) and (data_Tenericutes[col].min() > min_val_32bit):\n",
        "    data_Tenericutes[col] = data_Tenericutes[col].astype('float32')\n",
        "\n",
        "\n",
        "\n",
        "data_Tenericutes.info(verbose=False,memory_usage=\"deep\")"
      ],
      "metadata": {
        "colab": {
          "base_uri": "https://localhost:8080/"
        },
        "id": "QAQ-ZA7V1Sn2",
        "outputId": "177ce2e6-f1bc-4387-9e0d-bfa0c1bd381b"
      },
      "execution_count": 78,
      "outputs": [
        {
          "output_type": "stream",
          "name": "stdout",
          "text": [
            "<class 'pandas.core.frame.DataFrame'>\n",
            "RangeIndex: 2163 entries, 0 to 2162\n",
            "Columns: 11632 entries, Entry to GO:0001884\n",
            "dtypes: float16(9214), float32(1), int16(1), int64(2), int8(2411), object(3)\n",
            "memory usage: 44.1 MB\n"
          ]
        }
      ]
    },
    {
      "cell_type": "code",
      "source": [],
      "metadata": {
        "id": "TMUG-MBiiXAE"
      },
      "execution_count": null,
      "outputs": []
    },
    {
      "cell_type": "code",
      "source": [],
      "metadata": {
        "id": "Z2IB9ihAiW25"
      },
      "execution_count": null,
      "outputs": []
    },
    {
      "cell_type": "code",
      "source": [],
      "metadata": {
        "id": "2b73gfcBiWox"
      },
      "execution_count": null,
      "outputs": []
    },
    {
      "cell_type": "code",
      "execution_count": null,
      "metadata": {
        "colab": {
          "base_uri": "https://localhost:8080/"
        },
        "id": "prbVFhCqitvG",
        "outputId": "ac2a15f4-3e27-4eaa-c494-3c5ca22ab8b7"
      },
      "outputs": [
        {
          "data": {
            "text/plain": [
              "<module 'pandas' (ModuleAccelerator(fast=cudf, slow=pandas))>"
            ]
          },
          "execution_count": 6,
          "metadata": {},
          "output_type": "execute_result"
        }
      ],
      "source": [
        "pd"
      ]
    },
    {
      "cell_type": "code",
      "execution_count": null,
      "metadata": {
        "id": "vncMbqvcC6Mg"
      },
      "outputs": [],
      "source": []
    },
    {
      "cell_type": "code",
      "execution_count": 15,
      "metadata": {
        "colab": {
          "base_uri": "https://localhost:8080/",
          "height": 412
        },
        "id": "Ds3I9Tq8iOby",
        "outputId": "9dd47aea-a2d1-4ab0-eda2-def00398417b"
      },
      "outputs": [
        {
          "output_type": "execute_result",
          "data": {
            "text/plain": [
              "       Entry  Entry name                                           Sequence  \\\n",
              "1105  P59399  HISX_LACPL  MKIINEDLASLKRLVQTKTQQLTDLKVESAVREIIANVIKNGDAAV...   \n",
              "2566  Q82Y50  THIC_NITEU  MKTPVSKLEKFTNDNARVDTAAVQPLPNSRKIYIQGSRADIQVPMR...   \n",
              "671   P47257  Y011_MYCGE  MGKIKLKNRKALVVYDNKDDFEKNQTFALSLIKELQKKKLNAEVLL...   \n",
              "2782  C1CFC0  RS18_STRZJ  MAQQRRGGFKRRKKVDYIAANKIEYVDYKDTELLSRFVSERGKILP...   \n",
              "3689  B6I226  RL29_ECOSE  MKAKELREKSVEELNTELLNLLREQFNLRMQAASGQLQQSHLLKQV...   \n",
              "4830  Q6ACQ1  GCH1_LEIXX  MTGFDRARIEAAVAEILAAVGEDPSRPGLSATPSRVADAYAEFFAG...   \n",
              "3050  A9R4D2  NFUA_YERPG  MITITDAAQSHFAKLLANQEEGTQIRVFVINPGTPTAECGVSYCPP...   \n",
              "919   Q601J6  RL15_MYCH2  MSIRLENLSYTPGARKEKHRKGRGHAAGKGKQAGRGQSGQKKRSTV...   \n",
              "165   B7IQV7  ATPE_BACC2  MKTFPVSIVTPDGPVYEKEVEMVSVKAESGEMGILPGHIPTVAPLK...   \n",
              "1055  Q4A739  RS16_MYCS5  MVKIRLKRMGSKFRPVYKIVVADARAPRDGKFIEALGHYNPSNKDF...   \n",
              "\n",
              "             A         C         D         E         F         G         H  \\\n",
              "1105  0.133178  0.000000  0.070093  0.051402  0.030374  0.063084  0.011682   \n",
              "2566  0.085443  0.012658  0.063291  0.072785  0.033228  0.072785  0.031646   \n",
              "671   0.062718  0.003484  0.038328  0.059233  0.066202  0.027875  0.010453   \n",
              "2782  0.088608  0.000000  0.050633  0.050633  0.037975  0.050633  0.000000   \n",
              "3689  0.095238  0.000000  0.015873  0.111111  0.015873  0.031746  0.015873   \n",
              "4830  0.188482  0.015707  0.031414  0.099476  0.036649  0.099476  0.020942   \n",
              "3050  0.073298  0.020942  0.057592  0.094241  0.031414  0.078534  0.020942   \n",
              "919   0.061224  0.000000  0.027211  0.068027  0.040816  0.108844  0.013605   \n",
              "165   0.097744  0.000000  0.052632  0.082707  0.022556  0.060150  0.037594   \n",
              "1055  0.095238  0.000000  0.047619  0.035714  0.047619  0.047619  0.011905   \n",
              "\n",
              "      ...  GO:0015168  GO:0036055  GO:0045154  GO:0003871  GO:0005388  \\\n",
              "1105  ...         0.0         0.0         0.0         0.0         0.0   \n",
              "2566  ...         0.0         0.0         0.0         0.0         0.0   \n",
              "671   ...         0.0         0.0         0.0         0.0         0.0   \n",
              "2782  ...         0.0         0.0         0.0         0.0         0.0   \n",
              "3689  ...         0.0         0.0         0.0         0.0         0.0   \n",
              "4830  ...         0.0         0.0         0.0         0.0         0.0   \n",
              "3050  ...         0.0         0.0         0.0         0.0         0.0   \n",
              "919   ...         0.0         0.0         0.0         0.0         0.0   \n",
              "165   ...         0.0         0.0         0.0         0.0         0.0   \n",
              "1055  ...         0.0         0.0         0.0         0.0         0.0   \n",
              "\n",
              "      GO:0004456  GO:0004730  GO:0052657  GO:0043771  GO:0001884  \n",
              "1105         0.0         0.0         0.0         0.0         0.0  \n",
              "2566         0.0         0.0         0.0         0.0         0.0  \n",
              "671          0.0         0.0         0.0         0.0         0.0  \n",
              "2782         0.0         0.0         0.0         0.0         0.0  \n",
              "3689         0.0         0.0         0.0         0.0         0.0  \n",
              "4830         0.0         0.0         0.0         0.0         0.0  \n",
              "3050         0.0         0.0         0.0         0.0         0.0  \n",
              "919          0.0         0.0         0.0         0.0         0.0  \n",
              "165          0.0         0.0         0.0         0.0         0.0  \n",
              "1055         0.0         0.0         0.0         0.0         0.0  \n",
              "\n",
              "[10 rows x 11632 columns]"
            ],
            "text/html": [
              "\n",
              "  <div id=\"df-cf388958-606c-4d56-9a4a-e53dc7aab258\" class=\"colab-df-container\">\n",
              "    <div>\n",
              "<style scoped>\n",
              "    .dataframe tbody tr th:only-of-type {\n",
              "        vertical-align: middle;\n",
              "    }\n",
              "\n",
              "    .dataframe tbody tr th {\n",
              "        vertical-align: top;\n",
              "    }\n",
              "\n",
              "    .dataframe thead th {\n",
              "        text-align: right;\n",
              "    }\n",
              "</style>\n",
              "<table border=\"1\" class=\"dataframe\">\n",
              "  <thead>\n",
              "    <tr style=\"text-align: right;\">\n",
              "      <th></th>\n",
              "      <th>Entry</th>\n",
              "      <th>Entry name</th>\n",
              "      <th>Sequence</th>\n",
              "      <th>A</th>\n",
              "      <th>C</th>\n",
              "      <th>D</th>\n",
              "      <th>E</th>\n",
              "      <th>F</th>\n",
              "      <th>G</th>\n",
              "      <th>H</th>\n",
              "      <th>...</th>\n",
              "      <th>GO:0015168</th>\n",
              "      <th>GO:0036055</th>\n",
              "      <th>GO:0045154</th>\n",
              "      <th>GO:0003871</th>\n",
              "      <th>GO:0005388</th>\n",
              "      <th>GO:0004456</th>\n",
              "      <th>GO:0004730</th>\n",
              "      <th>GO:0052657</th>\n",
              "      <th>GO:0043771</th>\n",
              "      <th>GO:0001884</th>\n",
              "    </tr>\n",
              "  </thead>\n",
              "  <tbody>\n",
              "    <tr>\n",
              "      <th>1105</th>\n",
              "      <td>P59399</td>\n",
              "      <td>HISX_LACPL</td>\n",
              "      <td>MKIINEDLASLKRLVQTKTQQLTDLKVESAVREIIANVIKNGDAAV...</td>\n",
              "      <td>0.133178</td>\n",
              "      <td>0.000000</td>\n",
              "      <td>0.070093</td>\n",
              "      <td>0.051402</td>\n",
              "      <td>0.030374</td>\n",
              "      <td>0.063084</td>\n",
              "      <td>0.011682</td>\n",
              "      <td>...</td>\n",
              "      <td>0.0</td>\n",
              "      <td>0.0</td>\n",
              "      <td>0.0</td>\n",
              "      <td>0.0</td>\n",
              "      <td>0.0</td>\n",
              "      <td>0.0</td>\n",
              "      <td>0.0</td>\n",
              "      <td>0.0</td>\n",
              "      <td>0.0</td>\n",
              "      <td>0.0</td>\n",
              "    </tr>\n",
              "    <tr>\n",
              "      <th>2566</th>\n",
              "      <td>Q82Y50</td>\n",
              "      <td>THIC_NITEU</td>\n",
              "      <td>MKTPVSKLEKFTNDNARVDTAAVQPLPNSRKIYIQGSRADIQVPMR...</td>\n",
              "      <td>0.085443</td>\n",
              "      <td>0.012658</td>\n",
              "      <td>0.063291</td>\n",
              "      <td>0.072785</td>\n",
              "      <td>0.033228</td>\n",
              "      <td>0.072785</td>\n",
              "      <td>0.031646</td>\n",
              "      <td>...</td>\n",
              "      <td>0.0</td>\n",
              "      <td>0.0</td>\n",
              "      <td>0.0</td>\n",
              "      <td>0.0</td>\n",
              "      <td>0.0</td>\n",
              "      <td>0.0</td>\n",
              "      <td>0.0</td>\n",
              "      <td>0.0</td>\n",
              "      <td>0.0</td>\n",
              "      <td>0.0</td>\n",
              "    </tr>\n",
              "    <tr>\n",
              "      <th>671</th>\n",
              "      <td>P47257</td>\n",
              "      <td>Y011_MYCGE</td>\n",
              "      <td>MGKIKLKNRKALVVYDNKDDFEKNQTFALSLIKELQKKKLNAEVLL...</td>\n",
              "      <td>0.062718</td>\n",
              "      <td>0.003484</td>\n",
              "      <td>0.038328</td>\n",
              "      <td>0.059233</td>\n",
              "      <td>0.066202</td>\n",
              "      <td>0.027875</td>\n",
              "      <td>0.010453</td>\n",
              "      <td>...</td>\n",
              "      <td>0.0</td>\n",
              "      <td>0.0</td>\n",
              "      <td>0.0</td>\n",
              "      <td>0.0</td>\n",
              "      <td>0.0</td>\n",
              "      <td>0.0</td>\n",
              "      <td>0.0</td>\n",
              "      <td>0.0</td>\n",
              "      <td>0.0</td>\n",
              "      <td>0.0</td>\n",
              "    </tr>\n",
              "    <tr>\n",
              "      <th>2782</th>\n",
              "      <td>C1CFC0</td>\n",
              "      <td>RS18_STRZJ</td>\n",
              "      <td>MAQQRRGGFKRRKKVDYIAANKIEYVDYKDTELLSRFVSERGKILP...</td>\n",
              "      <td>0.088608</td>\n",
              "      <td>0.000000</td>\n",
              "      <td>0.050633</td>\n",
              "      <td>0.050633</td>\n",
              "      <td>0.037975</td>\n",
              "      <td>0.050633</td>\n",
              "      <td>0.000000</td>\n",
              "      <td>...</td>\n",
              "      <td>0.0</td>\n",
              "      <td>0.0</td>\n",
              "      <td>0.0</td>\n",
              "      <td>0.0</td>\n",
              "      <td>0.0</td>\n",
              "      <td>0.0</td>\n",
              "      <td>0.0</td>\n",
              "      <td>0.0</td>\n",
              "      <td>0.0</td>\n",
              "      <td>0.0</td>\n",
              "    </tr>\n",
              "    <tr>\n",
              "      <th>3689</th>\n",
              "      <td>B6I226</td>\n",
              "      <td>RL29_ECOSE</td>\n",
              "      <td>MKAKELREKSVEELNTELLNLLREQFNLRMQAASGQLQQSHLLKQV...</td>\n",
              "      <td>0.095238</td>\n",
              "      <td>0.000000</td>\n",
              "      <td>0.015873</td>\n",
              "      <td>0.111111</td>\n",
              "      <td>0.015873</td>\n",
              "      <td>0.031746</td>\n",
              "      <td>0.015873</td>\n",
              "      <td>...</td>\n",
              "      <td>0.0</td>\n",
              "      <td>0.0</td>\n",
              "      <td>0.0</td>\n",
              "      <td>0.0</td>\n",
              "      <td>0.0</td>\n",
              "      <td>0.0</td>\n",
              "      <td>0.0</td>\n",
              "      <td>0.0</td>\n",
              "      <td>0.0</td>\n",
              "      <td>0.0</td>\n",
              "    </tr>\n",
              "    <tr>\n",
              "      <th>4830</th>\n",
              "      <td>Q6ACQ1</td>\n",
              "      <td>GCH1_LEIXX</td>\n",
              "      <td>MTGFDRARIEAAVAEILAAVGEDPSRPGLSATPSRVADAYAEFFAG...</td>\n",
              "      <td>0.188482</td>\n",
              "      <td>0.015707</td>\n",
              "      <td>0.031414</td>\n",
              "      <td>0.099476</td>\n",
              "      <td>0.036649</td>\n",
              "      <td>0.099476</td>\n",
              "      <td>0.020942</td>\n",
              "      <td>...</td>\n",
              "      <td>0.0</td>\n",
              "      <td>0.0</td>\n",
              "      <td>0.0</td>\n",
              "      <td>0.0</td>\n",
              "      <td>0.0</td>\n",
              "      <td>0.0</td>\n",
              "      <td>0.0</td>\n",
              "      <td>0.0</td>\n",
              "      <td>0.0</td>\n",
              "      <td>0.0</td>\n",
              "    </tr>\n",
              "    <tr>\n",
              "      <th>3050</th>\n",
              "      <td>A9R4D2</td>\n",
              "      <td>NFUA_YERPG</td>\n",
              "      <td>MITITDAAQSHFAKLLANQEEGTQIRVFVINPGTPTAECGVSYCPP...</td>\n",
              "      <td>0.073298</td>\n",
              "      <td>0.020942</td>\n",
              "      <td>0.057592</td>\n",
              "      <td>0.094241</td>\n",
              "      <td>0.031414</td>\n",
              "      <td>0.078534</td>\n",
              "      <td>0.020942</td>\n",
              "      <td>...</td>\n",
              "      <td>0.0</td>\n",
              "      <td>0.0</td>\n",
              "      <td>0.0</td>\n",
              "      <td>0.0</td>\n",
              "      <td>0.0</td>\n",
              "      <td>0.0</td>\n",
              "      <td>0.0</td>\n",
              "      <td>0.0</td>\n",
              "      <td>0.0</td>\n",
              "      <td>0.0</td>\n",
              "    </tr>\n",
              "    <tr>\n",
              "      <th>919</th>\n",
              "      <td>Q601J6</td>\n",
              "      <td>RL15_MYCH2</td>\n",
              "      <td>MSIRLENLSYTPGARKEKHRKGRGHAAGKGKQAGRGQSGQKKRSTV...</td>\n",
              "      <td>0.061224</td>\n",
              "      <td>0.000000</td>\n",
              "      <td>0.027211</td>\n",
              "      <td>0.068027</td>\n",
              "      <td>0.040816</td>\n",
              "      <td>0.108844</td>\n",
              "      <td>0.013605</td>\n",
              "      <td>...</td>\n",
              "      <td>0.0</td>\n",
              "      <td>0.0</td>\n",
              "      <td>0.0</td>\n",
              "      <td>0.0</td>\n",
              "      <td>0.0</td>\n",
              "      <td>0.0</td>\n",
              "      <td>0.0</td>\n",
              "      <td>0.0</td>\n",
              "      <td>0.0</td>\n",
              "      <td>0.0</td>\n",
              "    </tr>\n",
              "    <tr>\n",
              "      <th>165</th>\n",
              "      <td>B7IQV7</td>\n",
              "      <td>ATPE_BACC2</td>\n",
              "      <td>MKTFPVSIVTPDGPVYEKEVEMVSVKAESGEMGILPGHIPTVAPLK...</td>\n",
              "      <td>0.097744</td>\n",
              "      <td>0.000000</td>\n",
              "      <td>0.052632</td>\n",
              "      <td>0.082707</td>\n",
              "      <td>0.022556</td>\n",
              "      <td>0.060150</td>\n",
              "      <td>0.037594</td>\n",
              "      <td>...</td>\n",
              "      <td>0.0</td>\n",
              "      <td>0.0</td>\n",
              "      <td>0.0</td>\n",
              "      <td>0.0</td>\n",
              "      <td>0.0</td>\n",
              "      <td>0.0</td>\n",
              "      <td>0.0</td>\n",
              "      <td>0.0</td>\n",
              "      <td>0.0</td>\n",
              "      <td>0.0</td>\n",
              "    </tr>\n",
              "    <tr>\n",
              "      <th>1055</th>\n",
              "      <td>Q4A739</td>\n",
              "      <td>RS16_MYCS5</td>\n",
              "      <td>MVKIRLKRMGSKFRPVYKIVVADARAPRDGKFIEALGHYNPSNKDF...</td>\n",
              "      <td>0.095238</td>\n",
              "      <td>0.000000</td>\n",
              "      <td>0.047619</td>\n",
              "      <td>0.035714</td>\n",
              "      <td>0.047619</td>\n",
              "      <td>0.047619</td>\n",
              "      <td>0.011905</td>\n",
              "      <td>...</td>\n",
              "      <td>0.0</td>\n",
              "      <td>0.0</td>\n",
              "      <td>0.0</td>\n",
              "      <td>0.0</td>\n",
              "      <td>0.0</td>\n",
              "      <td>0.0</td>\n",
              "      <td>0.0</td>\n",
              "      <td>0.0</td>\n",
              "      <td>0.0</td>\n",
              "      <td>0.0</td>\n",
              "    </tr>\n",
              "  </tbody>\n",
              "</table>\n",
              "<p>10 rows × 11632 columns</p>\n",
              "</div>\n",
              "    <div class=\"colab-df-buttons\">\n",
              "\n",
              "  <div class=\"colab-df-container\">\n",
              "    <button class=\"colab-df-convert\" onclick=\"convertToInteractive('df-cf388958-606c-4d56-9a4a-e53dc7aab258')\"\n",
              "            title=\"Convert this dataframe to an interactive table.\"\n",
              "            style=\"display:none;\">\n",
              "\n",
              "  <svg xmlns=\"http://www.w3.org/2000/svg\" height=\"24px\" viewBox=\"0 -960 960 960\">\n",
              "    <path d=\"M120-120v-720h720v720H120Zm60-500h600v-160H180v160Zm220 220h160v-160H400v160Zm0 220h160v-160H400v160ZM180-400h160v-160H180v160Zm440 0h160v-160H620v160ZM180-180h160v-160H180v160Zm440 0h160v-160H620v160Z\"/>\n",
              "  </svg>\n",
              "    </button>\n",
              "\n",
              "  <style>\n",
              "    .colab-df-container {\n",
              "      display:flex;\n",
              "      gap: 12px;\n",
              "    }\n",
              "\n",
              "    .colab-df-convert {\n",
              "      background-color: #E8F0FE;\n",
              "      border: none;\n",
              "      border-radius: 50%;\n",
              "      cursor: pointer;\n",
              "      display: none;\n",
              "      fill: #1967D2;\n",
              "      height: 32px;\n",
              "      padding: 0 0 0 0;\n",
              "      width: 32px;\n",
              "    }\n",
              "\n",
              "    .colab-df-convert:hover {\n",
              "      background-color: #E2EBFA;\n",
              "      box-shadow: 0px 1px 2px rgba(60, 64, 67, 0.3), 0px 1px 3px 1px rgba(60, 64, 67, 0.15);\n",
              "      fill: #174EA6;\n",
              "    }\n",
              "\n",
              "    .colab-df-buttons div {\n",
              "      margin-bottom: 4px;\n",
              "    }\n",
              "\n",
              "    [theme=dark] .colab-df-convert {\n",
              "      background-color: #3B4455;\n",
              "      fill: #D2E3FC;\n",
              "    }\n",
              "\n",
              "    [theme=dark] .colab-df-convert:hover {\n",
              "      background-color: #434B5C;\n",
              "      box-shadow: 0px 1px 3px 1px rgba(0, 0, 0, 0.15);\n",
              "      filter: drop-shadow(0px 1px 2px rgba(0, 0, 0, 0.3));\n",
              "      fill: #FFFFFF;\n",
              "    }\n",
              "  </style>\n",
              "\n",
              "    <script>\n",
              "      const buttonEl =\n",
              "        document.querySelector('#df-cf388958-606c-4d56-9a4a-e53dc7aab258 button.colab-df-convert');\n",
              "      buttonEl.style.display =\n",
              "        google.colab.kernel.accessAllowed ? 'block' : 'none';\n",
              "\n",
              "      async function convertToInteractive(key) {\n",
              "        const element = document.querySelector('#df-cf388958-606c-4d56-9a4a-e53dc7aab258');\n",
              "        const dataTable =\n",
              "          await google.colab.kernel.invokeFunction('convertToInteractive',\n",
              "                                                    [key], {});\n",
              "        if (!dataTable) return;\n",
              "\n",
              "        const docLinkHtml = 'Like what you see? Visit the ' +\n",
              "          '<a target=\"_blank\" href=https://colab.research.google.com/notebooks/data_table.ipynb>data table notebook</a>'\n",
              "          + ' to learn more about interactive tables.';\n",
              "        element.innerHTML = '';\n",
              "        dataTable['output_type'] = 'display_data';\n",
              "        await google.colab.output.renderOutput(dataTable, element);\n",
              "        const docLink = document.createElement('div');\n",
              "        docLink.innerHTML = docLinkHtml;\n",
              "        element.appendChild(docLink);\n",
              "      }\n",
              "    </script>\n",
              "  </div>\n",
              "\n",
              "\n",
              "<div id=\"df-6c938b94-1a1c-4eed-a50b-201dbbb2d973\">\n",
              "  <button class=\"colab-df-quickchart\" onclick=\"quickchart('df-6c938b94-1a1c-4eed-a50b-201dbbb2d973')\"\n",
              "            title=\"Suggest charts\"\n",
              "            style=\"display:none;\">\n",
              "\n",
              "<svg xmlns=\"http://www.w3.org/2000/svg\" height=\"24px\"viewBox=\"0 0 24 24\"\n",
              "     width=\"24px\">\n",
              "    <g>\n",
              "        <path d=\"M19 3H5c-1.1 0-2 .9-2 2v14c0 1.1.9 2 2 2h14c1.1 0 2-.9 2-2V5c0-1.1-.9-2-2-2zM9 17H7v-7h2v7zm4 0h-2V7h2v10zm4 0h-2v-4h2v4z\"/>\n",
              "    </g>\n",
              "</svg>\n",
              "  </button>\n",
              "\n",
              "<style>\n",
              "  .colab-df-quickchart {\n",
              "      --bg-color: #E8F0FE;\n",
              "      --fill-color: #1967D2;\n",
              "      --hover-bg-color: #E2EBFA;\n",
              "      --hover-fill-color: #174EA6;\n",
              "      --disabled-fill-color: #AAA;\n",
              "      --disabled-bg-color: #DDD;\n",
              "  }\n",
              "\n",
              "  [theme=dark] .colab-df-quickchart {\n",
              "      --bg-color: #3B4455;\n",
              "      --fill-color: #D2E3FC;\n",
              "      --hover-bg-color: #434B5C;\n",
              "      --hover-fill-color: #FFFFFF;\n",
              "      --disabled-bg-color: #3B4455;\n",
              "      --disabled-fill-color: #666;\n",
              "  }\n",
              "\n",
              "  .colab-df-quickchart {\n",
              "    background-color: var(--bg-color);\n",
              "    border: none;\n",
              "    border-radius: 50%;\n",
              "    cursor: pointer;\n",
              "    display: none;\n",
              "    fill: var(--fill-color);\n",
              "    height: 32px;\n",
              "    padding: 0;\n",
              "    width: 32px;\n",
              "  }\n",
              "\n",
              "  .colab-df-quickchart:hover {\n",
              "    background-color: var(--hover-bg-color);\n",
              "    box-shadow: 0 1px 2px rgba(60, 64, 67, 0.3), 0 1px 3px 1px rgba(60, 64, 67, 0.15);\n",
              "    fill: var(--button-hover-fill-color);\n",
              "  }\n",
              "\n",
              "  .colab-df-quickchart-complete:disabled,\n",
              "  .colab-df-quickchart-complete:disabled:hover {\n",
              "    background-color: var(--disabled-bg-color);\n",
              "    fill: var(--disabled-fill-color);\n",
              "    box-shadow: none;\n",
              "  }\n",
              "\n",
              "  .colab-df-spinner {\n",
              "    border: 2px solid var(--fill-color);\n",
              "    border-color: transparent;\n",
              "    border-bottom-color: var(--fill-color);\n",
              "    animation:\n",
              "      spin 1s steps(1) infinite;\n",
              "  }\n",
              "\n",
              "  @keyframes spin {\n",
              "    0% {\n",
              "      border-color: transparent;\n",
              "      border-bottom-color: var(--fill-color);\n",
              "      border-left-color: var(--fill-color);\n",
              "    }\n",
              "    20% {\n",
              "      border-color: transparent;\n",
              "      border-left-color: var(--fill-color);\n",
              "      border-top-color: var(--fill-color);\n",
              "    }\n",
              "    30% {\n",
              "      border-color: transparent;\n",
              "      border-left-color: var(--fill-color);\n",
              "      border-top-color: var(--fill-color);\n",
              "      border-right-color: var(--fill-color);\n",
              "    }\n",
              "    40% {\n",
              "      border-color: transparent;\n",
              "      border-right-color: var(--fill-color);\n",
              "      border-top-color: var(--fill-color);\n",
              "    }\n",
              "    60% {\n",
              "      border-color: transparent;\n",
              "      border-right-color: var(--fill-color);\n",
              "    }\n",
              "    80% {\n",
              "      border-color: transparent;\n",
              "      border-right-color: var(--fill-color);\n",
              "      border-bottom-color: var(--fill-color);\n",
              "    }\n",
              "    90% {\n",
              "      border-color: transparent;\n",
              "      border-bottom-color: var(--fill-color);\n",
              "    }\n",
              "  }\n",
              "</style>\n",
              "\n",
              "  <script>\n",
              "    async function quickchart(key) {\n",
              "      const quickchartButtonEl =\n",
              "        document.querySelector('#' + key + ' button');\n",
              "      quickchartButtonEl.disabled = true;  // To prevent multiple clicks.\n",
              "      quickchartButtonEl.classList.add('colab-df-spinner');\n",
              "      try {\n",
              "        const charts = await google.colab.kernel.invokeFunction(\n",
              "            'suggestCharts', [key], {});\n",
              "      } catch (error) {\n",
              "        console.error('Error during call to suggestCharts:', error);\n",
              "      }\n",
              "      quickchartButtonEl.classList.remove('colab-df-spinner');\n",
              "      quickchartButtonEl.classList.add('colab-df-quickchart-complete');\n",
              "    }\n",
              "    (() => {\n",
              "      let quickchartButtonEl =\n",
              "        document.querySelector('#df-6c938b94-1a1c-4eed-a50b-201dbbb2d973 button');\n",
              "      quickchartButtonEl.style.display =\n",
              "        google.colab.kernel.accessAllowed ? 'block' : 'none';\n",
              "    })();\n",
              "  </script>\n",
              "</div>\n",
              "\n",
              "    </div>\n",
              "  </div>\n"
            ],
            "application/vnd.google.colaboratory.intrinsic+json": {
              "type": "dataframe"
            }
          },
          "metadata": {},
          "execution_count": 15
        }
      ],
      "source": [
        "#merge dataframes rowwise\n",
        "df = pd.concat([data_Actinobacteria1, data_Actinobacteria2,\n",
        "                data_Bacteroidetes, data_Chlamydiae,\n",
        "                data_Cyanobacteria, data_Firmicutes1,\n",
        "                data_Firmicutes2, data_Fusobacteria,\n",
        "                data_Proteobacteria, data_Proteobacteria4,\n",
        "                data_Proteobacteria5, data_Spirochaetes,\n",
        "                data_Tenericutes\n",
        "                ])\n",
        "df.sample(10)\n"
      ]
    },
    {
      "cell_type": "code",
      "source": [
        "df.info(verbose=False,memory_usage=\"deep\")\n"
      ],
      "metadata": {
        "colab": {
          "base_uri": "https://localhost:8080/"
        },
        "id": "aOVI94DljvOb",
        "outputId": "284bfcec-d053-47a4-a802-83d983a6cfa5"
      },
      "execution_count": 31,
      "outputs": [
        {
          "output_type": "stream",
          "name": "stdout",
          "text": [
            "<class 'pandas.core.frame.DataFrame'>\n",
            "Index: 47746 entries, 0 to 2162\n",
            "Columns: 11632 entries, Entry to GO:0001884\n",
            "dtypes: float64(11629), object(3)\n",
            "memory usage: 4.2 GB\n"
          ]
        }
      ]
    },
    {
      "cell_type": "code",
      "execution_count": 23,
      "metadata": {
        "id": "mbi9xPQDC8El"
      },
      "outputs": [],
      "source": [
        "# free up memory\n",
        "#del data_Actinobacteria1\n",
        "del data_Actinobacteria2\n",
        "del data_Bacteroidetes\n",
        "del data_Chlamydiae\n",
        "del data_Cyanobacteria\n",
        "del data_Firmicutes1\n",
        "del data_Firmicutes2\n",
        "del data_Fusobacteria\n",
        "del data_Proteobacteria\n",
        "del data_Proteobacteria4\n",
        "del data_Proteobacteria5\n",
        "del data_Spirochaetes\n",
        "del data_Tenericutes"
      ]
    },
    {
      "cell_type": "code",
      "execution_count": 35,
      "metadata": {
        "colab": {
          "base_uri": "https://localhost:8080/"
        },
        "id": "5lMTkgk5Ps92",
        "outputId": "413045a6-c640-4baa-f044-a4bd1e2ba0ea"
      },
      "outputs": [
        {
          "output_type": "execute_result",
          "data": {
            "text/plain": [
              "1739"
            ]
          },
          "metadata": {},
          "execution_count": 35
        }
      ],
      "source": [
        "# separate all columns that begin with GO\n",
        "go_columns = [col for col in df.columns if col.startswith('GO')]  # binary labels\n",
        "len(go_columns)"
      ]
    },
    {
      "cell_type": "code",
      "execution_count": null,
      "metadata": {
        "id": "BtAkYeBiZNIm"
      },
      "outputs": [],
      "source": [
        "# remove duplicates\n",
        "df2 = df.drop_duplicates()\n",
        "print(len(df),len(df2))\n"
      ]
    },
    {
      "cell_type": "code",
      "execution_count": null,
      "metadata": {
        "id": "c7ILqiq0DIGU"
      },
      "outputs": [],
      "source": [
        "# df not needed so rm\n",
        "del df"
      ]
    },
    {
      "cell_type": "code",
      "execution_count": null,
      "metadata": {
        "id": "5wBfQNyMZtqg"
      },
      "outputs": [],
      "source": [
        "# separate the target columns GO cols from the df2\n",
        "y = df2[go_columns]\n",
        "df3 = df2.drop(go_columns, axis=1)"
      ]
    },
    {
      "cell_type": "code",
      "execution_count": null,
      "metadata": {
        "id": "qEzei0wODON2"
      },
      "outputs": [],
      "source": [
        "# df2 not needed\n",
        "del df2"
      ]
    },
    {
      "cell_type": "markdown",
      "metadata": {
        "id": "jJbtT7pjg2gu"
      },
      "source": [
        "# There will be 3 feature sets\n",
        " * f1 contains the entire set of 9,890\n",
        " * f2 contains the set of 8,420 features that contained only compositions of amino acids, dipeptides, and tripeptides.\n",
        " * f3 contains the remaining 1,470 features that are part of f1 but not part of f2 consisting of various properties and characteristics derived from proteins\n",
        "\n"
      ]
    },
    {
      "cell_type": "markdown",
      "metadata": {
        "id": "_kw0r77JexEs"
      },
      "source": [
        "## Working with the F1"
      ]
    },
    {
      "cell_type": "code",
      "execution_count": null,
      "metadata": {
        "id": "hZBs_XrKgV3O"
      },
      "outputs": [],
      "source": [
        "f1 = df3.copy()"
      ]
    },
    {
      "cell_type": "code",
      "execution_count": null,
      "metadata": {
        "colab": {
          "base_uri": "https://localhost:8080/",
          "height": 638
        },
        "id": "ZAPvtxdDfhWl",
        "outputId": "beb79a4e-7101-430a-bd73-1d92907c8114"
      },
      "outputs": [
        {
          "output_type": "execute_result",
          "data": {
            "text/plain": [
              "    Entry   Entry name                                           Sequence  \\\n",
              "0  Q8NNB7   YBEY_CORGL  MSIEVFNESGYDGVNEEMLIDVLSFALGEMDIHPDAEASIHIVDVD...   \n",
              "1  A4F9T1   YBEY_SACEN  MSIEIANESGVEVPEPSIVSVARFALDKMSVSQLAELSIVLVELDV...   \n",
              "2  A4XAD4   YBEY_SALTO  MSIEIANESGADVDTDAVLAVARHALDEMGVNQLAELSVLLVDIDY...   \n",
              "3  A4T2C0   YBEY_MYCGI  MSIEVSNESGIDVSESELVSVARFVIRKMDVNPAAELSMVLLDTAA...   \n",
              "4  B2HLB7   YBEY_MYCMM  MSIEVSNESGIDVSETELVSVARFVIGKMDVNPGAELSMVLLDTAA...   \n",
              "5  Q82B58  Y5847_STRAW  MIRFEDVSVTYDGAAEPTVRGVDFTVPEGELVLLVGPSGVGKSTVL...   \n",
              "6  C1A1F6   YBEY_RHOE4  MSIEVSNESGMDISEPELISVARFVIARMDVHPAAELSMVLVDSAT...   \n",
              "7  P9WKH5   YIA4_MYCTU  MSGGSSRRYPPELRERAVRMVAEIRGQHDSEWAAISEVARLLGVGC...   \n",
              "8  Q9CB36   ZFPP_MYCLE  MEIIPPRLKEPLYALYELRLRQGLTASESRLPRHIAVLCDGNRRWA...   \n",
              "9  P54992   YSNA_STRPR  MMQQVKRAFKYRFYPTDEQAAELSRTFGCVRLVYNKALEGRTRAWY...   \n",
              "\n",
              "          A         C         D         E         F         G         H  ...  \\\n",
              "0  0.107143  0.005102  0.107143  0.096939  0.035714  0.086735  0.040816  ...   \n",
              "1  0.125683  0.005464  0.081967  0.098361  0.027322  0.071038  0.038251  ...   \n",
              "2  0.146497  0.006369  0.082803  0.095541  0.012739  0.082803  0.050955  ...   \n",
              "3  0.089888  0.005618  0.089888  0.112360  0.028090  0.056180  0.033708  ...   \n",
              "4  0.095506  0.005618  0.095506  0.112360  0.028090  0.073034  0.033708  ...   \n",
              "5  0.142602  0.003565  0.053476  0.058824  0.008913  0.087344  0.021390  ...   \n",
              "6  0.088889  0.005556  0.094444  0.105556  0.027778  0.072222  0.038889  ...   \n",
              "7  0.166667  0.009259  0.037037  0.101852  0.018519  0.064815  0.009259  ...   \n",
              "8  0.103053  0.015267  0.045802  0.095420  0.019084  0.080153  0.015267  ...   \n",
              "9  0.116915  0.022388  0.039801  0.057214  0.027363  0.052239  0.012438  ...   \n",
              "\n",
              "   [LIV]-[LIVMGSTC]-[DET]-[RH]-[FYHCS]-x(2)-S-[GSTNP]-x-[AVC]-[FY]-[STANQ]  \\\n",
              "0                                                  0                         \n",
              "1                                                  0                         \n",
              "2                                                  0                         \n",
              "3                                                  0                         \n",
              "4                                                  0                         \n",
              "5                                                  0                         \n",
              "6                                                  0                         \n",
              "7                                                  0                         \n",
              "8                                                  0                         \n",
              "9                                                  0                         \n",
              "\n",
              "   E-[ST]-[EA]-R-E-A-[RK]-x-[LI]  \\\n",
              "0                              0   \n",
              "1                              0   \n",
              "2                              0   \n",
              "3                              0   \n",
              "4                              0   \n",
              "5                              0   \n",
              "6                              0   \n",
              "7                              0   \n",
              "8                              0   \n",
              "9                              0   \n",
              "\n",
              "   [EQ]-[YF]-A-[LIVM]-x(2)-[LIVM]-x(4)-[LIVMF](3)-x-G-H-x(2)-C-G  \\\n",
              "0                                                  0               \n",
              "1                                                  0               \n",
              "2                                                  0               \n",
              "3                                                  0               \n",
              "4                                                  0               \n",
              "5                                                  0               \n",
              "6                                                  0               \n",
              "7                                                  0               \n",
              "8                                                  0               \n",
              "9                                                  0               \n",
              "\n",
              "   [RK]-x-[STA]-x(2)-S-x-C-Y-[SL]  \\\n",
              "0                               0   \n",
              "1                               0   \n",
              "2                               0   \n",
              "3                               0   \n",
              "4                               0   \n",
              "5                               0   \n",
              "6                               0   \n",
              "7                               0   \n",
              "8                               0   \n",
              "9                               0   \n",
              "\n",
              "   [GSTAP]-x(2)-[DNEQA]-[LIVM]-[GSA]-x(2)-[LIVMFYT]-[GAN]-[LIVMST]-[ST]-x(6)-R-[LIVT]-x(2)-[LIVM]-x(3)-G  \\\n",
              "0                                                  0                                                       \n",
              "1                                                  0                                                       \n",
              "2                                                  0                                                       \n",
              "3                                                  0                                                       \n",
              "4                                                  0                                                       \n",
              "5                                                  0                                                       \n",
              "6                                                  0                                                       \n",
              "7                                                  0                                                       \n",
              "8                                                  0                                                       \n",
              "9                                                  0                                                       \n",
              "\n",
              "   [LIVMFY](2)-D-[STA]-H-x-H-[LIVMFP]-[DN]  \\\n",
              "0                                        0   \n",
              "1                                        0   \n",
              "2                                        0   \n",
              "3                                        0   \n",
              "4                                        0   \n",
              "5                                        0   \n",
              "6                                        0   \n",
              "7                                        0   \n",
              "8                                        0   \n",
              "9                                        0   \n",
              "\n",
              "   [GA]-x(1,2)-[DE]-x-Y-x-[STAPV]-x-C-[NKR]-x-[CH]-[LIVMFYWH]  \\\n",
              "0                                                  0            \n",
              "1                                                  0            \n",
              "2                                                  0            \n",
              "3                                                  0            \n",
              "4                                                  0            \n",
              "5                                                  0            \n",
              "6                                                  0            \n",
              "7                                                  0            \n",
              "8                                                  0            \n",
              "9                                                  0            \n",
              "\n",
              "   K-x-[AV]-x(4)-G-x(2)-[LIVT]-x-V-P-x(2)-[LIVC]-x(2)-[GD]  \\\n",
              "0                                                  0         \n",
              "1                                                  0         \n",
              "2                                                  0         \n",
              "3                                                  0         \n",
              "4                                                  0         \n",
              "5                                                  0         \n",
              "6                                                  0         \n",
              "7                                                  0         \n",
              "8                                                  0         \n",
              "9                                                  0         \n",
              "\n",
              "   [MFY]-x-G-H-G-[LIVMC]-[GSHN]-x(3)-H-x(4)-[LIVM]-x(1,2)-[HN]-[YWVHF]  \\\n",
              "0                                                  0                     \n",
              "1                                                  0                     \n",
              "2                                                  0                     \n",
              "3                                                  0                     \n",
              "4                                                  0                     \n",
              "5                                                  0                     \n",
              "6                                                  0                     \n",
              "7                                                  0                     \n",
              "8                                                  0                     \n",
              "9                                                  0                     \n",
              "\n",
              "   P-x(2)-R-G-[STAIV](2)-x-N-[APK]-x-[DE]  \n",
              "0                                       0  \n",
              "1                                       0  \n",
              "2                                       0  \n",
              "3                                       0  \n",
              "4                                       0  \n",
              "5                                       0  \n",
              "6                                       0  \n",
              "7                                       0  \n",
              "8                                       0  \n",
              "9                                       0  \n",
              "\n",
              "[10 rows x 9893 columns]"
            ],
            "text/html": [
              "\n",
              "  <div id=\"df-a8740ecf-cd0f-4789-b7b7-45896ed31a3d\" class=\"colab-df-container\">\n",
              "    <div>\n",
              "<style scoped>\n",
              "    .dataframe tbody tr th:only-of-type {\n",
              "        vertical-align: middle;\n",
              "    }\n",
              "\n",
              "    .dataframe tbody tr th {\n",
              "        vertical-align: top;\n",
              "    }\n",
              "\n",
              "    .dataframe thead th {\n",
              "        text-align: right;\n",
              "    }\n",
              "</style>\n",
              "<table border=\"1\" class=\"dataframe\">\n",
              "  <thead>\n",
              "    <tr style=\"text-align: right;\">\n",
              "      <th></th>\n",
              "      <th>Entry</th>\n",
              "      <th>Entry name</th>\n",
              "      <th>Sequence</th>\n",
              "      <th>A</th>\n",
              "      <th>C</th>\n",
              "      <th>D</th>\n",
              "      <th>E</th>\n",
              "      <th>F</th>\n",
              "      <th>G</th>\n",
              "      <th>H</th>\n",
              "      <th>...</th>\n",
              "      <th>[LIV]-[LIVMGSTC]-[DET]-[RH]-[FYHCS]-x(2)-S-[GSTNP]-x-[AVC]-[FY]-[STANQ]</th>\n",
              "      <th>E-[ST]-[EA]-R-E-A-[RK]-x-[LI]</th>\n",
              "      <th>[EQ]-[YF]-A-[LIVM]-x(2)-[LIVM]-x(4)-[LIVMF](3)-x-G-H-x(2)-C-G</th>\n",
              "      <th>[RK]-x-[STA]-x(2)-S-x-C-Y-[SL]</th>\n",
              "      <th>[GSTAP]-x(2)-[DNEQA]-[LIVM]-[GSA]-x(2)-[LIVMFYT]-[GAN]-[LIVMST]-[ST]-x(6)-R-[LIVT]-x(2)-[LIVM]-x(3)-G</th>\n",
              "      <th>[LIVMFY](2)-D-[STA]-H-x-H-[LIVMFP]-[DN]</th>\n",
              "      <th>[GA]-x(1,2)-[DE]-x-Y-x-[STAPV]-x-C-[NKR]-x-[CH]-[LIVMFYWH]</th>\n",
              "      <th>K-x-[AV]-x(4)-G-x(2)-[LIVT]-x-V-P-x(2)-[LIVC]-x(2)-[GD]</th>\n",
              "      <th>[MFY]-x-G-H-G-[LIVMC]-[GSHN]-x(3)-H-x(4)-[LIVM]-x(1,2)-[HN]-[YWVHF]</th>\n",
              "      <th>P-x(2)-R-G-[STAIV](2)-x-N-[APK]-x-[DE]</th>\n",
              "    </tr>\n",
              "  </thead>\n",
              "  <tbody>\n",
              "    <tr>\n",
              "      <th>0</th>\n",
              "      <td>Q8NNB7</td>\n",
              "      <td>YBEY_CORGL</td>\n",
              "      <td>MSIEVFNESGYDGVNEEMLIDVLSFALGEMDIHPDAEASIHIVDVD...</td>\n",
              "      <td>0.107143</td>\n",
              "      <td>0.005102</td>\n",
              "      <td>0.107143</td>\n",
              "      <td>0.096939</td>\n",
              "      <td>0.035714</td>\n",
              "      <td>0.086735</td>\n",
              "      <td>0.040816</td>\n",
              "      <td>...</td>\n",
              "      <td>0</td>\n",
              "      <td>0</td>\n",
              "      <td>0</td>\n",
              "      <td>0</td>\n",
              "      <td>0</td>\n",
              "      <td>0</td>\n",
              "      <td>0</td>\n",
              "      <td>0</td>\n",
              "      <td>0</td>\n",
              "      <td>0</td>\n",
              "    </tr>\n",
              "    <tr>\n",
              "      <th>1</th>\n",
              "      <td>A4F9T1</td>\n",
              "      <td>YBEY_SACEN</td>\n",
              "      <td>MSIEIANESGVEVPEPSIVSVARFALDKMSVSQLAELSIVLVELDV...</td>\n",
              "      <td>0.125683</td>\n",
              "      <td>0.005464</td>\n",
              "      <td>0.081967</td>\n",
              "      <td>0.098361</td>\n",
              "      <td>0.027322</td>\n",
              "      <td>0.071038</td>\n",
              "      <td>0.038251</td>\n",
              "      <td>...</td>\n",
              "      <td>0</td>\n",
              "      <td>0</td>\n",
              "      <td>0</td>\n",
              "      <td>0</td>\n",
              "      <td>0</td>\n",
              "      <td>0</td>\n",
              "      <td>0</td>\n",
              "      <td>0</td>\n",
              "      <td>0</td>\n",
              "      <td>0</td>\n",
              "    </tr>\n",
              "    <tr>\n",
              "      <th>2</th>\n",
              "      <td>A4XAD4</td>\n",
              "      <td>YBEY_SALTO</td>\n",
              "      <td>MSIEIANESGADVDTDAVLAVARHALDEMGVNQLAELSVLLVDIDY...</td>\n",
              "      <td>0.146497</td>\n",
              "      <td>0.006369</td>\n",
              "      <td>0.082803</td>\n",
              "      <td>0.095541</td>\n",
              "      <td>0.012739</td>\n",
              "      <td>0.082803</td>\n",
              "      <td>0.050955</td>\n",
              "      <td>...</td>\n",
              "      <td>0</td>\n",
              "      <td>0</td>\n",
              "      <td>0</td>\n",
              "      <td>0</td>\n",
              "      <td>0</td>\n",
              "      <td>0</td>\n",
              "      <td>0</td>\n",
              "      <td>0</td>\n",
              "      <td>0</td>\n",
              "      <td>0</td>\n",
              "    </tr>\n",
              "    <tr>\n",
              "      <th>3</th>\n",
              "      <td>A4T2C0</td>\n",
              "      <td>YBEY_MYCGI</td>\n",
              "      <td>MSIEVSNESGIDVSESELVSVARFVIRKMDVNPAAELSMVLLDTAA...</td>\n",
              "      <td>0.089888</td>\n",
              "      <td>0.005618</td>\n",
              "      <td>0.089888</td>\n",
              "      <td>0.112360</td>\n",
              "      <td>0.028090</td>\n",
              "      <td>0.056180</td>\n",
              "      <td>0.033708</td>\n",
              "      <td>...</td>\n",
              "      <td>0</td>\n",
              "      <td>0</td>\n",
              "      <td>0</td>\n",
              "      <td>0</td>\n",
              "      <td>0</td>\n",
              "      <td>0</td>\n",
              "      <td>0</td>\n",
              "      <td>0</td>\n",
              "      <td>0</td>\n",
              "      <td>0</td>\n",
              "    </tr>\n",
              "    <tr>\n",
              "      <th>4</th>\n",
              "      <td>B2HLB7</td>\n",
              "      <td>YBEY_MYCMM</td>\n",
              "      <td>MSIEVSNESGIDVSETELVSVARFVIGKMDVNPGAELSMVLLDTAA...</td>\n",
              "      <td>0.095506</td>\n",
              "      <td>0.005618</td>\n",
              "      <td>0.095506</td>\n",
              "      <td>0.112360</td>\n",
              "      <td>0.028090</td>\n",
              "      <td>0.073034</td>\n",
              "      <td>0.033708</td>\n",
              "      <td>...</td>\n",
              "      <td>0</td>\n",
              "      <td>0</td>\n",
              "      <td>0</td>\n",
              "      <td>0</td>\n",
              "      <td>0</td>\n",
              "      <td>0</td>\n",
              "      <td>0</td>\n",
              "      <td>0</td>\n",
              "      <td>0</td>\n",
              "      <td>0</td>\n",
              "    </tr>\n",
              "    <tr>\n",
              "      <th>5</th>\n",
              "      <td>Q82B58</td>\n",
              "      <td>Y5847_STRAW</td>\n",
              "      <td>MIRFEDVSVTYDGAAEPTVRGVDFTVPEGELVLLVGPSGVGKSTVL...</td>\n",
              "      <td>0.142602</td>\n",
              "      <td>0.003565</td>\n",
              "      <td>0.053476</td>\n",
              "      <td>0.058824</td>\n",
              "      <td>0.008913</td>\n",
              "      <td>0.087344</td>\n",
              "      <td>0.021390</td>\n",
              "      <td>...</td>\n",
              "      <td>0</td>\n",
              "      <td>0</td>\n",
              "      <td>0</td>\n",
              "      <td>0</td>\n",
              "      <td>0</td>\n",
              "      <td>0</td>\n",
              "      <td>0</td>\n",
              "      <td>0</td>\n",
              "      <td>0</td>\n",
              "      <td>0</td>\n",
              "    </tr>\n",
              "    <tr>\n",
              "      <th>6</th>\n",
              "      <td>C1A1F6</td>\n",
              "      <td>YBEY_RHOE4</td>\n",
              "      <td>MSIEVSNESGMDISEPELISVARFVIARMDVHPAAELSMVLVDSAT...</td>\n",
              "      <td>0.088889</td>\n",
              "      <td>0.005556</td>\n",
              "      <td>0.094444</td>\n",
              "      <td>0.105556</td>\n",
              "      <td>0.027778</td>\n",
              "      <td>0.072222</td>\n",
              "      <td>0.038889</td>\n",
              "      <td>...</td>\n",
              "      <td>0</td>\n",
              "      <td>0</td>\n",
              "      <td>0</td>\n",
              "      <td>0</td>\n",
              "      <td>0</td>\n",
              "      <td>0</td>\n",
              "      <td>0</td>\n",
              "      <td>0</td>\n",
              "      <td>0</td>\n",
              "      <td>0</td>\n",
              "    </tr>\n",
              "    <tr>\n",
              "      <th>7</th>\n",
              "      <td>P9WKH5</td>\n",
              "      <td>YIA4_MYCTU</td>\n",
              "      <td>MSGGSSRRYPPELRERAVRMVAEIRGQHDSEWAAISEVARLLGVGC...</td>\n",
              "      <td>0.166667</td>\n",
              "      <td>0.009259</td>\n",
              "      <td>0.037037</td>\n",
              "      <td>0.101852</td>\n",
              "      <td>0.018519</td>\n",
              "      <td>0.064815</td>\n",
              "      <td>0.009259</td>\n",
              "      <td>...</td>\n",
              "      <td>0</td>\n",
              "      <td>0</td>\n",
              "      <td>0</td>\n",
              "      <td>0</td>\n",
              "      <td>0</td>\n",
              "      <td>0</td>\n",
              "      <td>0</td>\n",
              "      <td>0</td>\n",
              "      <td>0</td>\n",
              "      <td>0</td>\n",
              "    </tr>\n",
              "    <tr>\n",
              "      <th>8</th>\n",
              "      <td>Q9CB36</td>\n",
              "      <td>ZFPP_MYCLE</td>\n",
              "      <td>MEIIPPRLKEPLYALYELRLRQGLTASESRLPRHIAVLCDGNRRWA...</td>\n",
              "      <td>0.103053</td>\n",
              "      <td>0.015267</td>\n",
              "      <td>0.045802</td>\n",
              "      <td>0.095420</td>\n",
              "      <td>0.019084</td>\n",
              "      <td>0.080153</td>\n",
              "      <td>0.015267</td>\n",
              "      <td>...</td>\n",
              "      <td>0</td>\n",
              "      <td>0</td>\n",
              "      <td>0</td>\n",
              "      <td>0</td>\n",
              "      <td>0</td>\n",
              "      <td>0</td>\n",
              "      <td>0</td>\n",
              "      <td>0</td>\n",
              "      <td>0</td>\n",
              "      <td>0</td>\n",
              "    </tr>\n",
              "    <tr>\n",
              "      <th>9</th>\n",
              "      <td>P54992</td>\n",
              "      <td>YSNA_STRPR</td>\n",
              "      <td>MMQQVKRAFKYRFYPTDEQAAELSRTFGCVRLVYNKALEGRTRAWY...</td>\n",
              "      <td>0.116915</td>\n",
              "      <td>0.022388</td>\n",
              "      <td>0.039801</td>\n",
              "      <td>0.057214</td>\n",
              "      <td>0.027363</td>\n",
              "      <td>0.052239</td>\n",
              "      <td>0.012438</td>\n",
              "      <td>...</td>\n",
              "      <td>0</td>\n",
              "      <td>0</td>\n",
              "      <td>0</td>\n",
              "      <td>0</td>\n",
              "      <td>0</td>\n",
              "      <td>0</td>\n",
              "      <td>0</td>\n",
              "      <td>0</td>\n",
              "      <td>0</td>\n",
              "      <td>0</td>\n",
              "    </tr>\n",
              "  </tbody>\n",
              "</table>\n",
              "<p>10 rows × 9893 columns</p>\n",
              "</div>\n",
              "    <div class=\"colab-df-buttons\">\n",
              "\n",
              "  <div class=\"colab-df-container\">\n",
              "    <button class=\"colab-df-convert\" onclick=\"convertToInteractive('df-a8740ecf-cd0f-4789-b7b7-45896ed31a3d')\"\n",
              "            title=\"Convert this dataframe to an interactive table.\"\n",
              "            style=\"display:none;\">\n",
              "\n",
              "  <svg xmlns=\"http://www.w3.org/2000/svg\" height=\"24px\" viewBox=\"0 -960 960 960\">\n",
              "    <path d=\"M120-120v-720h720v720H120Zm60-500h600v-160H180v160Zm220 220h160v-160H400v160Zm0 220h160v-160H400v160ZM180-400h160v-160H180v160Zm440 0h160v-160H620v160ZM180-180h160v-160H180v160Zm440 0h160v-160H620v160Z\"/>\n",
              "  </svg>\n",
              "    </button>\n",
              "\n",
              "  <style>\n",
              "    .colab-df-container {\n",
              "      display:flex;\n",
              "      gap: 12px;\n",
              "    }\n",
              "\n",
              "    .colab-df-convert {\n",
              "      background-color: #E8F0FE;\n",
              "      border: none;\n",
              "      border-radius: 50%;\n",
              "      cursor: pointer;\n",
              "      display: none;\n",
              "      fill: #1967D2;\n",
              "      height: 32px;\n",
              "      padding: 0 0 0 0;\n",
              "      width: 32px;\n",
              "    }\n",
              "\n",
              "    .colab-df-convert:hover {\n",
              "      background-color: #E2EBFA;\n",
              "      box-shadow: 0px 1px 2px rgba(60, 64, 67, 0.3), 0px 1px 3px 1px rgba(60, 64, 67, 0.15);\n",
              "      fill: #174EA6;\n",
              "    }\n",
              "\n",
              "    .colab-df-buttons div {\n",
              "      margin-bottom: 4px;\n",
              "    }\n",
              "\n",
              "    [theme=dark] .colab-df-convert {\n",
              "      background-color: #3B4455;\n",
              "      fill: #D2E3FC;\n",
              "    }\n",
              "\n",
              "    [theme=dark] .colab-df-convert:hover {\n",
              "      background-color: #434B5C;\n",
              "      box-shadow: 0px 1px 3px 1px rgba(0, 0, 0, 0.15);\n",
              "      filter: drop-shadow(0px 1px 2px rgba(0, 0, 0, 0.3));\n",
              "      fill: #FFFFFF;\n",
              "    }\n",
              "  </style>\n",
              "\n",
              "    <script>\n",
              "      const buttonEl =\n",
              "        document.querySelector('#df-a8740ecf-cd0f-4789-b7b7-45896ed31a3d button.colab-df-convert');\n",
              "      buttonEl.style.display =\n",
              "        google.colab.kernel.accessAllowed ? 'block' : 'none';\n",
              "\n",
              "      async function convertToInteractive(key) {\n",
              "        const element = document.querySelector('#df-a8740ecf-cd0f-4789-b7b7-45896ed31a3d');\n",
              "        const dataTable =\n",
              "          await google.colab.kernel.invokeFunction('convertToInteractive',\n",
              "                                                    [key], {});\n",
              "        if (!dataTable) return;\n",
              "\n",
              "        const docLinkHtml = 'Like what you see? Visit the ' +\n",
              "          '<a target=\"_blank\" href=https://colab.research.google.com/notebooks/data_table.ipynb>data table notebook</a>'\n",
              "          + ' to learn more about interactive tables.';\n",
              "        element.innerHTML = '';\n",
              "        dataTable['output_type'] = 'display_data';\n",
              "        await google.colab.output.renderOutput(dataTable, element);\n",
              "        const docLink = document.createElement('div');\n",
              "        docLink.innerHTML = docLinkHtml;\n",
              "        element.appendChild(docLink);\n",
              "      }\n",
              "    </script>\n",
              "  </div>\n",
              "\n",
              "\n",
              "<div id=\"df-83d95f56-9088-48f7-ba2d-79af0f9f87df\">\n",
              "  <button class=\"colab-df-quickchart\" onclick=\"quickchart('df-83d95f56-9088-48f7-ba2d-79af0f9f87df')\"\n",
              "            title=\"Suggest charts\"\n",
              "            style=\"display:none;\">\n",
              "\n",
              "<svg xmlns=\"http://www.w3.org/2000/svg\" height=\"24px\"viewBox=\"0 0 24 24\"\n",
              "     width=\"24px\">\n",
              "    <g>\n",
              "        <path d=\"M19 3H5c-1.1 0-2 .9-2 2v14c0 1.1.9 2 2 2h14c1.1 0 2-.9 2-2V5c0-1.1-.9-2-2-2zM9 17H7v-7h2v7zm4 0h-2V7h2v10zm4 0h-2v-4h2v4z\"/>\n",
              "    </g>\n",
              "</svg>\n",
              "  </button>\n",
              "\n",
              "<style>\n",
              "  .colab-df-quickchart {\n",
              "      --bg-color: #E8F0FE;\n",
              "      --fill-color: #1967D2;\n",
              "      --hover-bg-color: #E2EBFA;\n",
              "      --hover-fill-color: #174EA6;\n",
              "      --disabled-fill-color: #AAA;\n",
              "      --disabled-bg-color: #DDD;\n",
              "  }\n",
              "\n",
              "  [theme=dark] .colab-df-quickchart {\n",
              "      --bg-color: #3B4455;\n",
              "      --fill-color: #D2E3FC;\n",
              "      --hover-bg-color: #434B5C;\n",
              "      --hover-fill-color: #FFFFFF;\n",
              "      --disabled-bg-color: #3B4455;\n",
              "      --disabled-fill-color: #666;\n",
              "  }\n",
              "\n",
              "  .colab-df-quickchart {\n",
              "    background-color: var(--bg-color);\n",
              "    border: none;\n",
              "    border-radius: 50%;\n",
              "    cursor: pointer;\n",
              "    display: none;\n",
              "    fill: var(--fill-color);\n",
              "    height: 32px;\n",
              "    padding: 0;\n",
              "    width: 32px;\n",
              "  }\n",
              "\n",
              "  .colab-df-quickchart:hover {\n",
              "    background-color: var(--hover-bg-color);\n",
              "    box-shadow: 0 1px 2px rgba(60, 64, 67, 0.3), 0 1px 3px 1px rgba(60, 64, 67, 0.15);\n",
              "    fill: var(--button-hover-fill-color);\n",
              "  }\n",
              "\n",
              "  .colab-df-quickchart-complete:disabled,\n",
              "  .colab-df-quickchart-complete:disabled:hover {\n",
              "    background-color: var(--disabled-bg-color);\n",
              "    fill: var(--disabled-fill-color);\n",
              "    box-shadow: none;\n",
              "  }\n",
              "\n",
              "  .colab-df-spinner {\n",
              "    border: 2px solid var(--fill-color);\n",
              "    border-color: transparent;\n",
              "    border-bottom-color: var(--fill-color);\n",
              "    animation:\n",
              "      spin 1s steps(1) infinite;\n",
              "  }\n",
              "\n",
              "  @keyframes spin {\n",
              "    0% {\n",
              "      border-color: transparent;\n",
              "      border-bottom-color: var(--fill-color);\n",
              "      border-left-color: var(--fill-color);\n",
              "    }\n",
              "    20% {\n",
              "      border-color: transparent;\n",
              "      border-left-color: var(--fill-color);\n",
              "      border-top-color: var(--fill-color);\n",
              "    }\n",
              "    30% {\n",
              "      border-color: transparent;\n",
              "      border-left-color: var(--fill-color);\n",
              "      border-top-color: var(--fill-color);\n",
              "      border-right-color: var(--fill-color);\n",
              "    }\n",
              "    40% {\n",
              "      border-color: transparent;\n",
              "      border-right-color: var(--fill-color);\n",
              "      border-top-color: var(--fill-color);\n",
              "    }\n",
              "    60% {\n",
              "      border-color: transparent;\n",
              "      border-right-color: var(--fill-color);\n",
              "    }\n",
              "    80% {\n",
              "      border-color: transparent;\n",
              "      border-right-color: var(--fill-color);\n",
              "      border-bottom-color: var(--fill-color);\n",
              "    }\n",
              "    90% {\n",
              "      border-color: transparent;\n",
              "      border-bottom-color: var(--fill-color);\n",
              "    }\n",
              "  }\n",
              "</style>\n",
              "\n",
              "  <script>\n",
              "    async function quickchart(key) {\n",
              "      const quickchartButtonEl =\n",
              "        document.querySelector('#' + key + ' button');\n",
              "      quickchartButtonEl.disabled = true;  // To prevent multiple clicks.\n",
              "      quickchartButtonEl.classList.add('colab-df-spinner');\n",
              "      try {\n",
              "        const charts = await google.colab.kernel.invokeFunction(\n",
              "            'suggestCharts', [key], {});\n",
              "      } catch (error) {\n",
              "        console.error('Error during call to suggestCharts:', error);\n",
              "      }\n",
              "      quickchartButtonEl.classList.remove('colab-df-spinner');\n",
              "      quickchartButtonEl.classList.add('colab-df-quickchart-complete');\n",
              "    }\n",
              "    (() => {\n",
              "      let quickchartButtonEl =\n",
              "        document.querySelector('#df-83d95f56-9088-48f7-ba2d-79af0f9f87df button');\n",
              "      quickchartButtonEl.style.display =\n",
              "        google.colab.kernel.accessAllowed ? 'block' : 'none';\n",
              "    })();\n",
              "  </script>\n",
              "</div>\n",
              "\n",
              "    </div>\n",
              "  </div>\n"
            ],
            "application/vnd.google.colaboratory.intrinsic+json": {
              "type": "dataframe",
              "variable_name": "f1"
            }
          },
          "metadata": {},
          "execution_count": 12
        }
      ],
      "source": [
        "f1.head(10)"
      ]
    },
    {
      "cell_type": "code",
      "execution_count": null,
      "metadata": {
        "colab": {
          "base_uri": "https://localhost:8080/"
        },
        "id": "9zkiqcQ_grhW",
        "outputId": "04c3a618-5854-4865-c70b-3d038f2cb14f"
      },
      "outputs": [
        {
          "data": {
            "text/plain": [
              "9893"
            ]
          },
          "execution_count": 23,
          "metadata": {},
          "output_type": "execute_result"
        }
      ],
      "source": [
        "len(f1.columns)"
      ]
    },
    {
      "cell_type": "code",
      "execution_count": null,
      "metadata": {
        "id": "SIAQCO-qflLH"
      },
      "outputs": [],
      "source": [
        "# In the paper there are 9890 features so drop the entry, entry name and sequence column\n",
        "f1.drop(['Entry','Entry name','Sequence'], axis=1,inplace=True)"
      ]
    },
    {
      "cell_type": "code",
      "execution_count": null,
      "metadata": {
        "id": "IiN2J19lewDV"
      },
      "outputs": [],
      "source": [
        "# convert df to numpy array and apply standard scaling\n",
        "import numpy as np\n",
        "from sklearn.preprocessing import StandardScaler\n",
        "scaler = StandardScaler()\n",
        "f1_array = scaler.fit_transform(f1)\n"
      ]
    },
    {
      "cell_type": "code",
      "execution_count": null,
      "metadata": {
        "colab": {
          "base_uri": "https://localhost:8080/"
        },
        "id": "M1I0jh2_FVxy",
        "outputId": "bff7754d-280e-4306-882e-d9cfdb486489"
      },
      "outputs": [
        {
          "name": "stdout",
          "output_type": "stream",
          "text": [
            "128\n"
          ]
        }
      ],
      "source": [
        "print(sys.getsizeof(f1_array))"
      ]
    },
    {
      "cell_type": "code",
      "execution_count": null,
      "metadata": {
        "colab": {
          "base_uri": "https://localhost:8080/"
        },
        "id": "-yYxGbNhmioD",
        "outputId": "b6ce948a-a2d9-4dbd-e2da-76782efc015a"
      },
      "outputs": [
        {
          "data": {
            "text/plain": [
              "(9864, 9890)"
            ]
          },
          "execution_count": 18,
          "metadata": {},
          "output_type": "execute_result"
        }
      ],
      "source": [
        "f1_array.shape"
      ]
    },
    {
      "cell_type": "code",
      "execution_count": null,
      "metadata": {
        "colab": {
          "base_uri": "https://localhost:8080/"
        },
        "id": "KXtcinsJsAcy",
        "outputId": "0e9e645f-bd91-4e64-ca28-98e768b481f6"
      },
      "outputs": [
        {
          "data": {
            "text/plain": [
              "(9864, 1739)"
            ]
          },
          "execution_count": 19,
          "metadata": {},
          "output_type": "execute_result"
        }
      ],
      "source": [
        "y.shape"
      ]
    },
    {
      "cell_type": "code",
      "execution_count": null,
      "metadata": {
        "colab": {
          "base_uri": "https://localhost:8080/"
        },
        "id": "u4GMSl-AKsfW",
        "outputId": "464adb1d-5748-40e3-984c-86edf1e1024a"
      },
      "outputs": [
        {
          "output_type": "execute_result",
          "data": {
            "text/plain": [
              "116"
            ]
          },
          "metadata": {},
          "execution_count": 15
        }
      ],
      "source": [
        "# 1% neurons in the hidden layer of the input + output layer\n",
        "neuron_count = int(round(((9890)+1739)*0.01,0))\n",
        "neuron_count"
      ]
    },
    {
      "cell_type": "code",
      "execution_count": null,
      "metadata": {
        "colab": {
          "base_uri": "https://localhost:8080/"
        },
        "id": "HtjV1aFwFbos",
        "outputId": "44426f6a-dd28-42ea-90e0-1de331755649"
      },
      "outputs": [
        {
          "name": "stdout",
          "output_type": "stream",
          "text": [
            "28\n"
          ]
        }
      ],
      "source": [
        "print(sys.getsizeof(neuron_count))"
      ]
    },
    {
      "cell_type": "code",
      "execution_count": null,
      "metadata": {
        "colab": {
          "base_uri": "https://localhost:8080/"
        },
        "id": "I0Fa1nFjdE9L",
        "outputId": "b79b269e-adab-4c8f-d153-b0ad1fa77e68"
      },
      "outputs": [
        {
          "output_type": "stream",
          "name": "stderr",
          "text": [
            "/usr/local/lib/python3.11/dist-packages/keras/src/layers/core/dense.py:87: UserWarning: Do not pass an `input_shape`/`input_dim` argument to a layer. When using Sequential models, prefer using an `Input(shape)` object as the first layer in the model instead.\n",
            "  super().__init__(activity_regularizer=activity_regularizer, **kwargs)\n"
          ]
        }
      ],
      "source": [
        "# implement a neural network with a single hidden layer with 1 neuron\n",
        "import tensorflow as tf\n",
        "\n",
        "# our input is a (9864, 9890) array 9890 features and 9864 records\n",
        "# we want to flatten it\n",
        "\n",
        "# hidden layer has 1% neurons of the input+output and activation taken as relu\n",
        "\n",
        "# output layer has 1739 neurons as there are 1739 binary labels\n",
        "\n",
        "m1 = tf.keras.Sequential(\n",
        "     [\n",
        "    tf.keras.layers.Dense(units=neuron_count, activation=tf.keras.activations.relu, kernel_initializer=tf.keras.initializers.HeUniform(), input_dim=9890), # hidden layer with 1 neuron\n",
        "    tf.keras.layers.Dense(units=1739, activation=tf.keras.activations.sigmoid)  # output layer with 1739 neurons\n",
        "])\n",
        "\n",
        "\n"
      ]
    },
    {
      "cell_type": "code",
      "execution_count": null,
      "metadata": {
        "id": "J7jJKhOfjK2Z"
      },
      "outputs": [],
      "source": []
    },
    {
      "cell_type": "code",
      "execution_count": null,
      "metadata": {
        "colab": {
          "base_uri": "https://localhost:8080/"
        },
        "id": "EGj90RuFFlOs",
        "outputId": "6dadb195-a0ed-4aca-c1ee-69d83919d6d3"
      },
      "outputs": [
        {
          "output_type": "stream",
          "name": "stdout",
          "text": [
            "56\n"
          ]
        }
      ],
      "source": [
        "print(sys.getsizeof(m1))"
      ]
    },
    {
      "cell_type": "markdown",
      "source": [
        "## Metrics Used in the study\n",
        "1. Precision\n",
        "2. Recall\n",
        "3. F1 Score\n",
        "4. Micro Average\n",
        "5. Macro Average\n",
        "6. Weighted Average\n",
        "7. Samples Average\n",
        "8. Zero One Loss\n",
        "9. Hamming Loss\n",
        "10. Matthew's Correlaton Coefficent\n",
        "11. Consolidated Performance Metric"
      ],
      "metadata": {
        "id": "_TmoPSr9LxRV"
      }
    },
    {
      "cell_type": "code",
      "source": [
        "# implementing custom functions\n",
        "import keras.backend as K\n",
        "\n",
        "def Custom_Hamming_Loss(y_true, y_pred):\n",
        "  return K.mean(y_true*(1-y_pred)+(1-y_true)*y_pred)\n",
        "\n",
        "def Custom_Matthews_Correlation(y_true, y_pred):\n",
        "    y_pred_pos = K.round(K.clip(y_pred, 0, 1))\n",
        "    y_pred_neg = 1 - y_pred_pos\n",
        "\n",
        "    y_pos = K.round(K.clip(y_true, 0, 1))\n",
        "    y_neg = 1 - y_pos\n",
        "\n",
        "    tp = K.sum(y_pos * y_pred_pos)\n",
        "    tn = K.sum(y_neg * y_pred_neg)\n",
        "\n",
        "    fp = K.sum(y_neg * y_pred_pos)\n",
        "    fn = K.sum(y_pos * y_pred_neg)\n",
        "\n",
        "    numerator = (tp * tn - fp * fn)\n",
        "    denominator = K.sqrt((tp + fp) * (tp + fn) * (tn + fp) * (tn + fn))\n",
        "\n",
        "    return numerator / (denominator + K.epsilon())\n",
        "\n",
        "\n"
      ],
      "metadata": {
        "id": "xcn784aQMXJR"
      },
      "execution_count": null,
      "outputs": []
    },
    {
      "cell_type": "code",
      "execution_count": null,
      "metadata": {
        "id": "M0fVlbR0suDa"
      },
      "outputs": [],
      "source": [
        "m1.compile(\n",
        "    optimizer=tf.keras.optimizers.Adam(learning_rate=0.00001),\n",
        "    loss=tf.keras.losses.BinaryCrossentropy(),\n",
        "    metrics= [tf.keras.metrics.Precision(), tf.keras.metrics.Recall(), tf.keras.metrics.F1Score(), Custom_Hamming_Loss, Custom_Matthews_Correlation]\n",
        "    )\n"
      ]
    },
    {
      "cell_type": "code",
      "execution_count": null,
      "metadata": {
        "colab": {
          "base_uri": "https://localhost:8080/",
          "height": 193
        },
        "id": "gkosKPzkMILQ",
        "outputId": "731f83b8-6bf7-4cdc-904d-5c23c517fc16"
      },
      "outputs": [
        {
          "output_type": "display_data",
          "data": {
            "text/plain": [
              "\u001b[1mModel: \"sequential\"\u001b[0m\n"
            ],
            "text/html": [
              "<pre style=\"white-space:pre;overflow-x:auto;line-height:normal;font-family:Menlo,'DejaVu Sans Mono',consolas,'Courier New',monospace\"><span style=\"font-weight: bold\">Model: \"sequential\"</span>\n",
              "</pre>\n"
            ]
          },
          "metadata": {}
        },
        {
          "output_type": "display_data",
          "data": {
            "text/plain": [
              "┏━━━━━━━━━━━━━━━━━━━━━━━━━━━━━━━━━━━━━━┳━━━━━━━━━━━━━━━━━━━━━━━━━━━━━┳━━━━━━━━━━━━━━━━━┓\n",
              "┃\u001b[1m \u001b[0m\u001b[1mLayer (type)                        \u001b[0m\u001b[1m \u001b[0m┃\u001b[1m \u001b[0m\u001b[1mOutput Shape               \u001b[0m\u001b[1m \u001b[0m┃\u001b[1m \u001b[0m\u001b[1m        Param #\u001b[0m\u001b[1m \u001b[0m┃\n",
              "┡━━━━━━━━━━━━━━━━━━━━━━━━━━━━━━━━━━━━━━╇━━━━━━━━━━━━━━━━━━━━━━━━━━━━━╇━━━━━━━━━━━━━━━━━┩\n",
              "│ dense (\u001b[38;5;33mDense\u001b[0m)                        │ (\u001b[38;5;45mNone\u001b[0m, \u001b[38;5;34m116\u001b[0m)                 │       \u001b[38;5;34m1,147,356\u001b[0m │\n",
              "├──────────────────────────────────────┼─────────────────────────────┼─────────────────┤\n",
              "│ dense_1 (\u001b[38;5;33mDense\u001b[0m)                      │ (\u001b[38;5;45mNone\u001b[0m, \u001b[38;5;34m1739\u001b[0m)                │         \u001b[38;5;34m203,463\u001b[0m │\n",
              "└──────────────────────────────────────┴─────────────────────────────┴─────────────────┘\n"
            ],
            "text/html": [
              "<pre style=\"white-space:pre;overflow-x:auto;line-height:normal;font-family:Menlo,'DejaVu Sans Mono',consolas,'Courier New',monospace\">┏━━━━━━━━━━━━━━━━━━━━━━━━━━━━━━━━━━━━━━┳━━━━━━━━━━━━━━━━━━━━━━━━━━━━━┳━━━━━━━━━━━━━━━━━┓\n",
              "┃<span style=\"font-weight: bold\"> Layer (type)                         </span>┃<span style=\"font-weight: bold\"> Output Shape                </span>┃<span style=\"font-weight: bold\">         Param # </span>┃\n",
              "┡━━━━━━━━━━━━━━━━━━━━━━━━━━━━━━━━━━━━━━╇━━━━━━━━━━━━━━━━━━━━━━━━━━━━━╇━━━━━━━━━━━━━━━━━┩\n",
              "│ dense (<span style=\"color: #0087ff; text-decoration-color: #0087ff\">Dense</span>)                        │ (<span style=\"color: #00d7ff; text-decoration-color: #00d7ff\">None</span>, <span style=\"color: #00af00; text-decoration-color: #00af00\">116</span>)                 │       <span style=\"color: #00af00; text-decoration-color: #00af00\">1,147,356</span> │\n",
              "├──────────────────────────────────────┼─────────────────────────────┼─────────────────┤\n",
              "│ dense_1 (<span style=\"color: #0087ff; text-decoration-color: #0087ff\">Dense</span>)                      │ (<span style=\"color: #00d7ff; text-decoration-color: #00d7ff\">None</span>, <span style=\"color: #00af00; text-decoration-color: #00af00\">1739</span>)                │         <span style=\"color: #00af00; text-decoration-color: #00af00\">203,463</span> │\n",
              "└──────────────────────────────────────┴─────────────────────────────┴─────────────────┘\n",
              "</pre>\n"
            ]
          },
          "metadata": {}
        },
        {
          "output_type": "display_data",
          "data": {
            "text/plain": [
              "\u001b[1m Total params: \u001b[0m\u001b[38;5;34m1,350,819\u001b[0m (5.15 MB)\n"
            ],
            "text/html": [
              "<pre style=\"white-space:pre;overflow-x:auto;line-height:normal;font-family:Menlo,'DejaVu Sans Mono',consolas,'Courier New',monospace\"><span style=\"font-weight: bold\"> Total params: </span><span style=\"color: #00af00; text-decoration-color: #00af00\">1,350,819</span> (5.15 MB)\n",
              "</pre>\n"
            ]
          },
          "metadata": {}
        },
        {
          "output_type": "display_data",
          "data": {
            "text/plain": [
              "\u001b[1m Trainable params: \u001b[0m\u001b[38;5;34m1,350,819\u001b[0m (5.15 MB)\n"
            ],
            "text/html": [
              "<pre style=\"white-space:pre;overflow-x:auto;line-height:normal;font-family:Menlo,'DejaVu Sans Mono',consolas,'Courier New',monospace\"><span style=\"font-weight: bold\"> Trainable params: </span><span style=\"color: #00af00; text-decoration-color: #00af00\">1,350,819</span> (5.15 MB)\n",
              "</pre>\n"
            ]
          },
          "metadata": {}
        },
        {
          "output_type": "display_data",
          "data": {
            "text/plain": [
              "\u001b[1m Non-trainable params: \u001b[0m\u001b[38;5;34m0\u001b[0m (0.00 B)\n"
            ],
            "text/html": [
              "<pre style=\"white-space:pre;overflow-x:auto;line-height:normal;font-family:Menlo,'DejaVu Sans Mono',consolas,'Courier New',monospace\"><span style=\"font-weight: bold\"> Non-trainable params: </span><span style=\"color: #00af00; text-decoration-color: #00af00\">0</span> (0.00 B)\n",
              "</pre>\n"
            ]
          },
          "metadata": {}
        }
      ],
      "source": [
        "m1.summary()"
      ]
    },
    {
      "cell_type": "code",
      "execution_count": null,
      "metadata": {
        "colab": {
          "base_uri": "https://localhost:8080/",
          "height": 383
        },
        "id": "Vo9kMamsxOFh",
        "outputId": "66378885-afcf-48f4-d27f-d88f7baa84c1"
      },
      "outputs": [
        {
          "output_type": "stream",
          "name": "stdout",
          "text": [
            "Epoch 1/100\n"
          ]
        },
        {
          "output_type": "error",
          "ename": "AttributeError",
          "evalue": "module 'keras.backend' has no attribute 'mean'",
          "traceback": [
            "\u001b[0;31m---------------------------------------------------------------------------\u001b[0m",
            "\u001b[0;31mAttributeError\u001b[0m                            Traceback (most recent call last)",
            "\u001b[0;32m<ipython-input-22-72868eb8c4c2>\u001b[0m in \u001b[0;36m<cell line: 0>\u001b[0;34m()\u001b[0m\n\u001b[0;32m----> 1\u001b[0;31m m1.fit(f1_array,\n\u001b[0m\u001b[1;32m      2\u001b[0m        \u001b[0my\u001b[0m\u001b[0;34m,\u001b[0m\u001b[0;34m\u001b[0m\u001b[0;34m\u001b[0m\u001b[0m\n\u001b[1;32m      3\u001b[0m        \u001b[0mepochs\u001b[0m\u001b[0;34m=\u001b[0m\u001b[0;36m100\u001b[0m\u001b[0;34m,\u001b[0m\u001b[0;34m\u001b[0m\u001b[0;34m\u001b[0m\u001b[0m\n\u001b[1;32m      4\u001b[0m        \u001b[0mbatch_size\u001b[0m\u001b[0;34m=\u001b[0m\u001b[0;36m50\u001b[0m\u001b[0;34m\u001b[0m\u001b[0;34m\u001b[0m\u001b[0m\n\u001b[1;32m      5\u001b[0m        )\n",
            "\u001b[0;32m/usr/local/lib/python3.11/dist-packages/keras/src/utils/traceback_utils.py\u001b[0m in \u001b[0;36merror_handler\u001b[0;34m(*args, **kwargs)\u001b[0m\n\u001b[1;32m    120\u001b[0m             \u001b[0;31m# To get the full stack trace, call:\u001b[0m\u001b[0;34m\u001b[0m\u001b[0;34m\u001b[0m\u001b[0m\n\u001b[1;32m    121\u001b[0m             \u001b[0;31m# `keras.config.disable_traceback_filtering()`\u001b[0m\u001b[0;34m\u001b[0m\u001b[0;34m\u001b[0m\u001b[0m\n\u001b[0;32m--> 122\u001b[0;31m             \u001b[0;32mraise\u001b[0m \u001b[0me\u001b[0m\u001b[0;34m.\u001b[0m\u001b[0mwith_traceback\u001b[0m\u001b[0;34m(\u001b[0m\u001b[0mfiltered_tb\u001b[0m\u001b[0;34m)\u001b[0m \u001b[0;32mfrom\u001b[0m \u001b[0;32mNone\u001b[0m\u001b[0;34m\u001b[0m\u001b[0;34m\u001b[0m\u001b[0m\n\u001b[0m\u001b[1;32m    123\u001b[0m         \u001b[0;32mfinally\u001b[0m\u001b[0;34m:\u001b[0m\u001b[0;34m\u001b[0m\u001b[0;34m\u001b[0m\u001b[0m\n\u001b[1;32m    124\u001b[0m             \u001b[0;32mdel\u001b[0m \u001b[0mfiltered_tb\u001b[0m\u001b[0;34m\u001b[0m\u001b[0;34m\u001b[0m\u001b[0m\n",
            "\u001b[0;32m<ipython-input-19-713875fe65c8>\u001b[0m in \u001b[0;36mCustom_Hamming_Loss\u001b[0;34m(y_true, y_pred)\u001b[0m\n\u001b[1;32m      3\u001b[0m \u001b[0;34m\u001b[0m\u001b[0m\n\u001b[1;32m      4\u001b[0m \u001b[0;32mdef\u001b[0m \u001b[0mCustom_Hamming_Loss\u001b[0m\u001b[0;34m(\u001b[0m\u001b[0my_true\u001b[0m\u001b[0;34m,\u001b[0m \u001b[0my_pred\u001b[0m\u001b[0;34m)\u001b[0m\u001b[0;34m:\u001b[0m\u001b[0;34m\u001b[0m\u001b[0;34m\u001b[0m\u001b[0m\n\u001b[0;32m----> 5\u001b[0;31m   \u001b[0;32mreturn\u001b[0m \u001b[0mK\u001b[0m\u001b[0;34m.\u001b[0m\u001b[0mmean\u001b[0m\u001b[0;34m(\u001b[0m\u001b[0my_true\u001b[0m\u001b[0;34m*\u001b[0m\u001b[0;34m(\u001b[0m\u001b[0;36m1\u001b[0m\u001b[0;34m-\u001b[0m\u001b[0my_pred\u001b[0m\u001b[0;34m)\u001b[0m\u001b[0;34m+\u001b[0m\u001b[0;34m(\u001b[0m\u001b[0;36m1\u001b[0m\u001b[0;34m-\u001b[0m\u001b[0my_true\u001b[0m\u001b[0;34m)\u001b[0m\u001b[0;34m*\u001b[0m\u001b[0my_pred\u001b[0m\u001b[0;34m)\u001b[0m\u001b[0;34m\u001b[0m\u001b[0;34m\u001b[0m\u001b[0m\n\u001b[0m\u001b[1;32m      6\u001b[0m \u001b[0;34m\u001b[0m\u001b[0m\n\u001b[1;32m      7\u001b[0m \u001b[0;32mdef\u001b[0m \u001b[0mCustom_Matthews_Correlation\u001b[0m\u001b[0;34m(\u001b[0m\u001b[0my_true\u001b[0m\u001b[0;34m,\u001b[0m \u001b[0my_pred\u001b[0m\u001b[0;34m)\u001b[0m\u001b[0;34m:\u001b[0m\u001b[0;34m\u001b[0m\u001b[0;34m\u001b[0m\u001b[0m\n",
            "\u001b[0;31mAttributeError\u001b[0m: module 'keras.backend' has no attribute 'mean'"
          ]
        }
      ],
      "source": [
        "m1.fit(f1_array,\n",
        "       y,\n",
        "       epochs=100,\n",
        "       batch_size=50\n",
        "       )"
      ]
    },
    {
      "cell_type": "code",
      "execution_count": null,
      "metadata": {
        "id": "UfvUU4_WmL71"
      },
      "outputs": [],
      "source": [
        "m1.save(\"model.keras\")"
      ]
    },
    {
      "cell_type": "code",
      "execution_count": null,
      "metadata": {
        "colab": {
          "base_uri": "https://localhost:8080/"
        },
        "id": "UkiYzNRC0-xk",
        "outputId": "277d867b-1cbe-4dc3-c8a0-f4e9f19d7542"
      },
      "outputs": [
        {
          "name": "stdout",
          "output_type": "stream",
          "text": [
            "Model file size: 15.48 MB\n"
          ]
        }
      ],
      "source": [
        "import os\n",
        "\n",
        "\n",
        "\n",
        "print(f\"Model file size: {os.path.getsize('/content/model.keras') / (1024 * 1024):.2f} MB\")\n"
      ]
    },
    {
      "cell_type": "code",
      "execution_count": null,
      "metadata": {
        "colab": {
          "base_uri": "https://localhost:8080/"
        },
        "id": "kuJ39Tx-CrSv",
        "outputId": "301519e7-8124-455a-fb0d-2ec095a70050"
      },
      "outputs": [
        {
          "data": {
            "text/plain": [
              "<Sequential name=sequential, built=True>"
            ]
          },
          "execution_count": 30,
          "metadata": {},
          "output_type": "execute_result"
        }
      ],
      "source": [
        "m1"
      ]
    },
    {
      "cell_type": "code",
      "execution_count": null,
      "metadata": {
        "id": "etybjtS9Cw8t"
      },
      "outputs": [],
      "source": []
    }
  ],
  "metadata": {
    "colab": {
      "provenance": [],
      "mount_file_id": "1GPuB6zb5BipjKhlkZwh5sCfj9xBYb2kU",
      "authorship_tag": "ABX9TyOYhnybfccbMjhgrW18jgK2",
      "include_colab_link": true
    },
    "kernelspec": {
      "display_name": "Python 3",
      "name": "python3"
    },
    "language_info": {
      "name": "python"
    }
  },
  "nbformat": 4,
  "nbformat_minor": 0
}