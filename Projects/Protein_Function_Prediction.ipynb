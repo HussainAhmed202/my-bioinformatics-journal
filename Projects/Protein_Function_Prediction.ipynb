{
  "cells": [
    {
      "cell_type": "markdown",
      "metadata": {
        "id": "view-in-github",
        "colab_type": "text"
      },
      "source": [
        "<a href=\"https://colab.research.google.com/github/HussainAhmed202/my-bioinformatics-journal/blob/main/Projects/Protein_Function_Prediction.ipynb\" target=\"_parent\"><img src=\"https://colab.research.google.com/assets/colab-badge.svg\" alt=\"Open In Colab\"/></a>"
      ]
    },
    {
      "cell_type": "markdown",
      "metadata": {
        "id": "CFydsPAL_s7d"
      },
      "source": [
        "# A Neural Network-Based Multi-Label Classifier for Protein Function Prediction"
      ]
    },
    {
      "cell_type": "code",
      "execution_count": 3,
      "metadata": {
        "id": "k-GOp14uM9sR"
      },
      "outputs": [],
      "source": [
        "# from google.colab import drive\n",
        "# drive.mount('/content/drive')"
      ]
    },
    {
      "cell_type": "code",
      "execution_count": 1,
      "metadata": {
        "colab": {
          "base_uri": "https://localhost:8080/"
        },
        "id": "9fMjyyGRTCaC",
        "outputId": "4cb8cb9c-f62f-43d4-ce85-3ec38d761397"
      },
      "outputs": [
        {
          "output_type": "stream",
          "name": "stdout",
          "text": [
            "Collecting unrar\n",
            "  Downloading unrar-0.4-py3-none-any.whl.metadata (3.0 kB)\n",
            "Downloading unrar-0.4-py3-none-any.whl (25 kB)\n",
            "Installing collected packages: unrar\n",
            "Successfully installed unrar-0.4\n",
            "\n",
            "UNRAR 6.11 beta 1 freeware      Copyright (c) 1993-2022 Alexander Roshal\n",
            "\n",
            "\n",
            "Extracting from /content/drive/MyDrive/Dataset.rar\n",
            "\n",
            "Creating    /content/Test Dataset                                     OK\n",
            "Extracting  /content/Test Dataset/Act_test.csv                           \b\b\b\b  0%\b\b\b\b  1%\b\b\b\b  2%\b\b\b\b\b  OK \n",
            "Extracting  /content/Test Dataset/Bac_test.csv                           \b\b\b\b  2%\b\b\b\b\b  OK \n",
            "Extracting  /content/Test Dataset/Chl_test.csv                           \b\b\b\b  3%\b\b\b\b\b  OK \n",
            "Extracting  /content/Test Dataset/Cya_test.csv                           \b\b\b\b  4%\b\b\b\b\b  OK \n",
            "Extracting  /content/Test Dataset/Fir_test1.csv                          \b\b\b\b  5%\b\b\b\b  6%\b\b\b\b  7%\b\b\b\b  8%\b\b\b\b\b  OK \n",
            "Extracting  /content/Test Dataset/Fir_test2.csv                          \b\b\b\b  9%\b\b\b\b 10%\b\b\b\b 11%\b\b\b\b\b  OK \n",
            "Extracting  /content/Test Dataset/Fuso_test.csv                          \b\b\b\b 11%\b\b\b\b\b  OK \n",
            "Extracting  /content/Test Dataset/Pro_test1.csv                          \b\b\b\b 12%\b\b\b\b 13%\b\b\b\b 14%\b\b\b\b 15%\b\b\b\b\b  OK \n",
            "Extracting  /content/Test Dataset/Pro_test2.csv                          \b\b\b\b 15%\b\b\b\b 16%\b\b\b\b 17%\b\b\b\b 18%\b\b\b\b\b  OK \n",
            "Extracting  /content/Test Dataset/Pro_test3.csv                          \b\b\b\b 18%\b\b\b\b 19%\b\b\b\b 20%\b\b\b\b\b  OK \n",
            "Extracting  /content/Test Dataset/Pro_test4.csv                          \b\b\b\b 21%\b\b\b\b\b  OK \n",
            "Extracting  /content/Test Dataset/Spi_test.csv                           \b\b\b\b 21%\b\b\b\b\b  OK \n",
            "Extracting  /content/Test Dataset/Ten_test.csv                           \b\b\b\b 21%\b\b\b\b\b  OK \n",
            "Creating    /content/Train Dataset                                    OK\n",
            "Extracting  /content/Train Dataset/Act_train1.csv                        \b\b\b\b 22%\b\b\b\b 23%\b\b\b\b 24%\b\b\b\b 25%\b\b\b\b\b  OK \n",
            "Extracting  /content/Train Dataset/Act_train2.csv                        \b\b\b\b 25%\b\b\b\b 26%\b\b\b\b 27%\b\b\b\b 28%\b\b\b\b\b  OK \n",
            "Extracting  /content/Train Dataset/Bac_train.csv                         \b\b\b\b 28%\b\b\b\b 29%\b\b\b\b 30%\b\b\b\b\b  OK \n",
            "Extracting  /content/Train Dataset/Chl_train.csv                         \b\b\b\b 31%\b\b\b\b\b  OK \n",
            "Extracting  /content/Train Dataset/Cya_train.csv                         \b\b\b\b 31%\b\b\b\b 32%\b\b\b\b 33%\b\b\b\b 34%\b\b\b\b\b  OK \n",
            "Extracting  /content/Train Dataset/Fir_train1.csv                        \b\b\b\b 35%\b\b\b\b 36%\b\b\b\b 37%\b\b\b\b\b  OK \n",
            "Extracting  /content/Train Dataset/Fir_train2.csv                        \b\b\b\b 37%\b\b\b\b 38%\b\b\b\b 39%\b\b\b\b 40%\b\b\b\b\b  OK \n",
            "Extracting  /content/Train Dataset/Fir_train3.csv                        \b\b\b\b 41%\b\b\b\b 42%\b\b\b\b 43%\b\b\b\b 44%\b\b\b\b\b  OK \n",
            "Extracting  /content/Train Dataset/Fir_train4.csv                        \b\b\b\b 45%\b\b\b\b 46%\b\b\b\b 47%\b\b\b\b 48%\b\b\b\b\b  OK \n",
            "Extracting  /content/Train Dataset/Fir_train5.csv                        \b\b\b\b 49%\b\b\b\b 50%\b\b\b\b 51%\b\b\b\b\b  OK \n",
            "Extracting  /content/Train Dataset/Fir_train6.csv                        \b\b\b\b 52%\b\b\b\b 53%\b\b\b\b\b  OK \n",
            "Extracting  /content/Train Dataset/Fuso_train.csv                        \b\b\b\b 54%\b\b\b\b\b  OK \n",
            "Extracting  /content/Train Dataset/Pro_train1.csv                        \b\b\b\b 54%\b\b\b\b 55%\b\b\b\b 56%\b\b\b\b 57%\b\b\b\b\b  OK \n",
            "Extracting  /content/Train Dataset/Pro_train10.csv                       \b\b\b\b 58%\b\b\b\b 59%\b\b\b\b 60%\b\b\b\b\b  OK \n",
            "Extracting  /content/Train Dataset/Pro_train11.csv                       \b\b\b\b 61%\b\b\b\b 62%\b\b\b\b 63%\b\b\b\b\b  OK \n",
            "Extracting  /content/Train Dataset/Pro_train12.csv                       \b\b\b\b 64%\b\b\b\b 65%\b\b\b\b 66%\b\b\b\b 67%\b\b\b\b 68%\b\b\b\b\b  OK \n",
            "Extracting  /content/Train Dataset/Pro_train13.csv                       \b\b\b\b 68%\b\b\b\b 69%\b\b\b\b 70%\b\b\b\b 71%\b\b\b\b 72%\b\b\b\b\b  OK \n",
            "Extracting  /content/Train Dataset/Pro_train14.csv                       \b\b\b\b 73%\b\b\b\b 74%\b\b\b\b 75%\b\b\b\b 76%\b\b\b\b\b  OK \n",
            "Extracting  /content/Train Dataset/Pro_train2.csv                        \b\b\b\b 77%\b\b\b\b 78%\b\b\b\b 79%\b\b\b\b 80%\b\b\b\b\b  OK \n",
            "Extracting  /content/Train Dataset/Pro_train3.csv                        \b\b\b\b 81%\b\b\b\b 82%\b\b\b\b 83%\b\b\b\b 84%\b\b\b\b\b  OK \n",
            "Extracting  /content/Train Dataset/Pro_train4.csv                        \b\b\b\b 84%\b\b\b\b 85%\b\b\b\b 86%\b\b\b\b\b  OK \n",
            "Extracting  /content/Train Dataset/Pro_train5.csv                        \b\b\b\b 87%\b\b\b\b 88%\b\b\b\b\b  OK \n",
            "Extracting  /content/Train Dataset/Pro_train7.csv                        \b\b\b\b 89%\b\b\b\b 90%\b\b\b\b 91%\b\b\b\b 92%\b\b\b\b\b  OK \n",
            "Extracting  /content/Train Dataset/Pro_train8.csv                        \b\b\b\b 93%\b\b\b\b\b  OK \n",
            "Extracting  /content/Train Dataset/Pro_train9.csv                        \b\b\b\b 94%\b\b\b\b 95%\b\b\b\b 96%\b\b\b\b 97%\b\b\b\b\b  OK \n",
            "Extracting  /content/Train Dataset/Spi_train.csv                         \b\b\b\b 98%\b\b\b\b\b  OK \n",
            "Extracting  /content/Train Dataset/Ten_train.csv                         \b\b\b\b 99%\b\b\b\b\b  OK \n",
            "All OK\n"
          ]
        }
      ],
      "source": [
        "!pip install unrar\n",
        "!unrar x  \"/content/drive/MyDrive/Dataset.rar\" \"/content\"\n"
      ]
    },
    {
      "cell_type": "code",
      "execution_count": 5,
      "metadata": {
        "colab": {
          "base_uri": "https://localhost:8080/"
        },
        "id": "13TR_Mn_BA8g",
        "outputId": "a8aefa18-12e3-46ff-dea5-021fe0cf3a6d"
      },
      "outputs": [
        {
          "output_type": "stream",
          "name": "stdout",
          "text": [
            "Fri Feb 21 04:18:46 2025       \n",
            "+-----------------------------------------------------------------------------------------+\n",
            "| NVIDIA-SMI 550.54.15              Driver Version: 550.54.15      CUDA Version: 12.4     |\n",
            "|-----------------------------------------+------------------------+----------------------+\n",
            "| GPU  Name                 Persistence-M | Bus-Id          Disp.A | Volatile Uncorr. ECC |\n",
            "| Fan  Temp   Perf          Pwr:Usage/Cap |           Memory-Usage | GPU-Util  Compute M. |\n",
            "|                                         |                        |               MIG M. |\n",
            "|=========================================+========================+======================|\n",
            "|   0  Tesla T4                       Off |   00000000:00:04.0 Off |                    0 |\n",
            "| N/A   43C    P8             11W /   70W |       0MiB /  15360MiB |      0%      Default |\n",
            "|                                         |                        |                  N/A |\n",
            "+-----------------------------------------+------------------------+----------------------+\n",
            "                                                                                         \n",
            "+-----------------------------------------------------------------------------------------+\n",
            "| Processes:                                                                              |\n",
            "|  GPU   GI   CI        PID   Type   Process name                              GPU Memory |\n",
            "|        ID   ID                                                               Usage      |\n",
            "|=========================================================================================|\n",
            "|  No running processes found                                                             |\n",
            "+-----------------------------------------------------------------------------------------+\n"
          ]
        }
      ],
      "source": [
        "!nvidia-smi"
      ]
    },
    {
      "cell_type": "markdown",
      "source": [
        "# Import all Libraries"
      ],
      "metadata": {
        "id": "uQo4W9lMszAF"
      }
    },
    {
      "cell_type": "code",
      "execution_count": 3,
      "metadata": {
        "id": "OwgpSUYqgV2F"
      },
      "outputs": [],
      "source": [
        "# import cudf\n",
        "# %load_ext cudf.pandas\n",
        "import pandas as pd\n",
        "#import sys\n"
      ]
    },
    {
      "cell_type": "markdown",
      "source": [
        "# Import all the datasets"
      ],
      "metadata": {
        "id": "sTueggSPsyf7"
      }
    },
    {
      "cell_type": "markdown",
      "source": [
        "## Actinobacteria"
      ],
      "metadata": {
        "id": "uaDTOYwrs6_h"
      }
    },
    {
      "cell_type": "code",
      "source": [
        "data_Actinobacteria1 = pd.read_csv('/content/Train Dataset/Act_train1.csv')\n",
        "data_Actinobacteria1.info(verbose=False,memory_usage=\"deep\")"
      ],
      "metadata": {
        "colab": {
          "base_uri": "https://localhost:8080/"
        },
        "id": "tJDw2MBqedRM",
        "outputId": "2da50e89-4176-4f43-d146-31d4b8bfebc9"
      },
      "execution_count": 4,
      "outputs": [
        {
          "output_type": "stream",
          "name": "stdout",
          "text": [
            "<class 'pandas.core.frame.DataFrame'>\n",
            "RangeIndex: 4932 entries, 0 to 4931\n",
            "Columns: 11632 entries, Entry to GO:0001884\n",
            "dtypes: float64(9323), int64(2306), object(3)\n",
            "memory usage: 440.0 MB\n"
          ]
        }
      ]
    },
    {
      "cell_type": "markdown",
      "source": [
        "The memory usage for this dataset is **440MB**. We can reduce this by using other int and float datatypes for smaller number"
      ],
      "metadata": {
        "id": "fZtBh4Bptgjf"
      }
    },
    {
      "cell_type": "markdown",
      "source": [
        "In Pandas for **Integer** data the default dtype is **int64**\n",
        "\n",
        "* **int64** is a signed 64-bit integer range -(2^63) -> (2^63 - 1)\n",
        "\n",
        "Other options are **int8** and **int16**\n",
        "* **int16** is a signed 16-bit integer range -(2^15) -> (2^15 - 1)\n",
        "* **int8** is a signed 8-bit integer range -(2^7) -> (2^7 - 1)\n"
      ],
      "metadata": {
        "id": "5e53HkOMtw6J"
      }
    },
    {
      "cell_type": "code",
      "source": [
        "# define the ranges\n",
        "min_val_8bit, max_val_8bit = -2**7, 2**7 - 1\n",
        "min_val_16bit, max_val_16bit = -2**15, 2**15 - 1"
      ],
      "metadata": {
        "id": "Mpo4LKCGx0FO"
      },
      "execution_count": 5,
      "outputs": []
    },
    {
      "cell_type": "code",
      "source": [
        "# Goal: Iterate over all integer columns\n",
        "# If their max and min value can be represented in 8-bit binary then replace with int8\n",
        "# If their max and min value can be represented in 16-bit binary then replace with int16\n",
        "\n",
        "int_cols = data_Actinobacteria1.select_dtypes(include=['int64']).columns\n",
        "for col in int_cols:\n",
        "  if (data_Actinobacteria1[col].max() < max_val_8bit) and (data_Actinobacteria1[col].min() > min_val_8bit):\n",
        "    data_Actinobacteria1[col] = data_Actinobacteria1[col].astype('int8')\n",
        "  elif (data_Actinobacteria1[col].max() < max_val_16bit) and (data_Actinobacteria1[col].min() > min_val_16bit):\n",
        "      data_Actinobacteria1[col] = data_Actinobacteria1[col].astype('int16')"
      ],
      "metadata": {
        "id": "4_dASUDOwnHq"
      },
      "execution_count": 6,
      "outputs": []
    },
    {
      "cell_type": "code",
      "source": [
        "# check change in size\n",
        "data_Actinobacteria1.info(verbose=False,memory_usage=\"deep\")"
      ],
      "metadata": {
        "colab": {
          "base_uri": "https://localhost:8080/"
        },
        "id": "joJo8DWZvcQJ",
        "outputId": "a6d43d41-e4dd-40fe-bc0e-39eec355ea5d"
      },
      "execution_count": 7,
      "outputs": [
        {
          "output_type": "stream",
          "name": "stdout",
          "text": [
            "<class 'pandas.core.frame.DataFrame'>\n",
            "RangeIndex: 4932 entries, 0 to 4931\n",
            "Columns: 11632 entries, Entry to GO:0001884\n",
            "dtypes: float64(9323), int16(1), int64(2), int8(2303), object(3)\n",
            "memory usage: 364.2 MB\n"
          ]
        }
      ]
    },
    {
      "cell_type": "markdown",
      "source": [
        "In Pandas for **Floating Point** data the default dtype is float64. Floating point numbers are stored using **IEEE 754** standard\n",
        "\n",
        "* **float64** is double precision floating point number ranging -1.7e+308 to +1.7e+308.\n",
        "\n",
        "Other options are **float16** and **float32**\n",
        "* **float32** is a single precision range from -3.4e+38 to 3.4e+38.\n",
        "\n",
        "* **float16** is a half  precision range from -(6.55×104) to +(6.55×104)\n",
        "\n",
        "\n"
      ],
      "metadata": {
        "id": "NfpWawpWtBfy"
      }
    },
    {
      "cell_type": "code",
      "source": [
        "# define the ranges\n",
        "min_val_16bit, max_val_16bit = -6.55*(10**4), 6.55*(10**4)\n",
        "min_val_32bit, max_val_32bit = -3.4*(10**38), 3.4*(10**38)"
      ],
      "metadata": {
        "id": "8rhV-qoZx3eg"
      },
      "execution_count": 8,
      "outputs": []
    },
    {
      "cell_type": "code",
      "source": [
        "# Goal: Iterate over all float columns\n",
        "# If their max and min value can be represented in 16-bit binary then replace with float16\n",
        "# If their max and min value can be represented in 32-bit binary then replace with float32\n",
        "\n",
        "float_cols = data_Actinobacteria1.select_dtypes(include=['float64']).columns\n",
        "for col in float_cols:\n",
        "  if (data_Actinobacteria1[col].max() < max_val_16bit) and (data_Actinobacteria1[col].min() > min_val_16bit):\n",
        "      data_Actinobacteria1[col] = data_Actinobacteria1[col].astype('float16')\n",
        "  elif (data_Actinobacteria1[col].max() < max_val_32bit) and (data_Actinobacteria1[col].min() > min_val_32bit):\n",
        "    data_Actinobacteria1[col] = data_Actinobacteria1[col].astype('float32')\n"
      ],
      "metadata": {
        "id": "SHD1Wlu5wXlI"
      },
      "execution_count": 9,
      "outputs": []
    },
    {
      "cell_type": "code",
      "source": [
        "# check change in size\n",
        "data_Actinobacteria1.info(verbose=False,memory_usage=\"deep\")"
      ],
      "metadata": {
        "colab": {
          "base_uri": "https://localhost:8080/"
        },
        "outputId": "81d87060-4f8b-4edc-e8da-d94b9d7b5837",
        "id": "_E63-0VVwzEa"
      },
      "execution_count": 10,
      "outputs": [
        {
          "output_type": "stream",
          "name": "stdout",
          "text": [
            "<class 'pandas.core.frame.DataFrame'>\n",
            "RangeIndex: 4932 entries, 0 to 4931\n",
            "Columns: 11632 entries, Entry to GO:0001884\n",
            "dtypes: float16(9322), float32(1), int16(1), int64(2), int8(2303), object(3)\n",
            "memory usage: 101.1 MB\n"
          ]
        }
      ]
    },
    {
      "cell_type": "markdown",
      "source": [
        "The size has been reduced to **101.1MB**"
      ],
      "metadata": {
        "id": "hMBwQGc8tF2J"
      }
    },
    {
      "cell_type": "code",
      "source": [
        "data_Actinobacteria2 = pd.read_csv('/content/Train Dataset/Act_train2.csv')\n",
        "data_Actinobacteria2.info(verbose=False,memory_usage=\"deep\")\n"
      ],
      "metadata": {
        "colab": {
          "base_uri": "https://localhost:8080/"
        },
        "id": "1w8R6G-ae_ib",
        "outputId": "43d35600-dab8-4f59-ffd7-a05cc14a5cde"
      },
      "execution_count": 11,
      "outputs": [
        {
          "output_type": "stream",
          "name": "stdout",
          "text": [
            "<class 'pandas.core.frame.DataFrame'>\n",
            "RangeIndex: 4932 entries, 0 to 4931\n",
            "Columns: 11632 entries, Entry to GO:0001884\n",
            "dtypes: float64(9323), int64(2306), object(3)\n",
            "memory usage: 440.1 MB\n"
          ]
        }
      ]
    },
    {
      "cell_type": "code",
      "source": [
        "# reduce any int64 columns\n",
        "int_cols = data_Actinobacteria2.select_dtypes(include=['int64']).columns\n",
        "for col in int_cols:\n",
        "  if (data_Actinobacteria2[col].max() < max_val_8bit) and (data_Actinobacteria2[col].min() > min_val_8bit):\n",
        "    data_Actinobacteria2[col] = data_Actinobacteria2[col].astype('int8')\n",
        "  elif (data_Actinobacteria2[col].max() < max_val_16bit) and (data_Actinobacteria2[col].min() > min_val_16bit):\n",
        "      data_Actinobacteria2[col] = data_Actinobacteria2[col].astype('int16')\n",
        "\n",
        "\n",
        "# reduce any float64 columns\n",
        "float_cols = data_Actinobacteria2.select_dtypes(include=['float64']).columns\n",
        "for col in float_cols:\n",
        "  if (data_Actinobacteria2[col].max() < max_val_16bit) and (data_Actinobacteria2[col].min() > min_val_16bit):\n",
        "      data_Actinobacteria2[col] = data_Actinobacteria2[col].astype('float16')\n",
        "  elif (data_Actinobacteria2[col].max() < max_val_32bit) and (data_Actinobacteria2[col].min() > min_val_32bit):\n",
        "    data_Actinobacteria2[col] = data_Actinobacteria2[col].astype('float32')\n",
        "\n",
        "\n",
        "\n",
        "data_Actinobacteria2.info(verbose=False,memory_usage=\"deep\")"
      ],
      "metadata": {
        "colab": {
          "base_uri": "https://localhost:8080/"
        },
        "id": "07ySlclZx8D6",
        "outputId": "a008fe24-32b1-4998-da4c-eda0fa7e7570"
      },
      "execution_count": 12,
      "outputs": [
        {
          "output_type": "stream",
          "name": "stdout",
          "text": [
            "<class 'pandas.core.frame.DataFrame'>\n",
            "RangeIndex: 4932 entries, 0 to 4931\n",
            "Columns: 11632 entries, Entry to GO:0001884\n",
            "dtypes: float16(9322), float32(1), int16(1), int64(2), int8(2303), object(3)\n",
            "memory usage: 101.1 MB\n"
          ]
        }
      ]
    },
    {
      "cell_type": "markdown",
      "source": [
        "## Bacteroidetes"
      ],
      "metadata": {
        "id": "H_ZjCsU2tFlJ"
      }
    },
    {
      "cell_type": "code",
      "source": [
        "data_Bacteroidetes = pd.read_csv('/content/Train Dataset/Bac_train.csv')\n",
        "data_Bacteroidetes.info(verbose=False,memory_usage=\"deep\")"
      ],
      "metadata": {
        "colab": {
          "base_uri": "https://localhost:8080/"
        },
        "id": "faTFThCIhSvs",
        "outputId": "3af248c0-3fde-424e-f948-8348a9f0242f"
      },
      "execution_count": 13,
      "outputs": [
        {
          "output_type": "stream",
          "name": "stdout",
          "text": [
            "<class 'pandas.core.frame.DataFrame'>\n",
            "RangeIndex: 3149 entries, 0 to 3148\n",
            "Columns: 11632 entries, Entry to GO:0001884\n",
            "dtypes: float64(11629), object(3)\n",
            "memory usage: 280.9 MB\n"
          ]
        }
      ]
    },
    {
      "cell_type": "code",
      "source": [
        "# reduce any int64 columns\n",
        "int_cols = data_Bacteroidetes.select_dtypes(include=['int64']).columns\n",
        "for col in int_cols:\n",
        "  if (data_Bacteroidetes[col].max() < max_val_8bit) and (data_Bacteroidetes[col].min() > min_val_8bit):\n",
        "    data_Bacteroidetes[col] = data_Bacteroidetes[col].astype('int8')\n",
        "  elif (data_Bacteroidetes[col].max() < max_val_16bit) and (data_Bacteroidetes[col].min() > min_val_16bit):\n",
        "      data_Bacteroidetes[col] = data_Bacteroidetes[col].astype('int16')\n",
        "\n",
        "\n",
        "# reduce any float64 columns\n",
        "float_cols = data_Bacteroidetes.select_dtypes(include=['float64']).columns\n",
        "for col in float_cols:\n",
        "  if (data_Bacteroidetes[col].max() < max_val_16bit) and (data_Bacteroidetes[col].min() > min_val_16bit):\n",
        "      data_Bacteroidetes[col] = data_Bacteroidetes[col].astype('float16')\n",
        "  elif (data_Bacteroidetes[col].max() < max_val_32bit) and (data_Bacteroidetes[col].min() > min_val_32bit):\n",
        "    data_Bacteroidetes[col] = data_Bacteroidetes[col].astype('float32')\n",
        "\n",
        "\n",
        "\n",
        "data_Bacteroidetes.info(verbose=False,memory_usage=\"deep\")"
      ],
      "metadata": {
        "colab": {
          "base_uri": "https://localhost:8080/"
        },
        "id": "JbTn3bFHytL-",
        "outputId": "8a746028-6c7d-405e-e459-2b6367f4fcd3"
      },
      "execution_count": 14,
      "outputs": [
        {
          "output_type": "stream",
          "name": "stdout",
          "text": [
            "<class 'pandas.core.frame.DataFrame'>\n",
            "RangeIndex: 3149 entries, 0 to 3148\n",
            "Columns: 11632 entries, Entry to GO:0001884\n",
            "dtypes: float16(11626), float32(3), object(3)\n",
            "memory usage: 71.4 MB\n"
          ]
        }
      ]
    },
    {
      "cell_type": "markdown",
      "source": [
        "## Chlamydiae"
      ],
      "metadata": {
        "id": "vOA9T2jLtFb6"
      }
    },
    {
      "cell_type": "code",
      "source": [
        "data_Chlamydiae = pd.read_csv('/content/Train Dataset/Chl_train.csv')\n",
        "data_Chlamydiae.info(verbose=False,memory_usage=\"deep\")\n"
      ],
      "metadata": {
        "colab": {
          "base_uri": "https://localhost:8080/"
        },
        "id": "1Xxl8zX2iL1n",
        "outputId": "564bf719-09b0-4750-a905-bd7908918c9d"
      },
      "execution_count": 15,
      "outputs": [
        {
          "output_type": "stream",
          "name": "stdout",
          "text": [
            "<class 'pandas.core.frame.DataFrame'>\n",
            "RangeIndex: 1309 entries, 0 to 1308\n",
            "Columns: 11632 entries, Entry to GO:0001884\n",
            "dtypes: float64(9214), int64(2415), object(3)\n",
            "memory usage: 116.8 MB\n"
          ]
        }
      ]
    },
    {
      "cell_type": "code",
      "source": [
        "# reduce any int64 columns\n",
        "int_cols = data_Chlamydiae.select_dtypes(include=['int64']).columns\n",
        "for col in int_cols:\n",
        "  if (data_Chlamydiae[col].max() < max_val_8bit) and (data_Chlamydiae[col].min() > min_val_8bit):\n",
        "    data_Chlamydiae[col] = data_Chlamydiae[col].astype('int8')\n",
        "  elif (data_Chlamydiae[col].max() < max_val_16bit) and (data_Chlamydiae[col].min() > min_val_16bit):\n",
        "      data_Chlamydiae[col] = data_Chlamydiae[col].astype('int16')\n",
        "\n",
        "\n",
        "# reduce any float64 columns\n",
        "float_cols = data_Chlamydiae.select_dtypes(include=['float64']).columns\n",
        "for col in float_cols:\n",
        "  if (data_Chlamydiae[col].max() < max_val_16bit) and (data_Chlamydiae[col].min() > min_val_16bit):\n",
        "      data_Chlamydiae[col] = data_Chlamydiae[col].astype('float16')\n",
        "  elif (data_Chlamydiae[col].max() < max_val_32bit) and (data_Chlamydiae[col].min() > min_val_32bit):\n",
        "    data_Chlamydiae[col] = data_Chlamydiae[col].astype('float32')\n",
        "\n",
        "\n",
        "\n",
        "data_Chlamydiae.info(verbose=False,memory_usage=\"deep\")"
      ],
      "metadata": {
        "colab": {
          "base_uri": "https://localhost:8080/"
        },
        "outputId": "77eb9230-005b-4473-c566-75a4120558ea",
        "id": "KMNFQ6ezzdEr"
      },
      "execution_count": 16,
      "outputs": [
        {
          "output_type": "stream",
          "name": "stdout",
          "text": [
            "<class 'pandas.core.frame.DataFrame'>\n",
            "RangeIndex: 1309 entries, 0 to 1308\n",
            "Columns: 11632 entries, Entry to GO:0001884\n",
            "dtypes: float16(9213), float32(1), int16(1), int64(2), int8(2412), object(3)\n",
            "memory usage: 26.7 MB\n"
          ]
        }
      ]
    },
    {
      "cell_type": "markdown",
      "source": [
        "## Cyanobacteria"
      ],
      "metadata": {
        "id": "xRkSasHztFS5"
      }
    },
    {
      "cell_type": "code",
      "source": [
        "data_Cyanobacteria = pd.read_csv('/content/Train Dataset/Cya_train.csv')\n",
        "data_Cyanobacteria.info(verbose=False,memory_usage=\"deep\")\n"
      ],
      "metadata": {
        "colab": {
          "base_uri": "https://localhost:8080/"
        },
        "id": "zbNlukg4hSSw",
        "outputId": "9c97ca47-d8a9-4fda-a591-b748c1c8b10c"
      },
      "execution_count": 17,
      "outputs": [
        {
          "output_type": "stream",
          "name": "stdout",
          "text": [
            "<class 'pandas.core.frame.DataFrame'>\n",
            "RangeIndex: 5459 entries, 0 to 5458\n",
            "Columns: 11632 entries, Entry to GO:0001884\n",
            "dtypes: float64(9318), int64(2311), object(3)\n",
            "memory usage: 487.0 MB\n"
          ]
        }
      ]
    },
    {
      "cell_type": "code",
      "source": [
        "# reduce any int64 columns\n",
        "int_cols = data_Cyanobacteria.select_dtypes(include=['int64']).columns\n",
        "for col in int_cols:\n",
        "  if (data_Cyanobacteria[col].max() < max_val_8bit) and (data_Cyanobacteria[col].min() > min_val_8bit):\n",
        "    data_Cyanobacteria[col] = data_Cyanobacteria[col].astype('int8')\n",
        "  elif (data_Cyanobacteria[col].max() < max_val_16bit) and (data_Cyanobacteria[col].min() > min_val_16bit):\n",
        "      data_Cyanobacteria[col] = data_Cyanobacteria[col].astype('int16')\n",
        "\n",
        "\n",
        "# reduce any float64 columns\n",
        "float_cols = data_Cyanobacteria.select_dtypes(include=['float64']).columns\n",
        "for col in float_cols:\n",
        "  if (data_Cyanobacteria[col].max() < max_val_16bit) and (data_Cyanobacteria[col].min() > min_val_16bit):\n",
        "      data_Cyanobacteria[col] = data_Cyanobacteria[col].astype('float16')\n",
        "  elif (data_Cyanobacteria[col].max() < max_val_32bit) and (data_Cyanobacteria[col].min() > min_val_32bit):\n",
        "    data_Cyanobacteria[col] = data_Cyanobacteria[col].astype('float32')\n",
        "\n",
        "\n",
        "\n",
        "data_Cyanobacteria.info(verbose=False,memory_usage=\"deep\")"
      ],
      "metadata": {
        "colab": {
          "base_uri": "https://localhost:8080/"
        },
        "outputId": "181187da-8d48-4b88-eaf0-b918b86a36b0",
        "id": "fPaUJvm3zp1s"
      },
      "execution_count": 18,
      "outputs": [
        {
          "output_type": "stream",
          "name": "stdout",
          "text": [
            "<class 'pandas.core.frame.DataFrame'>\n",
            "RangeIndex: 5459 entries, 0 to 5458\n",
            "Columns: 11632 entries, Entry to GO:0001884\n",
            "dtypes: float16(9317), float32(1), int16(1), int64(2), int8(2308), object(3)\n",
            "memory usage: 111.8 MB\n"
          ]
        }
      ]
    },
    {
      "cell_type": "markdown",
      "source": [
        "## Firmicutes"
      ],
      "metadata": {
        "id": "AiX1nWiLtFGw"
      }
    },
    {
      "cell_type": "code",
      "source": [
        "data_Firmicutes1 = pd.read_csv('/content/Train Dataset/Fir_train1.csv')\n",
        "data_Firmicutes1.info(verbose=False,memory_usage=\"deep\")\n"
      ],
      "metadata": {
        "colab": {
          "base_uri": "https://localhost:8080/"
        },
        "id": "m6HtIh2XhTMj",
        "outputId": "c015d7dd-7f62-4748-d93d-96a10682a091"
      },
      "execution_count": 19,
      "outputs": [
        {
          "output_type": "stream",
          "name": "stdout",
          "text": [
            "<class 'pandas.core.frame.DataFrame'>\n",
            "RangeIndex: 2697 entries, 0 to 2696\n",
            "Columns: 11632 entries, Entry to GO:0001884\n",
            "dtypes: float64(9329), int64(2300), object(3)\n",
            "memory usage: 240.7 MB\n"
          ]
        }
      ]
    },
    {
      "cell_type": "code",
      "source": [
        "# reduce any int64 columns\n",
        "int_cols = data_Firmicutes1.select_dtypes(include=['int64']).columns\n",
        "for col in int_cols:\n",
        "  if (data_Firmicutes1[col].max() < max_val_8bit) and (data_Firmicutes1[col].min() > min_val_8bit):\n",
        "    data_Firmicutes1[col] = data_Firmicutes1[col].astype('int8')\n",
        "  elif (data_Firmicutes1[col].max() < max_val_16bit) and (data_Firmicutes1[col].min() > min_val_16bit):\n",
        "      data_Firmicutes1[col] = data_Firmicutes1[col].astype('int16')\n",
        "\n",
        "\n",
        "# reduce any float64 columns\n",
        "float_cols = data_Firmicutes1.select_dtypes(include=['float64']).columns\n",
        "for col in float_cols:\n",
        "  if (data_Firmicutes1[col].max() < max_val_16bit) and (data_Firmicutes1[col].min() > min_val_16bit):\n",
        "      data_Firmicutes1[col] = data_Firmicutes1[col].astype('float16')\n",
        "  elif (data_Firmicutes1[col].max() < max_val_32bit) and (data_Firmicutes1[col].min() > min_val_32bit):\n",
        "    data_Firmicutes1[col] = data_Firmicutes1[col].astype('float32')\n",
        "\n",
        "\n",
        "\n",
        "data_Firmicutes1.info(verbose=False,memory_usage=\"deep\")"
      ],
      "metadata": {
        "colab": {
          "base_uri": "https://localhost:8080/"
        },
        "outputId": "0b72b622-fa90-459d-f61d-c33fd9914308",
        "id": "RLSjsnIKz8py"
      },
      "execution_count": 20,
      "outputs": [
        {
          "output_type": "stream",
          "name": "stdout",
          "text": [
            "<class 'pandas.core.frame.DataFrame'>\n",
            "RangeIndex: 2697 entries, 0 to 2696\n",
            "Columns: 11632 entries, Entry to GO:0001884\n",
            "dtypes: float16(9328), float32(1), int16(1), int64(2), int8(2297), object(3)\n",
            "memory usage: 55.3 MB\n"
          ]
        }
      ]
    },
    {
      "cell_type": "code",
      "source": [
        "data_Firmicutes2 = pd.read_csv('/content/Train Dataset/Fir_train2.csv')\n",
        "data_Firmicutes2.info(verbose=False,memory_usage=\"deep\")\n"
      ],
      "metadata": {
        "colab": {
          "base_uri": "https://localhost:8080/"
        },
        "id": "YAs4ePHIhUeC",
        "outputId": "cab9fc9e-ea08-494a-fc1c-38076f71686f"
      },
      "execution_count": 21,
      "outputs": [
        {
          "output_type": "stream",
          "name": "stdout",
          "text": [
            "<class 'pandas.core.frame.DataFrame'>\n",
            "RangeIndex: 5993 entries, 0 to 5992\n",
            "Columns: 11632 entries, Entry to GO:0001884\n",
            "dtypes: float64(9329), int64(2300), object(3)\n",
            "memory usage: 534.3 MB\n"
          ]
        }
      ]
    },
    {
      "cell_type": "code",
      "source": [
        "# reduce any int64 columns\n",
        "int_cols = data_Firmicutes2.select_dtypes(include=['int64']).columns\n",
        "for col in int_cols:\n",
        "  if (data_Firmicutes2[col].max() < max_val_8bit) and (data_Firmicutes2[col].min() > min_val_8bit):\n",
        "    data_Firmicutes2[col] = data_Firmicutes2[col].astype('int8')\n",
        "  elif (data_Firmicutes2[col].max() < max_val_16bit) and (data_Firmicutes2[col].min() > min_val_16bit):\n",
        "      data_Firmicutes2[col] = data_Firmicutes2[col].astype('int16')\n",
        "\n",
        "\n",
        "# reduce any float64 columns\n",
        "float_cols = data_Firmicutes2.select_dtypes(include=['float64']).columns\n",
        "for col in float_cols:\n",
        "  if (data_Firmicutes2[col].max() < max_val_16bit) and (data_Firmicutes2[col].min() > min_val_16bit):\n",
        "      data_Firmicutes2[col] = data_Firmicutes2[col].astype('float16')\n",
        "  elif (data_Firmicutes2[col].max() < max_val_32bit) and (data_Firmicutes2[col].min() > min_val_32bit):\n",
        "    data_Firmicutes2[col] = data_Firmicutes2[col].astype('float32')\n",
        "\n",
        "\n",
        "\n",
        "data_Firmicutes2.info(verbose=False,memory_usage=\"deep\")"
      ],
      "metadata": {
        "colab": {
          "base_uri": "https://localhost:8080/"
        },
        "outputId": "88bc0e5d-3684-48ff-edf8-a0a8d0f45069",
        "id": "35KQ5jOp0MAQ"
      },
      "execution_count": 22,
      "outputs": [
        {
          "output_type": "stream",
          "name": "stdout",
          "text": [
            "<class 'pandas.core.frame.DataFrame'>\n",
            "RangeIndex: 5993 entries, 0 to 5992\n",
            "Columns: 11632 entries, Entry to GO:0001884\n",
            "dtypes: float16(9328), float32(1), int16(1), int64(2), int8(2297), object(3)\n",
            "memory usage: 122.5 MB\n"
          ]
        }
      ]
    },
    {
      "cell_type": "markdown",
      "source": [
        "## Fusobacteria"
      ],
      "metadata": {
        "id": "ahYEN-w9tE41"
      }
    },
    {
      "cell_type": "code",
      "source": [
        "data_Fusobacteria = pd.read_csv('/content/Train Dataset/Fuso_train.csv')\n",
        "data_Fusobacteria.info(verbose=False,memory_usage=\"deep\")\n"
      ],
      "metadata": {
        "colab": {
          "base_uri": "https://localhost:8080/"
        },
        "id": "UcwNCG-khU7P",
        "outputId": "a3c69fdd-5220-46df-c6b6-eecb08d75f3d"
      },
      "execution_count": 23,
      "outputs": [
        {
          "output_type": "stream",
          "name": "stdout",
          "text": [
            "<class 'pandas.core.frame.DataFrame'>\n",
            "RangeIndex: 187 entries, 0 to 186\n",
            "Columns: 11632 entries, Entry to GO:0001884\n",
            "dtypes: float64(8414), int64(3215), object(3)\n",
            "memory usage: 16.7 MB\n"
          ]
        }
      ]
    },
    {
      "cell_type": "code",
      "source": [
        "# reduce any int64 columns\n",
        "int_cols = data_Fusobacteria.select_dtypes(include=['int64']).columns\n",
        "for col in int_cols:\n",
        "  if (data_Fusobacteria[col].max() < max_val_8bit) and (data_Fusobacteria[col].min() > min_val_8bit):\n",
        "    data_Fusobacteria[col] = data_Fusobacteria[col].astype('int8')\n",
        "  elif (data_Fusobacteria[col].max() < max_val_16bit) and (data_Fusobacteria[col].min() > min_val_16bit):\n",
        "      data_Fusobacteria[col] = data_Fusobacteria[col].astype('int16')\n",
        "\n",
        "\n",
        "# reduce any float64 columns\n",
        "float_cols = data_Fusobacteria.select_dtypes(include=['float64']).columns\n",
        "for col in float_cols:\n",
        "  if (data_Fusobacteria[col].max() < max_val_16bit) and (data_Fusobacteria[col].min() > min_val_16bit):\n",
        "      data_Fusobacteria[col] = data_Fusobacteria[col].astype('float16')\n",
        "  elif (data_Fusobacteria[col].max() < max_val_32bit) and (data_Fusobacteria[col].min() > min_val_32bit):\n",
        "    data_Fusobacteria[col] = data_Fusobacteria[col].astype('float32')\n",
        "\n",
        "\n",
        "\n",
        "data_Fusobacteria.info(verbose=False,memory_usage=\"deep\")"
      ],
      "metadata": {
        "colab": {
          "base_uri": "https://localhost:8080/"
        },
        "outputId": "8a588c3c-83a4-42c5-dec2-1b086e2ffafb",
        "id": "VxFYtnCr0mQF"
      },
      "execution_count": 24,
      "outputs": [
        {
          "output_type": "stream",
          "name": "stdout",
          "text": [
            "<class 'pandas.core.frame.DataFrame'>\n",
            "RangeIndex: 187 entries, 0 to 186\n",
            "Columns: 11632 entries, Entry to GO:0001884\n",
            "dtypes: float16(8413), float32(1), int16(1), int64(2), int8(3212), object(3)\n",
            "memory usage: 3.7 MB\n"
          ]
        }
      ]
    },
    {
      "cell_type": "markdown",
      "source": [
        "## Proteobacteria"
      ],
      "metadata": {
        "id": "awEyhc6RtEgP"
      }
    },
    {
      "cell_type": "code",
      "source": [
        "data_Proteobacteria = pd.read_csv('/content/Train Dataset/Pro_train1.csv')\n",
        "data_Proteobacteria.info(verbose=False,memory_usage=\"deep\")\n"
      ],
      "metadata": {
        "colab": {
          "base_uri": "https://localhost:8080/"
        },
        "id": "ZLstACqYiXcN",
        "outputId": "8c093602-01b3-405e-bdbe-033160b9ce43"
      },
      "execution_count": 25,
      "outputs": [
        {
          "output_type": "stream",
          "name": "stdout",
          "text": [
            "<class 'pandas.core.frame.DataFrame'>\n",
            "RangeIndex: 4993 entries, 0 to 4992\n",
            "Columns: 11632 entries, Entry to GO:0001884\n",
            "dtypes: float64(9303), int64(2326), object(3)\n",
            "memory usage: 445.9 MB\n"
          ]
        }
      ]
    },
    {
      "cell_type": "code",
      "source": [
        "# reduce any int64 columns\n",
        "int_cols = data_Proteobacteria.select_dtypes(include=['int64']).columns\n",
        "for col in int_cols:\n",
        "  if (data_Proteobacteria[col].max() < max_val_8bit) and (data_Proteobacteria[col].min() > min_val_8bit):\n",
        "    data_Proteobacteria[col] = data_Proteobacteria[col].astype('int8')\n",
        "  elif (data_Proteobacteria[col].max() < max_val_16bit) and (data_Proteobacteria[col].min() > min_val_16bit):\n",
        "      data_Proteobacteria[col] = data_Proteobacteria[col].astype('int16')\n",
        "\n",
        "\n",
        "# reduce any float64 columns\n",
        "float_cols = data_Proteobacteria.select_dtypes(include=['float64']).columns\n",
        "for col in float_cols:\n",
        "  if (data_Proteobacteria[col].max() < max_val_16bit) and (data_Proteobacteria[col].min() > min_val_16bit):\n",
        "      data_Proteobacteria[col] = data_Proteobacteria[col].astype('float16')\n",
        "  elif (data_Proteobacteria[col].max() < max_val_32bit) and (data_Proteobacteria[col].min() > min_val_32bit):\n",
        "    data_Proteobacteria[col] = data_Proteobacteria[col].astype('float32')\n",
        "\n",
        "\n",
        "\n",
        "data_Proteobacteria.info(verbose=False,memory_usage=\"deep\")"
      ],
      "metadata": {
        "colab": {
          "base_uri": "https://localhost:8080/"
        },
        "outputId": "b529af20-5c59-4596-e901-36da7931951b",
        "id": "xQGrrJiN07MG"
      },
      "execution_count": 26,
      "outputs": [
        {
          "output_type": "stream",
          "name": "stdout",
          "text": [
            "<class 'pandas.core.frame.DataFrame'>\n",
            "RangeIndex: 4993 entries, 0 to 4992\n",
            "Columns: 11632 entries, Entry to GO:0001884\n",
            "dtypes: float16(9302), float32(1), int16(1), int64(2), int8(2323), object(3)\n",
            "memory usage: 102.7 MB\n"
          ]
        }
      ]
    },
    {
      "cell_type": "code",
      "source": [
        "data_Proteobacteria4 = pd.read_csv('/content/Train Dataset/Pro_train4.csv')\n",
        "data_Proteobacteria4.info(verbose=False,memory_usage=\"deep\")\n"
      ],
      "metadata": {
        "colab": {
          "base_uri": "https://localhost:8080/"
        },
        "id": "MONGS16viXWt",
        "outputId": "a4f03037-ad06-473c-dd0d-84cabb1b2704"
      },
      "execution_count": 27,
      "outputs": [
        {
          "output_type": "stream",
          "name": "stdout",
          "text": [
            "<class 'pandas.core.frame.DataFrame'>\n",
            "RangeIndex: 4994 entries, 0 to 4993\n",
            "Columns: 11632 entries, Entry to GO:0001884\n",
            "dtypes: float64(9177), int64(2452), object(3)\n",
            "memory usage: 445.3 MB\n"
          ]
        }
      ]
    },
    {
      "cell_type": "code",
      "source": [
        "# reduce any int64 columns\n",
        "int_cols = data_Proteobacteria4.select_dtypes(include=['int64']).columns\n",
        "for col in int_cols:\n",
        "  if (data_Proteobacteria4[col].max() < max_val_8bit) and (data_Proteobacteria4[col].min() > min_val_8bit):\n",
        "    data_Proteobacteria4[col] = data_Proteobacteria4[col].astype('int8')\n",
        "  elif (data_Proteobacteria4[col].max() < max_val_16bit) and (data_Proteobacteria4[col].min() > min_val_16bit):\n",
        "      data_Proteobacteria4[col] = data_Proteobacteria4[col].astype('int16')\n",
        "\n",
        "\n",
        "# reduce any float64 columns\n",
        "float_cols = data_Proteobacteria4.select_dtypes(include=['float64']).columns\n",
        "for col in float_cols:\n",
        "  if (data_Proteobacteria4[col].max() < max_val_16bit) and (data_Proteobacteria4[col].min() > min_val_16bit):\n",
        "      data_Proteobacteria4[col] = data_Proteobacteria4[col].astype('float16')\n",
        "  elif (data_Proteobacteria4[col].max() < max_val_32bit) and (data_Proteobacteria4[col].min() > min_val_32bit):\n",
        "    data_Proteobacteria4[col] = data_Proteobacteria4[col].astype('float32')\n",
        "\n",
        "\n",
        "\n",
        "data_Proteobacteria4.info(verbose=False,memory_usage=\"deep\")"
      ],
      "metadata": {
        "colab": {
          "base_uri": "https://localhost:8080/"
        },
        "outputId": "8b267123-44bd-4828-de54-38df1d23abf5",
        "id": "yS4TyyhR08E4"
      },
      "execution_count": 28,
      "outputs": [
        {
          "output_type": "stream",
          "name": "stdout",
          "text": [
            "<class 'pandas.core.frame.DataFrame'>\n",
            "RangeIndex: 4994 entries, 0 to 4993\n",
            "Columns: 11632 entries, Entry to GO:0001884\n",
            "dtypes: float16(9176), float32(1), int16(1), int64(2), int8(2449), object(3)\n",
            "memory usage: 101.4 MB\n"
          ]
        }
      ]
    },
    {
      "cell_type": "code",
      "source": [
        "data_Proteobacteria5 = pd.read_csv('/content/Train Dataset/Pro_train5.csv')\n",
        "data_Proteobacteria5.info(verbose=False,memory_usage=\"deep\")\n"
      ],
      "metadata": {
        "colab": {
          "base_uri": "https://localhost:8080/"
        },
        "id": "mB9NvhJ5iXSK",
        "outputId": "843464c5-4eaf-48b1-f6b3-ae6f60999d51"
      },
      "execution_count": 29,
      "outputs": [
        {
          "output_type": "stream",
          "name": "stdout",
          "text": [
            "<class 'pandas.core.frame.DataFrame'>\n",
            "RangeIndex: 4998 entries, 0 to 4997\n",
            "Columns: 11632 entries, Entry to GO:0001884\n",
            "dtypes: float64(8455), int64(3174), object(3)\n",
            "memory usage: 445.0 MB\n"
          ]
        }
      ]
    },
    {
      "cell_type": "code",
      "source": [
        "# reduce any int64 columns\n",
        "int_cols = data_Proteobacteria5.select_dtypes(include=['int64']).columns\n",
        "for col in int_cols:\n",
        "  if (data_Proteobacteria5[col].max() < max_val_8bit) and (data_Proteobacteria5[col].min() > min_val_8bit):\n",
        "    data_Proteobacteria5[col] = data_Proteobacteria5[col].astype('int8')\n",
        "  elif (data_Proteobacteria5[col].max() < max_val_16bit) and (data_Proteobacteria5[col].min() > min_val_16bit):\n",
        "      data_Proteobacteria5[col] = data_Proteobacteria5[col].astype('int16')\n",
        "\n",
        "\n",
        "# reduce any float64 columns\n",
        "float_cols = data_Proteobacteria5.select_dtypes(include=['float64']).columns\n",
        "for col in float_cols:\n",
        "  if (data_Proteobacteria5[col].max() < max_val_16bit) and (data_Proteobacteria5[col].min() > min_val_16bit):\n",
        "      data_Proteobacteria5[col] = data_Proteobacteria5[col].astype('float16')\n",
        "  elif (data_Proteobacteria5[col].max() < max_val_32bit) and (data_Proteobacteria5[col].min() > min_val_32bit):\n",
        "    data_Proteobacteria5[col] = data_Proteobacteria5[col].astype('float32')\n",
        "\n",
        "\n",
        "\n",
        "data_Proteobacteria5.info(verbose=False,memory_usage=\"deep\")"
      ],
      "metadata": {
        "colab": {
          "base_uri": "https://localhost:8080/"
        },
        "outputId": "942b7d3f-2465-45fd-ad9c-c3a6220a40c7",
        "id": "n3wNBHDO08y4"
      },
      "execution_count": 30,
      "outputs": [
        {
          "output_type": "stream",
          "name": "stdout",
          "text": [
            "<class 'pandas.core.frame.DataFrame'>\n",
            "RangeIndex: 4998 entries, 0 to 4997\n",
            "Columns: 11632 entries, Entry to GO:0001884\n",
            "dtypes: float16(8455), int16(3), int8(3171), object(3)\n",
            "memory usage: 97.3 MB\n"
          ]
        }
      ]
    },
    {
      "cell_type": "markdown",
      "source": [
        "## Spirochaetes"
      ],
      "metadata": {
        "id": "rCV-Xs0d09r7"
      }
    },
    {
      "cell_type": "code",
      "source": [
        "data_Spirochaetes = pd.read_csv('/content/Train Dataset/Spi_train.csv')\n",
        "data_Spirochaetes.info(verbose=False,memory_usage=\"deep\")\n"
      ],
      "metadata": {
        "colab": {
          "base_uri": "https://localhost:8080/"
        },
        "id": "BhowRG_IiXM6",
        "outputId": "f89ce7f0-e4c2-4a9d-a0f0-8aa0898d1ba6"
      },
      "execution_count": 31,
      "outputs": [
        {
          "output_type": "stream",
          "name": "stdout",
          "text": [
            "<class 'pandas.core.frame.DataFrame'>\n",
            "RangeIndex: 1940 entries, 0 to 1939\n",
            "Columns: 11632 entries, Entry to GO:0001884\n",
            "dtypes: float64(9144), int64(2485), object(3)\n",
            "memory usage: 173.1 MB\n"
          ]
        }
      ]
    },
    {
      "cell_type": "code",
      "source": [
        "# reduce any int64 columns\n",
        "int_cols = data_Spirochaetes.select_dtypes(include=['int64']).columns\n",
        "for col in int_cols:\n",
        "  if (data_Spirochaetes[col].max() < max_val_8bit) and (data_Spirochaetes[col].min() > min_val_8bit):\n",
        "    data_Spirochaetes[col] = data_Spirochaetes[col].astype('int8')\n",
        "  elif (data_Spirochaetes[col].max() < max_val_16bit) and (data_Spirochaetes[col].min() > min_val_16bit):\n",
        "      data_Spirochaetes[col] = data_Spirochaetes[col].astype('int16')\n",
        "\n",
        "\n",
        "# reduce any float64 columns\n",
        "float_cols = data_Spirochaetes.select_dtypes(include=['float64']).columns\n",
        "for col in float_cols:\n",
        "  if (data_Spirochaetes[col].max() < max_val_16bit) and (data_Spirochaetes[col].min() > min_val_16bit):\n",
        "      data_Spirochaetes[col] = data_Spirochaetes[col].astype('float16')\n",
        "  elif (data_Spirochaetes[col].max() < max_val_32bit) and (data_Spirochaetes[col].min() > min_val_32bit):\n",
        "    data_Spirochaetes[col] = data_Spirochaetes[col].astype('float32')\n",
        "\n",
        "\n",
        "\n",
        "data_Spirochaetes.info(verbose=False,memory_usage=\"deep\")"
      ],
      "metadata": {
        "colab": {
          "base_uri": "https://localhost:8080/"
        },
        "id": "72sAGKj11K0U",
        "outputId": "0d5cc6d8-d7d4-44a3-f0ef-fa80d012958b"
      },
      "execution_count": 32,
      "outputs": [
        {
          "output_type": "stream",
          "name": "stdout",
          "text": [
            "<class 'pandas.core.frame.DataFrame'>\n",
            "RangeIndex: 1940 entries, 0 to 1939\n",
            "Columns: 11632 entries, Entry to GO:0001884\n",
            "dtypes: float16(9143), float32(1), int16(1), int64(2), int8(2482), object(3)\n",
            "memory usage: 39.4 MB\n"
          ]
        }
      ]
    },
    {
      "cell_type": "markdown",
      "source": [
        "## Tenericutes"
      ],
      "metadata": {
        "id": "zXmHtzLd1P2B"
      }
    },
    {
      "cell_type": "code",
      "source": [
        "data_Tenericutes = pd.read_csv('/content/Train Dataset/Ten_train.csv')\n",
        "data_Tenericutes.info(verbose=False,memory_usage=\"deep\")\n"
      ],
      "metadata": {
        "colab": {
          "base_uri": "https://localhost:8080/"
        },
        "id": "u5SFShDciXFs",
        "outputId": "6590d356-217e-46b4-c0a2-c451a3cc504f"
      },
      "execution_count": 33,
      "outputs": [
        {
          "output_type": "stream",
          "name": "stdout",
          "text": [
            "<class 'pandas.core.frame.DataFrame'>\n",
            "RangeIndex: 2163 entries, 0 to 2162\n",
            "Columns: 11632 entries, Entry to GO:0001884\n",
            "dtypes: float64(9215), int64(2414), object(3)\n",
            "memory usage: 192.9 MB\n"
          ]
        }
      ]
    },
    {
      "cell_type": "code",
      "source": [
        "# reduce any int64 columns\n",
        "int_cols = data_Tenericutes.select_dtypes(include=['int64']).columns\n",
        "for col in int_cols:\n",
        "  if (data_Tenericutes[col].max() < max_val_8bit) and (data_Tenericutes[col].min() > min_val_8bit):\n",
        "    data_Tenericutes[col] = data_Tenericutes[col].astype('int8')\n",
        "  elif (data_Tenericutes[col].max() < max_val_16bit) and (data_Tenericutes[col].min() > min_val_16bit):\n",
        "      data_Tenericutes[col] = data_Tenericutes[col].astype('int16')\n",
        "\n",
        "\n",
        "# reduce any float64 columns\n",
        "float_cols = data_Tenericutes.select_dtypes(include=['float64']).columns\n",
        "for col in float_cols:\n",
        "  if (data_Tenericutes[col].max() < max_val_16bit) and (data_Tenericutes[col].min() > min_val_16bit):\n",
        "      data_Tenericutes[col] = data_Tenericutes[col].astype('float16')\n",
        "  elif (data_Tenericutes[col].max() < max_val_32bit) and (data_Tenericutes[col].min() > min_val_32bit):\n",
        "    data_Tenericutes[col] = data_Tenericutes[col].astype('float32')\n",
        "\n",
        "\n",
        "\n",
        "data_Tenericutes.info(verbose=False,memory_usage=\"deep\")"
      ],
      "metadata": {
        "colab": {
          "base_uri": "https://localhost:8080/"
        },
        "id": "QAQ-ZA7V1Sn2",
        "outputId": "29d1dc7c-e179-4866-8b9a-b8172136257e"
      },
      "execution_count": 34,
      "outputs": [
        {
          "output_type": "stream",
          "name": "stdout",
          "text": [
            "<class 'pandas.core.frame.DataFrame'>\n",
            "RangeIndex: 2163 entries, 0 to 2162\n",
            "Columns: 11632 entries, Entry to GO:0001884\n",
            "dtypes: float16(9214), float32(1), int16(1), int64(2), int8(2411), object(3)\n",
            "memory usage: 44.1 MB\n"
          ]
        }
      ]
    },
    {
      "cell_type": "code",
      "source": [
        "del min_val_8bit, max_val_8bit, min_val_16bit, max_val_16bit, min_val_32bit, max_val_32bit"
      ],
      "metadata": {
        "id": "t2CvAuHr3FHu"
      },
      "execution_count": 35,
      "outputs": []
    },
    {
      "cell_type": "markdown",
      "source": [
        "## Combine all into one dataset"
      ],
      "metadata": {
        "id": "6CklfVoP3B43"
      }
    },
    {
      "cell_type": "code",
      "source": [
        "df = pd.concat([data_Actinobacteria1, data_Actinobacteria2,\n",
        "                data_Bacteroidetes, data_Chlamydiae,\n",
        "                data_Cyanobacteria, data_Firmicutes1,\n",
        "                data_Firmicutes2, data_Fusobacteria,\n",
        "                data_Proteobacteria, data_Proteobacteria4,\n",
        "                data_Proteobacteria5, data_Spirochaetes,\n",
        "                data_Tenericutes\n",
        "                ])\n",
        "df.info(verbose=False,memory_usage=\"deep\")"
      ],
      "metadata": {
        "colab": {
          "base_uri": "https://localhost:8080/"
        },
        "id": "TMUG-MBiiXAE",
        "outputId": "a41fe0ae-b2bc-4682-df36-52e510ac15e5"
      },
      "execution_count": 36,
      "outputs": [
        {
          "output_type": "stream",
          "name": "stdout",
          "text": [
            "<class 'pandas.core.frame.DataFrame'>\n",
            "Index: 47746 entries, 0 to 2162\n",
            "Columns: 11632 entries, Entry to GO:0001884\n",
            "dtypes: float16(11625), float32(2), float64(2), object(3)\n",
            "memory usage: 1.1 GB\n"
          ]
        }
      ]
    },
    {
      "cell_type": "code",
      "source": [
        "del data_Actinobacteria1, data_Actinobacteria2, data_Bacteroidetes, data_Chlamydiae, data_Cyanobacteria, data_Firmicutes1, data_Firmicutes2, data_Fusobacteria, data_Proteobacteria, data_Proteobacteria4, data_Proteobacteria5, data_Spirochaetes, data_Tenericutes"
      ],
      "metadata": {
        "id": "Z2IB9ihAiW25"
      },
      "execution_count": 37,
      "outputs": []
    },
    {
      "cell_type": "markdown",
      "source": [
        "## Remove duplicates"
      ],
      "metadata": {
        "id": "Xl7_dL6yfi_U"
      }
    },
    {
      "cell_type": "code",
      "source": [
        "df.drop_duplicates(inplace=True)"
      ],
      "metadata": {
        "id": "wye_EbDefsgj"
      },
      "execution_count": 38,
      "outputs": []
    },
    {
      "cell_type": "markdown",
      "source": [
        "## Separate into X and y"
      ],
      "metadata": {
        "id": "JOTtwiJZe-kV"
      }
    },
    {
      "cell_type": "code",
      "source": [
        "# In the paper there are 9890 features so drop the entry, entry name and sequence column\n",
        "#  the binary target labels are the GO columns\n",
        "\n",
        "go_columns = [col for col in df.columns if col.startswith('GO')]\n",
        "y = df[go_columns]\n",
        "X = df.drop(go_columns, axis=1)\n",
        "X.drop(['Entry','Entry name','Sequence'], axis=1,inplace=True)\n"
      ],
      "metadata": {
        "id": "2b73gfcBiWox"
      },
      "execution_count": 39,
      "outputs": []
    },
    {
      "cell_type": "code",
      "execution_count": 40,
      "metadata": {
        "id": "qEzei0wODON2"
      },
      "outputs": [],
      "source": [
        "# df not needed\n",
        "del df"
      ]
    },
    {
      "cell_type": "markdown",
      "metadata": {
        "id": "jJbtT7pjg2gu"
      },
      "source": [
        "# There will be 3 feature sets\n",
        " * f1 contains the entire set of 9,890\n",
        " * f2 contains the set of 8,420 features that contained only compositions of amino acids, dipeptides, and tripeptides.\n",
        " * f3 contains the remaining 1,470 features that are part of f1 but not part of f2 consisting of various properties and characteristics derived from proteins\n",
        "\n"
      ]
    },
    {
      "cell_type": "markdown",
      "metadata": {
        "id": "_kw0r77JexEs"
      },
      "source": [
        "## Working with the F1"
      ]
    },
    {
      "cell_type": "code",
      "execution_count": 41,
      "metadata": {
        "colab": {
          "base_uri": "https://localhost:8080/",
          "height": 638
        },
        "id": "ZAPvtxdDfhWl",
        "outputId": "3e011b00-111d-4c2d-fc37-0b19b1a1d628"
      },
      "outputs": [
        {
          "output_type": "execute_result",
          "data": {
            "text/plain": [
              "          A         C         D         E         F         G         H  \\\n",
              "0  0.107117  0.005100  0.107117  0.096924  0.035706  0.086731  0.040802   \n",
              "1  0.125732  0.005463  0.081970  0.098389  0.027328  0.071045  0.038239   \n",
              "2  0.146484  0.006371  0.082825  0.095520  0.012741  0.082825  0.050964   \n",
              "3  0.089905  0.005619  0.089905  0.112366  0.028091  0.056183  0.033722   \n",
              "4  0.095520  0.005619  0.095520  0.112366  0.028091  0.073059  0.033722   \n",
              "5  0.142578  0.003565  0.053467  0.058838  0.008911  0.087341  0.021393   \n",
              "6  0.088867  0.005554  0.094421  0.105530  0.027771  0.072205  0.038879   \n",
              "7  0.166626  0.009262  0.037048  0.101868  0.018524  0.064819  0.009262   \n",
              "8  0.103027  0.015266  0.045807  0.095398  0.019089  0.080139  0.015266   \n",
              "9  0.116943  0.022385  0.039795  0.057220  0.027359  0.052246  0.012436   \n",
              "\n",
              "          I         K         L  ...  \\\n",
              "0  0.035706  0.025513  0.107117  ...   \n",
              "1  0.032776  0.021851  0.120239  ...   \n",
              "2  0.025482  0.006371  0.127441  ...   \n",
              "3  0.022476  0.028091  0.123596  ...   \n",
              "4  0.028091  0.016861  0.117981  ...   \n",
              "5  0.016037  0.012474  0.133667  ...   \n",
              "6  0.033325  0.022217  0.122192  ...   \n",
              "7  0.027771  0.027771  0.074097  ...   \n",
              "8  0.045807  0.015266  0.110657  ...   \n",
              "9  0.029846  0.064697  0.084595  ...   \n",
              "\n",
              "   [LIV]-[LIVMGSTC]-[DET]-[RH]-[FYHCS]-x(2)-S-[GSTNP]-x-[AVC]-[FY]-[STANQ]  \\\n",
              "0                                                0.0                         \n",
              "1                                                0.0                         \n",
              "2                                                0.0                         \n",
              "3                                                0.0                         \n",
              "4                                                0.0                         \n",
              "5                                                0.0                         \n",
              "6                                                0.0                         \n",
              "7                                                0.0                         \n",
              "8                                                0.0                         \n",
              "9                                                0.0                         \n",
              "\n",
              "   E-[ST]-[EA]-R-E-A-[RK]-x-[LI]  \\\n",
              "0                            0.0   \n",
              "1                            0.0   \n",
              "2                            0.0   \n",
              "3                            0.0   \n",
              "4                            0.0   \n",
              "5                            0.0   \n",
              "6                            0.0   \n",
              "7                            0.0   \n",
              "8                            0.0   \n",
              "9                            0.0   \n",
              "\n",
              "   [EQ]-[YF]-A-[LIVM]-x(2)-[LIVM]-x(4)-[LIVMF](3)-x-G-H-x(2)-C-G  \\\n",
              "0                                                0.0               \n",
              "1                                                0.0               \n",
              "2                                                0.0               \n",
              "3                                                0.0               \n",
              "4                                                0.0               \n",
              "5                                                0.0               \n",
              "6                                                0.0               \n",
              "7                                                0.0               \n",
              "8                                                0.0               \n",
              "9                                                0.0               \n",
              "\n",
              "   [RK]-x-[STA]-x(2)-S-x-C-Y-[SL]  \\\n",
              "0                             0.0   \n",
              "1                             0.0   \n",
              "2                             0.0   \n",
              "3                             0.0   \n",
              "4                             0.0   \n",
              "5                             0.0   \n",
              "6                             0.0   \n",
              "7                             0.0   \n",
              "8                             0.0   \n",
              "9                             0.0   \n",
              "\n",
              "   [GSTAP]-x(2)-[DNEQA]-[LIVM]-[GSA]-x(2)-[LIVMFYT]-[GAN]-[LIVMST]-[ST]-x(6)-R-[LIVT]-x(2)-[LIVM]-x(3)-G  \\\n",
              "0                                                0.0                                                       \n",
              "1                                                0.0                                                       \n",
              "2                                                0.0                                                       \n",
              "3                                                0.0                                                       \n",
              "4                                                0.0                                                       \n",
              "5                                                0.0                                                       \n",
              "6                                                0.0                                                       \n",
              "7                                                0.0                                                       \n",
              "8                                                0.0                                                       \n",
              "9                                                0.0                                                       \n",
              "\n",
              "   [LIVMFY](2)-D-[STA]-H-x-H-[LIVMFP]-[DN]  \\\n",
              "0                                      0.0   \n",
              "1                                      0.0   \n",
              "2                                      0.0   \n",
              "3                                      0.0   \n",
              "4                                      0.0   \n",
              "5                                      0.0   \n",
              "6                                      0.0   \n",
              "7                                      0.0   \n",
              "8                                      0.0   \n",
              "9                                      0.0   \n",
              "\n",
              "   [GA]-x(1,2)-[DE]-x-Y-x-[STAPV]-x-C-[NKR]-x-[CH]-[LIVMFYWH]  \\\n",
              "0                                                0.0            \n",
              "1                                                0.0            \n",
              "2                                                0.0            \n",
              "3                                                0.0            \n",
              "4                                                0.0            \n",
              "5                                                0.0            \n",
              "6                                                0.0            \n",
              "7                                                0.0            \n",
              "8                                                0.0            \n",
              "9                                                0.0            \n",
              "\n",
              "   K-x-[AV]-x(4)-G-x(2)-[LIVT]-x-V-P-x(2)-[LIVC]-x(2)-[GD]  \\\n",
              "0                                                0.0         \n",
              "1                                                0.0         \n",
              "2                                                0.0         \n",
              "3                                                0.0         \n",
              "4                                                0.0         \n",
              "5                                                0.0         \n",
              "6                                                0.0         \n",
              "7                                                0.0         \n",
              "8                                                0.0         \n",
              "9                                                0.0         \n",
              "\n",
              "   [MFY]-x-G-H-G-[LIVMC]-[GSHN]-x(3)-H-x(4)-[LIVM]-x(1,2)-[HN]-[YWVHF]  \\\n",
              "0                                                0.0                     \n",
              "1                                                0.0                     \n",
              "2                                                0.0                     \n",
              "3                                                0.0                     \n",
              "4                                                0.0                     \n",
              "5                                                0.0                     \n",
              "6                                                0.0                     \n",
              "7                                                0.0                     \n",
              "8                                                0.0                     \n",
              "9                                                0.0                     \n",
              "\n",
              "   P-x(2)-R-G-[STAIV](2)-x-N-[APK]-x-[DE]  \n",
              "0                                     0.0  \n",
              "1                                     0.0  \n",
              "2                                     0.0  \n",
              "3                                     0.0  \n",
              "4                                     0.0  \n",
              "5                                     0.0  \n",
              "6                                     0.0  \n",
              "7                                     0.0  \n",
              "8                                     0.0  \n",
              "9                                     0.0  \n",
              "\n",
              "[10 rows x 9890 columns]"
            ],
            "text/html": [
              "\n",
              "  <div id=\"df-7c7fdcf9-8679-45f2-a51d-23430597e8a5\" class=\"colab-df-container\">\n",
              "    <div>\n",
              "<style scoped>\n",
              "    .dataframe tbody tr th:only-of-type {\n",
              "        vertical-align: middle;\n",
              "    }\n",
              "\n",
              "    .dataframe tbody tr th {\n",
              "        vertical-align: top;\n",
              "    }\n",
              "\n",
              "    .dataframe thead th {\n",
              "        text-align: right;\n",
              "    }\n",
              "</style>\n",
              "<table border=\"1\" class=\"dataframe\">\n",
              "  <thead>\n",
              "    <tr style=\"text-align: right;\">\n",
              "      <th></th>\n",
              "      <th>A</th>\n",
              "      <th>C</th>\n",
              "      <th>D</th>\n",
              "      <th>E</th>\n",
              "      <th>F</th>\n",
              "      <th>G</th>\n",
              "      <th>H</th>\n",
              "      <th>I</th>\n",
              "      <th>K</th>\n",
              "      <th>L</th>\n",
              "      <th>...</th>\n",
              "      <th>[LIV]-[LIVMGSTC]-[DET]-[RH]-[FYHCS]-x(2)-S-[GSTNP]-x-[AVC]-[FY]-[STANQ]</th>\n",
              "      <th>E-[ST]-[EA]-R-E-A-[RK]-x-[LI]</th>\n",
              "      <th>[EQ]-[YF]-A-[LIVM]-x(2)-[LIVM]-x(4)-[LIVMF](3)-x-G-H-x(2)-C-G</th>\n",
              "      <th>[RK]-x-[STA]-x(2)-S-x-C-Y-[SL]</th>\n",
              "      <th>[GSTAP]-x(2)-[DNEQA]-[LIVM]-[GSA]-x(2)-[LIVMFYT]-[GAN]-[LIVMST]-[ST]-x(6)-R-[LIVT]-x(2)-[LIVM]-x(3)-G</th>\n",
              "      <th>[LIVMFY](2)-D-[STA]-H-x-H-[LIVMFP]-[DN]</th>\n",
              "      <th>[GA]-x(1,2)-[DE]-x-Y-x-[STAPV]-x-C-[NKR]-x-[CH]-[LIVMFYWH]</th>\n",
              "      <th>K-x-[AV]-x(4)-G-x(2)-[LIVT]-x-V-P-x(2)-[LIVC]-x(2)-[GD]</th>\n",
              "      <th>[MFY]-x-G-H-G-[LIVMC]-[GSHN]-x(3)-H-x(4)-[LIVM]-x(1,2)-[HN]-[YWVHF]</th>\n",
              "      <th>P-x(2)-R-G-[STAIV](2)-x-N-[APK]-x-[DE]</th>\n",
              "    </tr>\n",
              "  </thead>\n",
              "  <tbody>\n",
              "    <tr>\n",
              "      <th>0</th>\n",
              "      <td>0.107117</td>\n",
              "      <td>0.005100</td>\n",
              "      <td>0.107117</td>\n",
              "      <td>0.096924</td>\n",
              "      <td>0.035706</td>\n",
              "      <td>0.086731</td>\n",
              "      <td>0.040802</td>\n",
              "      <td>0.035706</td>\n",
              "      <td>0.025513</td>\n",
              "      <td>0.107117</td>\n",
              "      <td>...</td>\n",
              "      <td>0.0</td>\n",
              "      <td>0.0</td>\n",
              "      <td>0.0</td>\n",
              "      <td>0.0</td>\n",
              "      <td>0.0</td>\n",
              "      <td>0.0</td>\n",
              "      <td>0.0</td>\n",
              "      <td>0.0</td>\n",
              "      <td>0.0</td>\n",
              "      <td>0.0</td>\n",
              "    </tr>\n",
              "    <tr>\n",
              "      <th>1</th>\n",
              "      <td>0.125732</td>\n",
              "      <td>0.005463</td>\n",
              "      <td>0.081970</td>\n",
              "      <td>0.098389</td>\n",
              "      <td>0.027328</td>\n",
              "      <td>0.071045</td>\n",
              "      <td>0.038239</td>\n",
              "      <td>0.032776</td>\n",
              "      <td>0.021851</td>\n",
              "      <td>0.120239</td>\n",
              "      <td>...</td>\n",
              "      <td>0.0</td>\n",
              "      <td>0.0</td>\n",
              "      <td>0.0</td>\n",
              "      <td>0.0</td>\n",
              "      <td>0.0</td>\n",
              "      <td>0.0</td>\n",
              "      <td>0.0</td>\n",
              "      <td>0.0</td>\n",
              "      <td>0.0</td>\n",
              "      <td>0.0</td>\n",
              "    </tr>\n",
              "    <tr>\n",
              "      <th>2</th>\n",
              "      <td>0.146484</td>\n",
              "      <td>0.006371</td>\n",
              "      <td>0.082825</td>\n",
              "      <td>0.095520</td>\n",
              "      <td>0.012741</td>\n",
              "      <td>0.082825</td>\n",
              "      <td>0.050964</td>\n",
              "      <td>0.025482</td>\n",
              "      <td>0.006371</td>\n",
              "      <td>0.127441</td>\n",
              "      <td>...</td>\n",
              "      <td>0.0</td>\n",
              "      <td>0.0</td>\n",
              "      <td>0.0</td>\n",
              "      <td>0.0</td>\n",
              "      <td>0.0</td>\n",
              "      <td>0.0</td>\n",
              "      <td>0.0</td>\n",
              "      <td>0.0</td>\n",
              "      <td>0.0</td>\n",
              "      <td>0.0</td>\n",
              "    </tr>\n",
              "    <tr>\n",
              "      <th>3</th>\n",
              "      <td>0.089905</td>\n",
              "      <td>0.005619</td>\n",
              "      <td>0.089905</td>\n",
              "      <td>0.112366</td>\n",
              "      <td>0.028091</td>\n",
              "      <td>0.056183</td>\n",
              "      <td>0.033722</td>\n",
              "      <td>0.022476</td>\n",
              "      <td>0.028091</td>\n",
              "      <td>0.123596</td>\n",
              "      <td>...</td>\n",
              "      <td>0.0</td>\n",
              "      <td>0.0</td>\n",
              "      <td>0.0</td>\n",
              "      <td>0.0</td>\n",
              "      <td>0.0</td>\n",
              "      <td>0.0</td>\n",
              "      <td>0.0</td>\n",
              "      <td>0.0</td>\n",
              "      <td>0.0</td>\n",
              "      <td>0.0</td>\n",
              "    </tr>\n",
              "    <tr>\n",
              "      <th>4</th>\n",
              "      <td>0.095520</td>\n",
              "      <td>0.005619</td>\n",
              "      <td>0.095520</td>\n",
              "      <td>0.112366</td>\n",
              "      <td>0.028091</td>\n",
              "      <td>0.073059</td>\n",
              "      <td>0.033722</td>\n",
              "      <td>0.028091</td>\n",
              "      <td>0.016861</td>\n",
              "      <td>0.117981</td>\n",
              "      <td>...</td>\n",
              "      <td>0.0</td>\n",
              "      <td>0.0</td>\n",
              "      <td>0.0</td>\n",
              "      <td>0.0</td>\n",
              "      <td>0.0</td>\n",
              "      <td>0.0</td>\n",
              "      <td>0.0</td>\n",
              "      <td>0.0</td>\n",
              "      <td>0.0</td>\n",
              "      <td>0.0</td>\n",
              "    </tr>\n",
              "    <tr>\n",
              "      <th>5</th>\n",
              "      <td>0.142578</td>\n",
              "      <td>0.003565</td>\n",
              "      <td>0.053467</td>\n",
              "      <td>0.058838</td>\n",
              "      <td>0.008911</td>\n",
              "      <td>0.087341</td>\n",
              "      <td>0.021393</td>\n",
              "      <td>0.016037</td>\n",
              "      <td>0.012474</td>\n",
              "      <td>0.133667</td>\n",
              "      <td>...</td>\n",
              "      <td>0.0</td>\n",
              "      <td>0.0</td>\n",
              "      <td>0.0</td>\n",
              "      <td>0.0</td>\n",
              "      <td>0.0</td>\n",
              "      <td>0.0</td>\n",
              "      <td>0.0</td>\n",
              "      <td>0.0</td>\n",
              "      <td>0.0</td>\n",
              "      <td>0.0</td>\n",
              "    </tr>\n",
              "    <tr>\n",
              "      <th>6</th>\n",
              "      <td>0.088867</td>\n",
              "      <td>0.005554</td>\n",
              "      <td>0.094421</td>\n",
              "      <td>0.105530</td>\n",
              "      <td>0.027771</td>\n",
              "      <td>0.072205</td>\n",
              "      <td>0.038879</td>\n",
              "      <td>0.033325</td>\n",
              "      <td>0.022217</td>\n",
              "      <td>0.122192</td>\n",
              "      <td>...</td>\n",
              "      <td>0.0</td>\n",
              "      <td>0.0</td>\n",
              "      <td>0.0</td>\n",
              "      <td>0.0</td>\n",
              "      <td>0.0</td>\n",
              "      <td>0.0</td>\n",
              "      <td>0.0</td>\n",
              "      <td>0.0</td>\n",
              "      <td>0.0</td>\n",
              "      <td>0.0</td>\n",
              "    </tr>\n",
              "    <tr>\n",
              "      <th>7</th>\n",
              "      <td>0.166626</td>\n",
              "      <td>0.009262</td>\n",
              "      <td>0.037048</td>\n",
              "      <td>0.101868</td>\n",
              "      <td>0.018524</td>\n",
              "      <td>0.064819</td>\n",
              "      <td>0.009262</td>\n",
              "      <td>0.027771</td>\n",
              "      <td>0.027771</td>\n",
              "      <td>0.074097</td>\n",
              "      <td>...</td>\n",
              "      <td>0.0</td>\n",
              "      <td>0.0</td>\n",
              "      <td>0.0</td>\n",
              "      <td>0.0</td>\n",
              "      <td>0.0</td>\n",
              "      <td>0.0</td>\n",
              "      <td>0.0</td>\n",
              "      <td>0.0</td>\n",
              "      <td>0.0</td>\n",
              "      <td>0.0</td>\n",
              "    </tr>\n",
              "    <tr>\n",
              "      <th>8</th>\n",
              "      <td>0.103027</td>\n",
              "      <td>0.015266</td>\n",
              "      <td>0.045807</td>\n",
              "      <td>0.095398</td>\n",
              "      <td>0.019089</td>\n",
              "      <td>0.080139</td>\n",
              "      <td>0.015266</td>\n",
              "      <td>0.045807</td>\n",
              "      <td>0.015266</td>\n",
              "      <td>0.110657</td>\n",
              "      <td>...</td>\n",
              "      <td>0.0</td>\n",
              "      <td>0.0</td>\n",
              "      <td>0.0</td>\n",
              "      <td>0.0</td>\n",
              "      <td>0.0</td>\n",
              "      <td>0.0</td>\n",
              "      <td>0.0</td>\n",
              "      <td>0.0</td>\n",
              "      <td>0.0</td>\n",
              "      <td>0.0</td>\n",
              "    </tr>\n",
              "    <tr>\n",
              "      <th>9</th>\n",
              "      <td>0.116943</td>\n",
              "      <td>0.022385</td>\n",
              "      <td>0.039795</td>\n",
              "      <td>0.057220</td>\n",
              "      <td>0.027359</td>\n",
              "      <td>0.052246</td>\n",
              "      <td>0.012436</td>\n",
              "      <td>0.029846</td>\n",
              "      <td>0.064697</td>\n",
              "      <td>0.084595</td>\n",
              "      <td>...</td>\n",
              "      <td>0.0</td>\n",
              "      <td>0.0</td>\n",
              "      <td>0.0</td>\n",
              "      <td>0.0</td>\n",
              "      <td>0.0</td>\n",
              "      <td>0.0</td>\n",
              "      <td>0.0</td>\n",
              "      <td>0.0</td>\n",
              "      <td>0.0</td>\n",
              "      <td>0.0</td>\n",
              "    </tr>\n",
              "  </tbody>\n",
              "</table>\n",
              "<p>10 rows × 9890 columns</p>\n",
              "</div>\n",
              "    <div class=\"colab-df-buttons\">\n",
              "\n",
              "  <div class=\"colab-df-container\">\n",
              "    <button class=\"colab-df-convert\" onclick=\"convertToInteractive('df-7c7fdcf9-8679-45f2-a51d-23430597e8a5')\"\n",
              "            title=\"Convert this dataframe to an interactive table.\"\n",
              "            style=\"display:none;\">\n",
              "\n",
              "  <svg xmlns=\"http://www.w3.org/2000/svg\" height=\"24px\" viewBox=\"0 -960 960 960\">\n",
              "    <path d=\"M120-120v-720h720v720H120Zm60-500h600v-160H180v160Zm220 220h160v-160H400v160Zm0 220h160v-160H400v160ZM180-400h160v-160H180v160Zm440 0h160v-160H620v160ZM180-180h160v-160H180v160Zm440 0h160v-160H620v160Z\"/>\n",
              "  </svg>\n",
              "    </button>\n",
              "\n",
              "  <style>\n",
              "    .colab-df-container {\n",
              "      display:flex;\n",
              "      gap: 12px;\n",
              "    }\n",
              "\n",
              "    .colab-df-convert {\n",
              "      background-color: #E8F0FE;\n",
              "      border: none;\n",
              "      border-radius: 50%;\n",
              "      cursor: pointer;\n",
              "      display: none;\n",
              "      fill: #1967D2;\n",
              "      height: 32px;\n",
              "      padding: 0 0 0 0;\n",
              "      width: 32px;\n",
              "    }\n",
              "\n",
              "    .colab-df-convert:hover {\n",
              "      background-color: #E2EBFA;\n",
              "      box-shadow: 0px 1px 2px rgba(60, 64, 67, 0.3), 0px 1px 3px 1px rgba(60, 64, 67, 0.15);\n",
              "      fill: #174EA6;\n",
              "    }\n",
              "\n",
              "    .colab-df-buttons div {\n",
              "      margin-bottom: 4px;\n",
              "    }\n",
              "\n",
              "    [theme=dark] .colab-df-convert {\n",
              "      background-color: #3B4455;\n",
              "      fill: #D2E3FC;\n",
              "    }\n",
              "\n",
              "    [theme=dark] .colab-df-convert:hover {\n",
              "      background-color: #434B5C;\n",
              "      box-shadow: 0px 1px 3px 1px rgba(0, 0, 0, 0.15);\n",
              "      filter: drop-shadow(0px 1px 2px rgba(0, 0, 0, 0.3));\n",
              "      fill: #FFFFFF;\n",
              "    }\n",
              "  </style>\n",
              "\n",
              "    <script>\n",
              "      const buttonEl =\n",
              "        document.querySelector('#df-7c7fdcf9-8679-45f2-a51d-23430597e8a5 button.colab-df-convert');\n",
              "      buttonEl.style.display =\n",
              "        google.colab.kernel.accessAllowed ? 'block' : 'none';\n",
              "\n",
              "      async function convertToInteractive(key) {\n",
              "        const element = document.querySelector('#df-7c7fdcf9-8679-45f2-a51d-23430597e8a5');\n",
              "        const dataTable =\n",
              "          await google.colab.kernel.invokeFunction('convertToInteractive',\n",
              "                                                    [key], {});\n",
              "        if (!dataTable) return;\n",
              "\n",
              "        const docLinkHtml = 'Like what you see? Visit the ' +\n",
              "          '<a target=\"_blank\" href=https://colab.research.google.com/notebooks/data_table.ipynb>data table notebook</a>'\n",
              "          + ' to learn more about interactive tables.';\n",
              "        element.innerHTML = '';\n",
              "        dataTable['output_type'] = 'display_data';\n",
              "        await google.colab.output.renderOutput(dataTable, element);\n",
              "        const docLink = document.createElement('div');\n",
              "        docLink.innerHTML = docLinkHtml;\n",
              "        element.appendChild(docLink);\n",
              "      }\n",
              "    </script>\n",
              "  </div>\n",
              "\n",
              "\n",
              "<div id=\"df-46ebeeef-54f8-4867-817d-74465be00f47\">\n",
              "  <button class=\"colab-df-quickchart\" onclick=\"quickchart('df-46ebeeef-54f8-4867-817d-74465be00f47')\"\n",
              "            title=\"Suggest charts\"\n",
              "            style=\"display:none;\">\n",
              "\n",
              "<svg xmlns=\"http://www.w3.org/2000/svg\" height=\"24px\"viewBox=\"0 0 24 24\"\n",
              "     width=\"24px\">\n",
              "    <g>\n",
              "        <path d=\"M19 3H5c-1.1 0-2 .9-2 2v14c0 1.1.9 2 2 2h14c1.1 0 2-.9 2-2V5c0-1.1-.9-2-2-2zM9 17H7v-7h2v7zm4 0h-2V7h2v10zm4 0h-2v-4h2v4z\"/>\n",
              "    </g>\n",
              "</svg>\n",
              "  </button>\n",
              "\n",
              "<style>\n",
              "  .colab-df-quickchart {\n",
              "      --bg-color: #E8F0FE;\n",
              "      --fill-color: #1967D2;\n",
              "      --hover-bg-color: #E2EBFA;\n",
              "      --hover-fill-color: #174EA6;\n",
              "      --disabled-fill-color: #AAA;\n",
              "      --disabled-bg-color: #DDD;\n",
              "  }\n",
              "\n",
              "  [theme=dark] .colab-df-quickchart {\n",
              "      --bg-color: #3B4455;\n",
              "      --fill-color: #D2E3FC;\n",
              "      --hover-bg-color: #434B5C;\n",
              "      --hover-fill-color: #FFFFFF;\n",
              "      --disabled-bg-color: #3B4455;\n",
              "      --disabled-fill-color: #666;\n",
              "  }\n",
              "\n",
              "  .colab-df-quickchart {\n",
              "    background-color: var(--bg-color);\n",
              "    border: none;\n",
              "    border-radius: 50%;\n",
              "    cursor: pointer;\n",
              "    display: none;\n",
              "    fill: var(--fill-color);\n",
              "    height: 32px;\n",
              "    padding: 0;\n",
              "    width: 32px;\n",
              "  }\n",
              "\n",
              "  .colab-df-quickchart:hover {\n",
              "    background-color: var(--hover-bg-color);\n",
              "    box-shadow: 0 1px 2px rgba(60, 64, 67, 0.3), 0 1px 3px 1px rgba(60, 64, 67, 0.15);\n",
              "    fill: var(--button-hover-fill-color);\n",
              "  }\n",
              "\n",
              "  .colab-df-quickchart-complete:disabled,\n",
              "  .colab-df-quickchart-complete:disabled:hover {\n",
              "    background-color: var(--disabled-bg-color);\n",
              "    fill: var(--disabled-fill-color);\n",
              "    box-shadow: none;\n",
              "  }\n",
              "\n",
              "  .colab-df-spinner {\n",
              "    border: 2px solid var(--fill-color);\n",
              "    border-color: transparent;\n",
              "    border-bottom-color: var(--fill-color);\n",
              "    animation:\n",
              "      spin 1s steps(1) infinite;\n",
              "  }\n",
              "\n",
              "  @keyframes spin {\n",
              "    0% {\n",
              "      border-color: transparent;\n",
              "      border-bottom-color: var(--fill-color);\n",
              "      border-left-color: var(--fill-color);\n",
              "    }\n",
              "    20% {\n",
              "      border-color: transparent;\n",
              "      border-left-color: var(--fill-color);\n",
              "      border-top-color: var(--fill-color);\n",
              "    }\n",
              "    30% {\n",
              "      border-color: transparent;\n",
              "      border-left-color: var(--fill-color);\n",
              "      border-top-color: var(--fill-color);\n",
              "      border-right-color: var(--fill-color);\n",
              "    }\n",
              "    40% {\n",
              "      border-color: transparent;\n",
              "      border-right-color: var(--fill-color);\n",
              "      border-top-color: var(--fill-color);\n",
              "    }\n",
              "    60% {\n",
              "      border-color: transparent;\n",
              "      border-right-color: var(--fill-color);\n",
              "    }\n",
              "    80% {\n",
              "      border-color: transparent;\n",
              "      border-right-color: var(--fill-color);\n",
              "      border-bottom-color: var(--fill-color);\n",
              "    }\n",
              "    90% {\n",
              "      border-color: transparent;\n",
              "      border-bottom-color: var(--fill-color);\n",
              "    }\n",
              "  }\n",
              "</style>\n",
              "\n",
              "  <script>\n",
              "    async function quickchart(key) {\n",
              "      const quickchartButtonEl =\n",
              "        document.querySelector('#' + key + ' button');\n",
              "      quickchartButtonEl.disabled = true;  // To prevent multiple clicks.\n",
              "      quickchartButtonEl.classList.add('colab-df-spinner');\n",
              "      try {\n",
              "        const charts = await google.colab.kernel.invokeFunction(\n",
              "            'suggestCharts', [key], {});\n",
              "      } catch (error) {\n",
              "        console.error('Error during call to suggestCharts:', error);\n",
              "      }\n",
              "      quickchartButtonEl.classList.remove('colab-df-spinner');\n",
              "      quickchartButtonEl.classList.add('colab-df-quickchart-complete');\n",
              "    }\n",
              "    (() => {\n",
              "      let quickchartButtonEl =\n",
              "        document.querySelector('#df-46ebeeef-54f8-4867-817d-74465be00f47 button');\n",
              "      quickchartButtonEl.style.display =\n",
              "        google.colab.kernel.accessAllowed ? 'block' : 'none';\n",
              "    })();\n",
              "  </script>\n",
              "</div>\n",
              "\n",
              "    </div>\n",
              "  </div>\n"
            ],
            "application/vnd.google.colaboratory.intrinsic+json": {
              "type": "dataframe",
              "variable_name": "X"
            }
          },
          "metadata": {},
          "execution_count": 41
        }
      ],
      "source": [
        "X.head(10)"
      ]
    },
    {
      "cell_type": "markdown",
      "source": [
        "### Convert to Numpy Array"
      ],
      "metadata": {
        "id": "CDjJNO0RuLpR"
      }
    },
    {
      "cell_type": "code",
      "source": [
        "import numpy as np\n",
        "from sklearn.preprocessing import StandardScaler"
      ],
      "metadata": {
        "id": "JqTjuOFauR8z"
      },
      "execution_count": 42,
      "outputs": []
    },
    {
      "cell_type": "code",
      "execution_count": 43,
      "metadata": {
        "id": "SIAQCO-qflLH"
      },
      "outputs": [],
      "source": [
        "scaler = StandardScaler()\n",
        "f1 = scaler.fit_transform(X)"
      ]
    },
    {
      "cell_type": "code",
      "execution_count": 44,
      "metadata": {
        "colab": {
          "base_uri": "https://localhost:8080/"
        },
        "id": "KXtcinsJsAcy",
        "outputId": "612c021e-93fd-4dce-978d-f63b0c192d6a"
      },
      "outputs": [
        {
          "output_type": "execute_result",
          "data": {
            "text/plain": [
              "(47746, 1739)"
            ]
          },
          "metadata": {},
          "execution_count": 44
        }
      ],
      "source": [
        "y.shape"
      ]
    },
    {
      "cell_type": "code",
      "execution_count": 45,
      "metadata": {
        "colab": {
          "base_uri": "https://localhost:8080/"
        },
        "id": "u4GMSl-AKsfW",
        "outputId": "14547b26-69a1-4b16-af03-3c438c8bc159"
      },
      "outputs": [
        {
          "output_type": "execute_result",
          "data": {
            "text/plain": [
              "116"
            ]
          },
          "metadata": {},
          "execution_count": 45
        }
      ],
      "source": [
        "# 1% neurons in the hidden layer of the input + output layer\n",
        "neuron_count = int(round(((9890)+1739)*0.01,0))\n",
        "neuron_count"
      ]
    },
    {
      "cell_type": "code",
      "execution_count": 47,
      "metadata": {
        "id": "I0Fa1nFjdE9L"
      },
      "outputs": [],
      "source": [
        "# implement a neural network with a single hidden layer with 1 neuron\n",
        "import tensorflow as tf\n",
        "from tensorflow.keras.models import Sequential\n",
        "from tensorflow.keras.layers import Dense\n",
        "from tensorflow.keras.initializers import HeUniform\n",
        "\n",
        "# our input is a (9864, 9890) array 9890 features and 9864 records\n",
        "# we want to flatten it\n",
        "\n",
        "# hidden layer has 1% neurons of the input+output and activation taken as relu\n",
        "\n",
        "# output layer has 1739 neurons as there are 1739 binary labels\n",
        "\n",
        "m1 = Sequential(\n",
        "     [\n",
        "    Dense(units=neuron_count, activation=\"relu\", kernel_initializer=HeUniform(), input_dim=9890),\n",
        "    Dense(units=1739, activation=\"sigmoid\")  # output layer with 1739 neurons\n",
        "])\n",
        "\n",
        "\n"
      ]
    },
    {
      "cell_type": "markdown",
      "source": [
        "## Metrics Used in the study\n",
        "1. Precision\n",
        "2. Recall\n",
        "3. F1 Score\n",
        "4. Micro Average\n",
        "5. Macro Average\n",
        "6. Weighted Average\n",
        "7. Samples Average\n",
        "8. Zero One Loss\n",
        "9. Hamming Loss\n",
        "10. Matthew's Correlaton Coefficent\n",
        "11. Consolidated Performance Metric"
      ],
      "metadata": {
        "id": "_TmoPSr9LxRV"
      }
    },
    {
      "cell_type": "code",
      "source": [
        "from sklearn.metrics import hamming_loss, zero_one_loss, matthews_corrcoef, precision_recall_fscore_support\n",
        "\n",
        "def compute_metrics(y_true, y_pred):\n",
        "    y_pred_binary = (y_pred > 0.5).astype(int)  # Convert probabilities to binary values\n",
        "\n",
        "    precision, recall, f1, _ = precision_recall_fscore_support(y_true, y_pred_binary, average=None)\n",
        "    precision_micro, recall_micro, f1_micro, _ = precision_recall_fscore_support(y_true, y_pred_binary, average='micro')\n",
        "    precision_macro, recall_macro, f1_macro, _ = precision_recall_fscore_support(y_true, y_pred_binary, average='macro')\n",
        "    precision_weighted, recall_weighted, f1_weighted, _ = precision_recall_fscore_support(y_true, y_pred_binary, average='weighted')\n",
        "    precision_samples, recall_samples, f1_samples, _ = precision_recall_fscore_support(y_true, y_pred_binary, average='samples')\n",
        "\n",
        "    hamming = hamming_loss(y_true, y_pred_binary)\n",
        "    zero_one = zero_one_loss(y_true, y_pred_binary)\n",
        "    mcc = matthews_corrcoef(y_true.ravel(), y_pred_binary.ravel())\n",
        "\n",
        "    return {\n",
        "        \"precision\": precision, \"recall\": recall, \"f1\": f1,\n",
        "        \"precision_micro\": precision_micro, \"recall_micro\": recall_micro, \"f1_micro\": f1_micro,\n",
        "        \"precision_macro\": precision_macro, \"recall_macro\": recall_macro, \"f1_macro\": f1_macro,\n",
        "        \"precision_weighted\": precision_weighted, \"recall_weighted\": recall_weighted, \"f1_weighted\": f1_weighted,\n",
        "        \"precision_samples\": precision_samples, \"recall_samples\": recall_samples, \"f1_samples\": f1_samples,\n",
        "        \"hamming_loss\": hamming, \"zero_one_loss\": zero_one, \"mcc\": mcc\n",
        "    }\n"
      ],
      "metadata": {
        "id": "lrJ8WyWK4TML"
      },
      "execution_count": 48,
      "outputs": []
    },
    {
      "cell_type": "code",
      "execution_count": 50,
      "metadata": {
        "id": "M0fVlbR0suDa"
      },
      "outputs": [],
      "source": [
        "from tensorflow.keras.optimizers import Adam\n",
        "from tensorflow.keras.losses import BinaryCrossentropy\n",
        "\n",
        "m1.compile(\n",
        "    optimizer = Adam(learning_rate=0.00001),\n",
        "    loss = BinaryCrossentropy(),\n",
        "    metrics = ['Precision', 'Recall']\n",
        "    )\n"
      ]
    },
    {
      "cell_type": "code",
      "execution_count": 51,
      "metadata": {
        "colab": {
          "base_uri": "https://localhost:8080/",
          "height": 193
        },
        "id": "gkosKPzkMILQ",
        "outputId": "3c06492f-fc83-4b5b-ab90-66ccbfa86d9b"
      },
      "outputs": [
        {
          "output_type": "display_data",
          "data": {
            "text/plain": [
              "\u001b[1mModel: \"sequential_1\"\u001b[0m\n"
            ],
            "text/html": [
              "<pre style=\"white-space:pre;overflow-x:auto;line-height:normal;font-family:Menlo,'DejaVu Sans Mono',consolas,'Courier New',monospace\"><span style=\"font-weight: bold\">Model: \"sequential_1\"</span>\n",
              "</pre>\n"
            ]
          },
          "metadata": {}
        },
        {
          "output_type": "display_data",
          "data": {
            "text/plain": [
              "┏━━━━━━━━━━━━━━━━━━━━━━━━━━━━━━━━━━━━━━┳━━━━━━━━━━━━━━━━━━━━━━━━━━━━━┳━━━━━━━━━━━━━━━━━┓\n",
              "┃\u001b[1m \u001b[0m\u001b[1mLayer (type)                        \u001b[0m\u001b[1m \u001b[0m┃\u001b[1m \u001b[0m\u001b[1mOutput Shape               \u001b[0m\u001b[1m \u001b[0m┃\u001b[1m \u001b[0m\u001b[1m        Param #\u001b[0m\u001b[1m \u001b[0m┃\n",
              "┡━━━━━━━━━━━━━━━━━━━━━━━━━━━━━━━━━━━━━━╇━━━━━━━━━━━━━━━━━━━━━━━━━━━━━╇━━━━━━━━━━━━━━━━━┩\n",
              "│ dense_2 (\u001b[38;5;33mDense\u001b[0m)                      │ (\u001b[38;5;45mNone\u001b[0m, \u001b[38;5;34m116\u001b[0m)                 │       \u001b[38;5;34m1,147,356\u001b[0m │\n",
              "├──────────────────────────────────────┼─────────────────────────────┼─────────────────┤\n",
              "│ dense_3 (\u001b[38;5;33mDense\u001b[0m)                      │ (\u001b[38;5;45mNone\u001b[0m, \u001b[38;5;34m1739\u001b[0m)                │         \u001b[38;5;34m203,463\u001b[0m │\n",
              "└──────────────────────────────────────┴─────────────────────────────┴─────────────────┘\n"
            ],
            "text/html": [
              "<pre style=\"white-space:pre;overflow-x:auto;line-height:normal;font-family:Menlo,'DejaVu Sans Mono',consolas,'Courier New',monospace\">┏━━━━━━━━━━━━━━━━━━━━━━━━━━━━━━━━━━━━━━┳━━━━━━━━━━━━━━━━━━━━━━━━━━━━━┳━━━━━━━━━━━━━━━━━┓\n",
              "┃<span style=\"font-weight: bold\"> Layer (type)                         </span>┃<span style=\"font-weight: bold\"> Output Shape                </span>┃<span style=\"font-weight: bold\">         Param # </span>┃\n",
              "┡━━━━━━━━━━━━━━━━━━━━━━━━━━━━━━━━━━━━━━╇━━━━━━━━━━━━━━━━━━━━━━━━━━━━━╇━━━━━━━━━━━━━━━━━┩\n",
              "│ dense_2 (<span style=\"color: #0087ff; text-decoration-color: #0087ff\">Dense</span>)                      │ (<span style=\"color: #00d7ff; text-decoration-color: #00d7ff\">None</span>, <span style=\"color: #00af00; text-decoration-color: #00af00\">116</span>)                 │       <span style=\"color: #00af00; text-decoration-color: #00af00\">1,147,356</span> │\n",
              "├──────────────────────────────────────┼─────────────────────────────┼─────────────────┤\n",
              "│ dense_3 (<span style=\"color: #0087ff; text-decoration-color: #0087ff\">Dense</span>)                      │ (<span style=\"color: #00d7ff; text-decoration-color: #00d7ff\">None</span>, <span style=\"color: #00af00; text-decoration-color: #00af00\">1739</span>)                │         <span style=\"color: #00af00; text-decoration-color: #00af00\">203,463</span> │\n",
              "└──────────────────────────────────────┴─────────────────────────────┴─────────────────┘\n",
              "</pre>\n"
            ]
          },
          "metadata": {}
        },
        {
          "output_type": "display_data",
          "data": {
            "text/plain": [
              "\u001b[1m Total params: \u001b[0m\u001b[38;5;34m1,350,819\u001b[0m (5.15 MB)\n"
            ],
            "text/html": [
              "<pre style=\"white-space:pre;overflow-x:auto;line-height:normal;font-family:Menlo,'DejaVu Sans Mono',consolas,'Courier New',monospace\"><span style=\"font-weight: bold\"> Total params: </span><span style=\"color: #00af00; text-decoration-color: #00af00\">1,350,819</span> (5.15 MB)\n",
              "</pre>\n"
            ]
          },
          "metadata": {}
        },
        {
          "output_type": "display_data",
          "data": {
            "text/plain": [
              "\u001b[1m Trainable params: \u001b[0m\u001b[38;5;34m1,350,819\u001b[0m (5.15 MB)\n"
            ],
            "text/html": [
              "<pre style=\"white-space:pre;overflow-x:auto;line-height:normal;font-family:Menlo,'DejaVu Sans Mono',consolas,'Courier New',monospace\"><span style=\"font-weight: bold\"> Trainable params: </span><span style=\"color: #00af00; text-decoration-color: #00af00\">1,350,819</span> (5.15 MB)\n",
              "</pre>\n"
            ]
          },
          "metadata": {}
        },
        {
          "output_type": "display_data",
          "data": {
            "text/plain": [
              "\u001b[1m Non-trainable params: \u001b[0m\u001b[38;5;34m0\u001b[0m (0.00 B)\n"
            ],
            "text/html": [
              "<pre style=\"white-space:pre;overflow-x:auto;line-height:normal;font-family:Menlo,'DejaVu Sans Mono',consolas,'Courier New',monospace\"><span style=\"font-weight: bold\"> Non-trainable params: </span><span style=\"color: #00af00; text-decoration-color: #00af00\">0</span> (0.00 B)\n",
              "</pre>\n"
            ]
          },
          "metadata": {}
        }
      ],
      "source": [
        "m1.summary()"
      ]
    },
    {
      "cell_type": "code",
      "execution_count": null,
      "metadata": {
        "id": "Vo9kMamsxOFh"
      },
      "outputs": [],
      "source": [
        "m1.fit(f1,\n",
        "       y,\n",
        "       epochs=100,\n",
        "       batch_size=50\n",
        "       )"
      ]
    },
    {
      "cell_type": "code",
      "execution_count": null,
      "metadata": {
        "id": "UfvUU4_WmL71"
      },
      "outputs": [],
      "source": [
        "m1.save(\"model.keras\")"
      ]
    },
    {
      "cell_type": "code",
      "execution_count": null,
      "metadata": {
        "colab": {
          "base_uri": "https://localhost:8080/"
        },
        "id": "UkiYzNRC0-xk",
        "outputId": "277d867b-1cbe-4dc3-c8a0-f4e9f19d7542"
      },
      "outputs": [
        {
          "name": "stdout",
          "output_type": "stream",
          "text": [
            "Model file size: 15.48 MB\n"
          ]
        }
      ],
      "source": [
        "import os\n",
        "\n",
        "\n",
        "\n",
        "print(f\"Model file size: {os.path.getsize('/content/model.keras') / (1024 * 1024):.2f} MB\")\n"
      ]
    },
    {
      "cell_type": "code",
      "execution_count": null,
      "metadata": {
        "colab": {
          "base_uri": "https://localhost:8080/"
        },
        "id": "kuJ39Tx-CrSv",
        "outputId": "301519e7-8124-455a-fb0d-2ec095a70050"
      },
      "outputs": [
        {
          "data": {
            "text/plain": [
              "<Sequential name=sequential, built=True>"
            ]
          },
          "execution_count": 30,
          "metadata": {},
          "output_type": "execute_result"
        }
      ],
      "source": [
        "m1"
      ]
    },
    {
      "cell_type": "code",
      "execution_count": null,
      "metadata": {
        "id": "etybjtS9Cw8t"
      },
      "outputs": [],
      "source": []
    }
  ],
  "metadata": {
    "colab": {
      "provenance": [],
      "mount_file_id": "1GPuB6zb5BipjKhlkZwh5sCfj9xBYb2kU",
      "authorship_tag": "ABX9TyNwUDkczem6lVn0IiEZNImp",
      "include_colab_link": true
    },
    "kernelspec": {
      "display_name": "Python 3",
      "name": "python3"
    },
    "language_info": {
      "name": "python"
    }
  },
  "nbformat": 4,
  "nbformat_minor": 0
}