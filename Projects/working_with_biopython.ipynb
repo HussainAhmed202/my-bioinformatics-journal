{
  "nbformat": 4,
  "nbformat_minor": 0,
  "metadata": {
    "colab": {
      "provenance": [],
      "authorship_tag": "ABX9TyO+CFv+/qWwpFJ38sH3GesW",
      "include_colab_link": true
    },
    "kernelspec": {
      "name": "python3",
      "display_name": "Python 3"
    },
    "language_info": {
      "name": "python"
    }
  },
  "cells": [
    {
      "cell_type": "markdown",
      "metadata": {
        "id": "view-in-github",
        "colab_type": "text"
      },
      "source": [
        "<a href=\"https://colab.research.google.com/github/HussainAhmed202/my-bioinformatics-journal/blob/main/Projects/working_with_biopython.ipynb\" target=\"_parent\"><img src=\"https://colab.research.google.com/assets/colab-badge.svg\" alt=\"Open In Colab\"/></a>"
      ]
    },
    {
      "cell_type": "markdown",
      "source": [
        "# Working with BioPython\n",
        "Biopython is a set of libraries to provide the ability to deal with “things” of interest to biologists working on the computer."
      ],
      "metadata": {
        "id": "Rv8abUEcjEHB"
      }
    },
    {
      "cell_type": "code",
      "execution_count": 1,
      "metadata": {
        "colab": {
          "base_uri": "https://localhost:8080/"
        },
        "id": "S9NYkyUpjB8I",
        "outputId": "4745e3a7-ae26-4ef2-9aa7-6bca283e8b3a"
      },
      "outputs": [
        {
          "output_type": "stream",
          "name": "stdout",
          "text": [
            "Collecting biopython\n",
            "  Downloading biopython-1.84-cp310-cp310-manylinux_2_17_x86_64.manylinux2014_x86_64.whl.metadata (12 kB)\n",
            "Requirement already satisfied: numpy in /usr/local/lib/python3.10/dist-packages (from biopython) (1.26.4)\n",
            "Downloading biopython-1.84-cp310-cp310-manylinux_2_17_x86_64.manylinux2014_x86_64.whl (3.2 MB)\n",
            "\u001b[2K   \u001b[90m━━━━━━━━━━━━━━━━━━━━━━━━━━━━━━━━━━━━━━━━\u001b[0m \u001b[32m3.2/3.2 MB\u001b[0m \u001b[31m24.1 MB/s\u001b[0m eta \u001b[36m0:00:00\u001b[0m\n",
            "\u001b[?25hInstalling collected packages: biopython\n",
            "Successfully installed biopython-1.84\n"
          ]
        }
      ],
      "source": [
        "# install module\n",
        "!pip install biopython"
      ]
    },
    {
      "cell_type": "markdown",
      "source": [
        "## Working with sequences\n",
        "\n",
        "* Sequence object is immutable.\n",
        "\n",
        "* The Seq object provides a number of string like methods (such as count, find, split and strip).\n",
        "\n",
        "* The Seq object also provides some biological methods, such as complement, reverse_complement, transcribe, back_transcribe and translate (which are not applicable to protein sequences)"
      ],
      "metadata": {
        "id": "BEjZjNXwj6Ue"
      }
    },
    {
      "cell_type": "code",
      "source": [
        "from Bio.Seq import Seq\n",
        "\n",
        "my_seq = Seq(\"AGTACACTGGT\")\n",
        "my_seq"
      ],
      "metadata": {
        "colab": {
          "base_uri": "https://localhost:8080/"
        },
        "id": "k5K7rEDAjeK9",
        "outputId": "961e2f9e-79dc-4dda-f968-56bcb323496c"
      },
      "execution_count": 9,
      "outputs": [
        {
          "output_type": "execute_result",
          "data": {
            "text/plain": [
              "Seq('AGTACACTGGT')"
            ]
          },
          "metadata": {},
          "execution_count": 9
        }
      ]
    },
    {
      "cell_type": "code",
      "source": [
        "# complementary strand\n",
        "my_seq.complement()"
      ],
      "metadata": {
        "colab": {
          "base_uri": "https://localhost:8080/"
        },
        "id": "bB66ndaokFNR",
        "outputId": "96b3a3dc-c68f-4414-9515-87deaeaf4a37"
      },
      "execution_count": 11,
      "outputs": [
        {
          "output_type": "execute_result",
          "data": {
            "text/plain": [
              "Seq('TCATGTGACCA')"
            ]
          },
          "metadata": {},
          "execution_count": 11
        }
      ]
    },
    {
      "cell_type": "code",
      "source": [
        "# transcribed RNA strand\n",
        "my_seq.transcribe()"
      ],
      "metadata": {
        "colab": {
          "base_uri": "https://localhost:8080/"
        },
        "id": "jMuDN1P_kJnS",
        "outputId": "de29b352-1a57-47d9-c6e1-2b444fd632c0"
      },
      "execution_count": 13,
      "outputs": [
        {
          "output_type": "execute_result",
          "data": {
            "text/plain": [
              "Seq('AGUACACUGGU')"
            ]
          },
          "metadata": {},
          "execution_count": 13
        }
      ]
    },
    {
      "cell_type": "code",
      "source": [
        "# transcribed RNA of complmentary strand\n",
        "my_seq.reverse_complement_rna()"
      ],
      "metadata": {
        "colab": {
          "base_uri": "https://localhost:8080/"
        },
        "id": "7Faq7suik91m",
        "outputId": "717015bf-8b1e-41fb-ca09-bb5e4f117977"
      },
      "execution_count": 16,
      "outputs": [
        {
          "output_type": "execute_result",
          "data": {
            "text/plain": [
              "Seq('ACCAGUGUACU')"
            ]
          },
          "metadata": {},
          "execution_count": 16
        }
      ]
    },
    {
      "cell_type": "code",
      "source": [
        "# reverse complement strand\n",
        "my_seq.reverse_complement()"
      ],
      "metadata": {
        "colab": {
          "base_uri": "https://localhost:8080/"
        },
        "id": "Dmqzjfo-lHzF",
        "outputId": "c29ffbef-67e5-4c4a-a42e-758599b8267a"
      },
      "execution_count": 15,
      "outputs": [
        {
          "output_type": "execute_result",
          "data": {
            "text/plain": [
              "Seq('ACCAGTGTACT')"
            ]
          },
          "metadata": {},
          "execution_count": 15
        }
      ]
    },
    {
      "cell_type": "markdown",
      "source": [
        "## Sequencing genome of Lady Slippers\n",
        "**Cypripedioideae** is a subfamily of orchids commonly known as lady's slipper orchids, lady slipper orchids or slipper orchids. Cypripedioideae includes the genera ***Cypripedium, Mexipedium, Paphiopedilum, Phragmipedium and Selenipedium***"
      ],
      "metadata": {
        "id": "bUjvJ7tvndqA"
      }
    },
    {
      "cell_type": "markdown",
      "source": [
        "\n",
        "![images.jpg](data:image/jpeg;base64,/9j/4AAQSkZJRgABAQAAAQABAAD/2wCEAAkGBxAQEBAPEBAPDw8PDw8PDw8PDw8NDw0PFREWFhURFRUYHSggGBolGxUVITEhJSkrLi4uFx8zODMsNygtLisBCgoKDg0OFxAQFy0dHR0tLS0tLS0tLS0tLS0tLS0tLS0tLS0tLS0tLS0tLS0tLS0tLS0tLS0tKy0tLS0tLSstLf/AABEIAcQCpgMBIgACEQEDEQH/xAAcAAACAwEBAQEAAAAAAAAAAAADBAECBQAGBwj/xABCEAACAgECBAMFBwIDBwUAAwEBAgADEQQhBRIxQRNRYQYiMnGBFEJSkaGxwSNiB3LRJDNDkuHw8RVTgqLCRGTSJf/EABoBAAIDAQEAAAAAAAAAAAAAAAECAAMEBQb/xAA0EQACAgEEAAUCBAYBBQEAAAAAAQIRAwQSITETIkFRYXHwBYGhwRQykbHR4UIzUmKy8SP/2gAMAwEAAhEDEQA/AKtwt/OCbQOO09mdL6Sh0glHhCbjxZ07jsZHhsOxnsW0Q8pQ8PXyivEFSPIgS4npn4avlAvwlYvhsO4wBJmy3CB2zAvwsxdjJaMyRiOtw54NtE47QbWS0KSDDPp2HaCKHyMFBKyssZQwkOkSJ2ZCHEzsyMzswEJzIlZ2YCFszsys6EBadOnSBLSRKyZCEzp06Qh04Tp0hDjOAkyVEICQJMsBLckDQGiiw6TkqhVqi7BaGNK2819O8zNLVNOlJp00OQyXBo0tDgxakRhBOxjgUSDAzgd5EgTSo8FYyrS4MEsIJVNDwJkMZxMqxmDKbsaBWGAzCPK8ow3mN/pM5s6RXMqYNmlTZHirKpqyzmAZ5L2Rdnj7CpxCGyJaq2EZ4pfK54xGqMvWXTG1ZzmamuEy7FmWXBS2YesrzMx6J6DUVRJ6IVIKMrwIRKY+NPCJRG3kYpXTGq0jCUwy1SWCitUbQwaVwoEIodHhBbFszi8FkGvGlTdE2tgXvhsg+2ogzqZmtfA2aiSyGqdX6yjayYr6qAfVxkyUbp1kp9sE88dbKHXQoO1npRq/WEGs9Z5ZdaYQasx0BxZ6Ya8eco/EPIzzw1Un7TDYNpr2a4nvFm1Bme2ogm1Bhsm00DdKtfM7xpHiyWHaPNfBm+Jl5UmQO0aa+dFZ0ljbUfpFqpQ1R5lgmWKIK+FINUYMiSiC5plTRGp2JKIJmiUOnj3LO5ZKIZx00GdIJqcsr4cG0hktox5QL6AHtNs1yprg2INnn34YvlFrOELPTGqUNIi+GiWzyj8F9YvZwdh0M9iaB5QbaaDww7meJfhtg7QL6OwfdM9u2kHlBtox5RHiDuPDtUw7GVCHyntW0I8oJuHr5QeEybjySoZfwTPR2cOXygG0cHhsKdmD4RneGZunRyjaKB42MYmJM1G0J8oJ9F6QbWQQkRptLBGkiKQHOklJEhCZdIPMvVIQOixyqmD01c0q1jxjZBfwZdKYziErSWKIKLUUx2pJWpIygmjEiMughBKqJfE6mMomjgZIMGTLKZeUhlaEDxbM7nlWRFmPsZLyjPFzdBvZOblN+JBmaTpsEsx+FRuPPPaINdk4E0eHJ7pU9eff/SZMkmovb2acvlg2Ja9ORh+FhlT/ABFS89XboK7FCuOnQjYj5TzWv4XZXaa61ssXAIbl2wfWWaedrzdiY8kZKn2LM0GY23Dr1+KtvoOb9oK2ll6qw+akTfGmHgXIMBcIy9gUY7n9onY8WcSuURDVoCDMmxJsamZVnWczMuTLJcillcWamPkShWVEEfCl1rjJWcFhQGCCS4WWxJjpgOxKmSTBMYbAyWaBd5zGCYQWGir2Ra26GZII1SbiULNYYF2McNEg0RkwpGcwME6TTNEoaPSTcGjLNUGUmoaZRqI+4hnqsIFjXgzvCjbgNiuDJEYNUqa5LIBME0YKShSGwgRLAQgrl1rhsgILLBIwtcuKou4Autc6OrVOi7yWfosmDcwhWBdI4GgbGV5hK2IYuwIhFGszsxPnaT4xhIN5nZiovkjUSEGsyMwAuEsLRIQLmdKCwSeaQhJnYkZnZkIcRI5ZOZ2ZCFCkg1wk6QgA1wbVxphBmAgo1UEdPNDlkiuGhkZw08sNKPKaIphBTHUA2ZR0ggX0Qm34Mo9MDgDcedt0MTt0E9O9EC2nlcsSGs8wdBJbhYM9EdP6ThQJX4aJZ5d+EeRlV4cwnqzQJUaWDwkDcYNGlYRkI3lNkaaWGmjKA1mOqnyjVSTQXTDyl104jKJLF0Euph/AE77PLYdkOSXM4VmVYGb4SKmijSAZDKZQgzTuVCbCzPAvZObME6yqch4xKtdI+1Ab9YNlgime05+Y24h+vW1OVxlH6cvKCufMGa3CqT4h32wCfnPP6DSkuMDJBnstDpvDXJ+Juvp6TI17lmeSSpF22MNXbtAOZCmJHhmIa8SQcHqAfmIHMkNHAA1XCNPYDzVgE9190zF1vscp3ptKnycc4O/nPSBpIaNva9RlNr1PmnGODamk+9WWXHxoOZf06fWees6nz7z7dswIYAg7EHcET5v7d8BGncaioYptbDDtXYcnbyB3lU7fIG7PKmQRLGVMrIRidOnSEKmVlzKmEBRhI5ZcyshGUKSpSFnSEA+HKmqMYkgQBFfBkGmNhZblhTIIeDKtTNHw5xrkshlmiDamapqlTTHQpleBI+zzTNEGaZLAZr0QTUzVauBamNZDMamD8KaTVQZqksZMSFUItUZ8OXWuTcQAtMItMZVJdUgsAGumTG6lxIksJ93Ig2SFkYlwosyQLVR0rKFIQCJplDTHikgpCQQNMqaI/wAkgpIQzzTKmqaPhSpqkAZ/hmdgx41SpqkCJczThaY0apQ0yABeMZZbZYVQgqkCQry4M4VS4rgIVxKlYbw5BWQgICXUSCJIEeIQqCGVIOuGUy0B3JKtXDCcRCQUauBauOsIBxFaCmKFJXljLCUKylhsEFk8styzsQAIAlgJEkGQKZYCTiV5pOZAlgsuFgwYQGFMJxWR4ctmSJbGdEop4Ug0w2ZZFJ6AmP4gaE204g20gPSa6aNj6Qw4eO5/KI8oDzb6L0jGn4IzjByo6k9Mz0VdCL0AlyZVLJYym10JaPhtdI2G/nD2GXJg2EoYrd9gbJAlrJFcpumA4S0jEsJYmQ4GWkYnCNZCymD4pohqNPdQcf1K2UEjIVse62PQ4P0hEjCQx5REfF9dpEpBrD89qMRbty8m2OUb77g/mMgEGIET1vt3wtU1LWKjjxlD+6q+GX6Nk9Qe/TfM8s9ZHUGUtUEDOkkSDAQicZXMnMICJBEmQZCETszjIkATLCVkiAYuJcCUWXEaiFgJ3LJBkwNEKYnFZYzpEyAysoywplDGQtgSkGyxgwbCEIq6QTJGmEGRIBAOSWVJaWWQZEhZcCQJcQXwQkTp2Z0Uh9wDSwMSS2GWyb9hWMyCJUPLc0VohUiDIhGaCZo0VZCJ3LI5pYGGSSAdyzuWXzOzMzlyQEVlCsMTKGOggysqVhMzgISAwkItcIqwqpAQD4csK4cLLckg1Cxrg2WOFYGwSAaFWWVhHgiYyAWUwytFeaEV5cmQbBk5gQ0nnhshZzAtLEyDFbADMjEJyyQkqYQJEqRGvCkGmCiChEjEYaqDZJAg5GZLCCJMAQgaXDQAaMaepnOFBPr2ksYkPC0qXOFGf2Ecp4WOrnPoOkerRVGFAA9JLDYCjRAbtuf0jIwOgxOzIkAW5pUzp0BDpWWlCYjAQZBEtKmBkA3dDA6Z8jMFxjUiup38lOPU9pXhZ/pVnzxM0+7DXFjrbSwi3E7eSpm6co/mGrf4fUAx0+SFxOMUtv5b0Q9LFbHzG8caOnYC1G8OsS0DEmwHs5A+XKp/mOiWxCYntbo+etH39xxnywc7n/vvPLNoAew/Ke+4gnNU4P4c/lvPM+HDSFZgvw1T939IvZwZD2xPTeDKmmTYgWeRs4EItZwRuxntDQJRtP6QeGiWeFfhVg9Yu+hsH3Z75tL6QL6P0ivGSzwRoYfdP5QZU+RnvH0A8hAPwtT2i+GQ8VvLCeqs4IvlFn4GsGxjWYIllM1bOBnsYFuEuJKdEEgZYGFbQuO0G1LDsZGQgypnEHylCYEiWWJlDOzIJjoBxlWkypMDCDaBaFcwLRaIVkrK5nAydBDAywMEDLCAgSdK5kQEPsiwyGAhUM7CjaKw6mTmDzOzEcAks0GxljBvIuAMq1k5bYC1pQPMmoy1wVuQ+LZ3ixVbJJeYIybZIsM10ob4Bmgi06EehxxboxW0z6xHKorkEbSGWLpDrBYyCgSZAnGNYxVjF7DCO0WsaRMVg7Gitjy1zxGyyMhRgPCK8RFkuLI5DQV5bniAthBbDZBsPCrERbGKrIADSiFVYOuMoJAnBZxSFAk4hoNCrVwLpHWWAsEFEELVgVqZjhQSZq16Etu3uj9THa1VBhQAP1MrkFIQ0vClXBsOT+EdJojAGAAB6bSqtK+JviAYJInZnZkITOlGsAx6ywkITIkM2JS2wKCxOABkkwNkLO+JUecQ0Wp8Ymwf7sZ5T+L1gxr1bnszimskc2dmI6/SV2GjQvuCjP5esqXwMnymZodV448dhivP9MHq/wDdiA4xxhK85PwqXf8AsUdzK9zfP9CV6GN7b8TPNRpl+J28R/RR0/M/tPT0YUVVjry/oBPlXBtW+t1x1D/8R+VB+FBsAPyn0PQ6gvrLT9yikL6cxO/6CLkVJL3ZZkjSSGfamwDSXnOMId5LasI2jUne0co9T4ZP8TG9u78aEID72osrRfMhmBP6QvE7P9t4ZV3/AKljDvgVEfzClb/oKlwG9qdQU1Ogx31GD8iMGehJ97H9uf1nhfa3UE8T4egOcWZwPlPZ1WZucdkrX8yT/pHiuX9SSXCKcJuDWajGdriPySsY/PM1RPJewutN32ok5/2iwj5FiQf4+k9WplkWLJUybVyrDzUj9J5vlxtPTzEtq95vmf3j+ojE8SeWNioSwqhAKCqWFEcCS4WQlCX2eQdOI8UlWSANGe+nEC2nE0nWAdZAUZ7USjaePMspiEgkdOJRtKI+RIxIQzG0Ygn0IPaa/LKlJKIYT8NXyitnB1PaemNcoaYNqI0eUfgg9RFrOCHsZ7E0iVOn9INqIeHt4S49YrZobB90z3raf0gm0g8oNhLPnllLD7p/KBYHuJ9Cfh4PaK2cKQ/dH5RXFhPBkTsT2VnBE/DFLPZ8doNrJZ5tFzHKNGTNingRE0tPwsjtCoEsw6+F5E6esr0PpIj7ECz0JnBodq4Nq5uhJUA4PLAwRWWBl1BCwVhli0Ba0yZZUhGLXPAiyB1VsClk4uSdsqNFbJbxIkLJYWwQfIUxkvIU7wIeWVp0IzVFg7XGEaJpZDI8plkQTQqMZSJUtHFaGErHTDSjGVLyrNLQlLDFLWh7GidrRkRi1zRNt4xa0EFliEKASYTEjEYhUSQZbE7EhDg0YoaL4h6BIiGlQY7WYjRHa5ZRBhZMhJYCK+BkUK5knC79TOvsCAk9oLStzjnPQ9B6StuwpBlbIyZkPxHxrjTWdk/3jDsfKT7UcWGl09lncIcep7CZ/sBoymm8R97LmNjE9cneVliXlcmbusvFNZYnAURbgrM6mxs+8dvlMX/ELWclVaZxz2qDjuMz0vD1ArTHTlH7SLslVG/cOxgr7ggJJAxvBcU1K11sxIGAcZ88T5nrvattRalNZblLhWboIZcIMMbkfSeHk2f1D0+78o1qdQtalmIAHnBaBOSpR5KJ5fXa86zVjTVn+jQQ9zfibOyQPhAUbfwen0bcy+IcjO4B7CeZ4vxJtXqBoqCeRTnUWDoq/h+sH7Ze0DVhNHpsePceUY38Ne7RPU2jhekFVX9TVXnGer2WN3i16DRjXP8AQ1eO8QIxodKPeCZtcdKav/8ARiFb/bOTR1ZTTU4+0ONsgfcB8zMctZWF0VLeJrtWebUWdfDB+In0Amnq9VTpKxoqThK1Dam7uSeoz+Jv0iZGuvv6BquDR4pxhawqVJzHIq06Doz9M/ITwXtnxFnZdFU3O7sDqbB99/wj+0Rvi3GjQjXYxdanJp0/9io/ex+IzL4JwxkT7S/vanUELQh3b3j8UphJSbb6QYquWb/sto004uvx7mlq5c/jsIyTNLgtjV6EkkjU8S1BWvuQGblDfIKC0z+NUeGul4VUxL2sH1LDqxJyc/r+U2NAUt1xfppuGVClPwm4qQx+i7fWFXKX0+/0QJS3MX9sLg+u0GiXfwm8Vx5ADb9pbh9vjcYtbOV0unWseQZjkzH4FqRfrddxNtqqwyUk79sfsP1mj7FH/Z9RrH2fUWs+f7Rso/KX41f58/sFLgWqu+0cbXqRp1ZvrNp+LldPr7x8b6j7LSP7gAox9STPLezGpCNr+IMc45xWT32OMfpCauw1pRS2/wBlps1upx0+0WE8qn/m/SH0teoaPTf4d1+GpQ96PE9T/tNyj9FE9nU4OcfL8p5b2bpFdyJ1ZeFaTm9SWbf6nM2+CqwVw3XxGx6A7yIply7NQTJuHvN85qiZ9w94/OMxASwiyAJYCSwFgJfEqJaQJ2JUrLyphCCZYF1h2ME5kAxdkgysYMriEUAVkcsPidyCEIvyyOWMFJHJIChflneHGAkutcgRTwZBrM0BXLeFAEyuT0lSk1TTBtRICjN8KVNPpNMUSwokDRjGiR9nE2zpvSV+yiQlGTXpR5RlNLH1ohRVCChFdPOmiK50hKBmDaTmUYyyEhCjSMSSZ0veTghRzEtTZgRq5tpj662czU5L4RXNid9uTORok1m8LW050hBwtJSyLs20pW0F0SzVp3hisT01keztNMZXEsRTmxC1WRK58StFpzMUslSoJvUPHEaZmneP1zfjdoZBxOIkqJYiaUOha1YlchmiwgGrliIzLaoyPDM0/CkGmPYpmcpnb+U0TTI8CSyGfOzHjRKnTyWEThqDCHTSa6MSWQcpMcrilKGOVCWpgD1iFkVDaRcdifSVTdsdGBxrUl2apDuign6naa/D3zWvbAAM8x7LE6i7WWNuhsFanz5c5/UzX0twoDVuT1JGfKT0oukqW32PE+2mpbUcRp0h3rT+o47N5T6Jw+sJWqgYAE+Z8LuGp4xqLO1aKon0fUawVrzHpiKlY2TpRPnn+JXEQ11NK+8VcM4/CoPWe+4drk+zo2Rsg7z5exXWa7UsMcpBGfIjMBrfaCyqgaZMm3PhjH5CR1F3J8P9iyWO4xRs+2PtC2rsXRUdz77DsJm6vho0raZds+IhPmZrewnsyUU6i45tY5PeIe1VwOvpXqKwWMWXEbfrX5cjRaXlR6X2r9pjRQtaDNtgCIo67zO0+pXhWkNlvvai3Lt5lj0Ez+DVDU6h9bZ/uqfdq5txkd4hqA3Etdy5J01BBY9jjoPrGbVWvXhC7UlRqey9RVbeKas/1LMsnN/w07dYC3iRGeIWqXuszXoKDud9g+PWMcT1C6hzWTyaPSgG4jYOR/wxAaexiy656wbXBr4bpjsK0/8AebyGN/lKJ5Euvv5K3IPpVbQqV5lbiWqHiam5t10tXXHoB+pmWLFs/rHJ01Tnww/XWX/esb+0f9JZKPHLJzs1IYHVagbNrLuvg1/2j9BvGtFwx+IWmtcVaOnC2Ouy4H/Br/k/9JjyZHN7YiORncE4O2uufV6gkaWolizbC1h1A9BPU6EVr4nE7QFqqBTSqRj3RtzY9egjOnoXVkUUjw+HabCuw2GoZfuD+0dzMnjN3/qGoXS1EJotLh7nGy4X/vA/PtHUkkq/+v3+iFcxLRXsqajidoPjXE1aVe/Mdsj9vzjHHLDw/hi6cZN+oyXP3i7jLn+JpcG041tw1HJy6HS+5pKzsLGGxsI+ky7R/wCpcSLddNpO/wB1yD/JH5CWR4jx2+F+7DfohfWab7NoKdGv++1TIpA65bdiZte0Vo0mg5EwpCqij1O2YLRJ9r17XdatJ/Tq8i/3jFPbFvG1VGlB90EWWeQUef0Bl+7yNx9eF/YezL0yCqjTUtsozqtR6ou4X8+UfWF1bN9l8Rx/V19zXEeWnqUsB8sD9YFtK2qvWlMgamzH+TSVnc/XB/SanEf62psRRiqlNPoK/LnvtUHH/wAFb84fSvy+/wAv7jt+h6fhbsvE2q6qvDdGrenKbP5M1+Daovdqk7VXBfn7gP8AMzfZ5Q/EeKXA5CHT6YeQKoWYfqIz7Mtm3Xn/APtY+orUSJlL9fyPRCIWH3j8zHx0mQ925+ZjdlYfMkNEm1EH9ohoFmlziT4gmcLpcWyJEsdNkqbIr4ssHhDYUtKGQDLgSAspIxClZUiEiB4nYlsSQsAQcjMLySBVBZCqmXEuK5YJJZCFhRKhJfENkKkSwQSssDJYSeSTyzgZIMBDuWVKy4M4mQgIpIxCEyJAFQZ0mRCQTMqVlRZLq8RTKyvJKtDFoC0xZ5OAMT1Nm0wddb1mrrLJ5/WvMbduymTFw28YqaJqY1RKJsCDsZRTLvBZiENDTmaNfSZemaalPSa8ULRbEW1IlaRCalZWgSqembldB9TS0s0qZnaeaNM148dIZDSS0qktiaEh0yCJXllyJ2IxKKckgpCYkYkJQPw5Hhws6QlAfDneHDTpAgfDkCuHxOkIQiw6CUEKkZMFBW6Tz3tdxoabS2P1YjlUf3HYT0hnz/8AxU0hGnFgzhbEJHbGe8VfJdiSckmbnsJoTVo6+b4nHOfm28P7UaUmvxV+OrLf5h3EN7NaoWaapxsCg/aMcXHNRYPNG/aT1A299/J8r9hDz6vVWgfE/wCW89T7dahk0xKnBxgfXYTzn+GwxbqVxsLNyfmZv+39PNpiR90q2PTMrjL/APJv15LpPzGXwThq6fSltud0Lux6kkZmf7C8KF9j6mwZ948meg8zNLjeoCaLA6soUfWbXspo/C01QOx5AT23O/8AME6lkjD0ir/qCUjX1ACJgbACfJ9fY1t2rv7Ivhg+pOJ9F9pdb4VDv5Db+J422k1cMLEe9fYrsT13Ix+kXUS9PZN/4Fg6I1+p+z6OjTp71jooAHd2/wDM0U032TT16WoD7Vqfibuu3vufQCKcB0yM1mut3o0o5KAfvWAbkeeP3klrLGYb+PeP6rDY0afqtCHsSNye0oy6iMVu64pfT/ZJzJo06PyoAW0dL8oUfFxDU9SM/gB3J6S9lb6h297Z8pbamw5R/wDx6M9FH3n/APEd0ujNgCJ7tQTk5kPJzoOqVn7tefifqxziCuH2g/Z6Mrp05UutQcptOdqKh2H/AJPrzcmocl7FEpgdLozq2Gn039PTV+5bcnTHeqrP6t37+U9CunF2OH6MeFpadtRcu2fOtT3Y9zJ0lDN/semxWiDGouX4aV/9tD3bzMBxfiHLy8M4ev8AUbZ3U/APvEt5+Zj4uI2+n/V/C/crbAcW1ptZeF8OAVFHLbYvw1qOu/7nvArw9XI4ZpT/AEkw2uvHWw/gz5xr7ONGo0GkHPrLxm67/wBsHqxPYDsP9Zo3WafhWlxsXPn8d9h6kzTHm3Liu/j4X7jL3Zn+13ExpqU0Wmx41qitETrWnTm9Iu+iHDdByKc32AA+b2sMBR8p3s1w1i9nE9ZhWbLVhthWmOu/TyEa4VQddqPtdgPgVErp1P3j+PEuTcuV3LhfC9x0/UZ4To10eky3UKbLGP4juZ5HhyNq7b9QxKizmVm/9rTL1x6nHL9DN72t1D6i6vh9HVzzXN2RR5/T+IHX6Nc18L02VUgPqXHUVA75Pmekdvc0o9R4+r9h4vn6CXDbVqq1HESOXn/o6ZenLSuwP1/iNezekIsp8T/hCziWpz91ipFKn13z/wDCdxZ63tWnAXS6JRZaB0PKPdrx646fOTrmsTReH01vFrQWX71dbEBU+i4z6kx0/wBP7+v68f1Gs3vYJf8AZLNS2x1Wov1BP9nNyr/9VEJ7C5ai285xqNTdamepQtgH9Jb2hZdDwx0TbwqBSnzI5c/zD+yQ/wBi0y9AKkGPkJYkK/5W/c22bCk+QmCT3m1rDhD67TI8OWQKmJX2Yme+rwZqX6bMzdRw5u0YFMhdcZddfEzw9/KSugaC0CmaC6+Hq1YMQr0Bj2n0uJCUx6mzMYVoCqvEOFjUQIDJxOCy0lEK8ssBKEyPElUh0GxIlBZO54oS+Z3MIIvKNZAQZDCSWiJtlTqI1kHSZAaI/aZH2iQBohpcGZq6iEXUyEH8yCYmNUJ32iGiDRMgmLG+QbZKIMc06Lc86EgIJLqk5YUCU0V0CYRW9o5ZM3WvgSmfAsjL1tnWYWrbeaWrs6zH1D7xF0UMqpjlBmerR6iZpdhQy5gGMITAuYEQc0rzX09m0wtKZsaYTq6WFosiEukV9YSxIMCdNYU0WUaGnmhRMvTvNCp5VLDQTQVpYNFQ8uryvw2gh8yMwfNO5pNgQolsQIaXDRGgl+WRyzg0nmiEI5Z3JJ5p3NIEjlkcstzScyEKgS6SOaQWksAbUNhSR2GZ5L2wsGp4faVI6H1yQek9USHUg9CMGeFZhohbpLwTTYzGl23V1Y55T5GJHJHpl2Jc/Iz/AIX8T8XSCo9ayR1zgeU3uI2tXzKTlHzy+hx0nzv/AA41y0ay/Tn4bGJQddvn+U+n8S0i3VFD0I2/6Rd3HAcqqZ839iRy63UofvHmHyyZ6z2n0hfTWBdzyEieZ4Lpjp+JFGOQ6YB7kDpn8p7vVjYDzwPpKsElPHJPjliuXJ4PiSi1dFWPvsuf0H+s9TxP3UrQHHPYiDHlnf8AaYT8OFfEKEUkru4U/d6kgek39f72oqQdK1a1vywP3maGSVZG+21H9v8AYilbZg+0aHUainRg7N/Ut/yCC9ravGanh9I99yCx7VoOpP0jHCLF59Zr36KTXWT+EeX1xAaNnrqbVEZ1mvbloHeunsf5/KNLMqlJv+b/ANV/kDkA4ngGvQ6YDw9OBnPwmwbl3PkOp9TC8M4fz4Rcsr5JLZDak596xz1WoeX3toLTUqBYCeausg3NnfU3E7V5/D1/XzmnxfWnS6fA31OpwDj7oPRQPIdMTkyyeLkbfX3S+/qUuV8i/ErzYx0mnbCKM6nUYGeUbcqgdPIKP9Y9TpSDXpKByuBmxhuNLWfiJPew+cX4ZR9kpyRzWZ5m7l9Qw2X5KD+ZjWu1X2OrwU9/Wak5cjdudj0+mcCSDU22+l91+f8Alivg7i2u8Pk4doBm1tmYblc/Exbz8zJr06aFRp9OPG1949+zqV/uJ7KPL85bT0fYawiAW8Q1PX7xXP7KP1MOxq4bS997CzUWbsx+KxuoRfICbI23zxXf/ivZfJF9/BJ8DhlLW2Hnufd2O9lz+Qz2mFwrhtuutOv1p5aF96qsnC8o6E+n7y3B+GWa5/t2tP8ASGWrrOy8o6bfh/ePW2PxCzwKga9HWR4j9PFx90ektvrjj/jH3+WOidQH4i4SvKaKthzt0N5HZfSaHHOIJoqAFADcvLVWO57R3XaqnRUZICog5UQY3PYAec81pELk8S12ABvp6fIdiB3Pl+fyulJ47V+d9v2X+PYe6+pXQodFQ2qtBfWak4ROrksdkx8zvDVVfYdO91nv6vUH3gNy9jdKx6DM0eG6Nnb7bqhykKfBqbYUJ+I/3EflMW7UWavUhqx05k02eiY+PUMPIdvM/KBy2JV2+Ir1+ZP5YVwU4dw7mbw7DmupvtGtfO1t3Vac9wO//WPey2mOs1VnErB/SqzTpFPQkfFYP2H1gtTT4zDhmkJFYOdXqM5OOrAnuxOZ6fV206HS7YWumvCjp0G0vxpJUul/f/X9x79EeW/xA1B1Nun4bX8Vzq1mPuoD3nstBpVqRK16IoH5CeU9h9AbXs4pePfu92gH7lQ2z9Z7OkdT5y5DT4qPsV1IzgRfwY2RIKyxCChpEG1McKyCkWQTPagQRomma5BqikMzwZdEj5pEjwZEwUARIdUlhXLgS+LEaK8khkhZRowBZxAMY1YsVtWVyQUULyptgbHxFrdRiVBsdNsG90y7Nae0Vs15jKINxrPqItZqpk2a8xd9bCoi2bB1frKnX+sxDqSekkc56Ax9pLNn/wBQ9YRNZmZFencx7T6NoaonJopqIwl0Vq00arpihoMrwgMoqywgsaggWdKhp0lkCrLc8XLypeVsrC22bTH17x6xpk61pmm7EkZOreZVrR7WtMu1okuEUlkO80aZmUGadMyPsIQmBcwrQDx4kG9FNqiYugM2aDOxoeeB4DhG0ERDA7QZnchE0JE1nEbreI5ha7I0oWPQ+HhFsiy2CXDiUOABjxJPiRfnllaI4EGA8uHi4hFmXJEAcPLc8BOzM7RA/PO54Dmnc8Ugfnnc0BzyOeBoIxzyjvA+JA2WxWQINQVYYO3Q/wCswfaTiFX+51K5R8itxv72Oh8o+928z/abQPbQSAOYbgEfpntOfqYyg98evX4+SzHJJ8nhuIaRtNfW65VlIII7ofWfX+GannqUg5yo6eeJ84cfaahXZhbqxgZ25sdp6L2J4ocHT2bWV7b7ZHnMum1S3OMn2Pl5F/alPC1Wn1GDs+G+Xz+WZ6rVtlFPYspyPLPWI+1uh8bTtj4l99cek7gFo1GkVc+8F5G9GXoZeptZJwX/ACVr6mdsz9Uv/wD1KT51/wANH+MN4S6i8jpUEX1/7JmdxNmTX6UsMe6EJ7HJIyPzjftw39BF6c9qKceUqUvJll6qV/pQifZi2aXNOi0OceMTff8A21j32z+0i7U8/wBp1Qxy1otGmUdFU5GR9B+sjX3/ANTWWjYpXTo6/Quct+gESd8aS6vpvU4HpiY82XhR++OF/kSUhzQ1jw9JWf8Ai2Pc/r72B+iwOts8fiCnqtALY82XoP8AmIhNNYM6JuwpP8/6xDh9oWy+3+7A+Y/6mZXLan9/BEqVHoaLlNnO+9WkXmJ7PcTn6nP7Rfh1p5n19o5rGJTSp1Jc7cwHkOnzit49yrTA4aw+Lc34R5n5CP6nX16YLbyguECaSn8C4/3r+RP8yzG2mlfz/v8AL0+RX2O26pNAjX6hvE1dw2Xqw/sHkB3Mx9Dw6zWWfbNceWpfeWttl5e23YSul0o5vtmubmdverrO59Nv4mvpdFbriHtBq0o+GsEhrPU+k6EGnUUr9o/vIKV9lHNvEG8On+lolOHsxg2gdgPKbuoto0NHZUQYVfvO3kPMmD4pxSjQ1BVA2GEqXY+n0nmGqe4jV67PJn+hpR8Vh7Dl7D95dPKsV09032/RffsPdfU7J1BGt1m1IbGm0w3Np7bdx+89Fw/hrO41WqGGG9VP3KB5kfileHaHlJ1msKq4H9Osn3NMnYD1ieu176vYc1emBPTay/HYeQ9TsJWpLElLJy3yl7/LIuAXHuIPqs0UZFIYLZaN+du1aDuTAUVNUDpNL72psA8e/wCJNMnQLn07DzyY1pKHu9yjFVS5U3LuEH3lqz8THu5/86F2q02gr5Rhe+PissbzPckyQbk3lm/z/Zf5LEg/D9HToKCObAA5rLHPvO3dmM8jqbzxW7LHw+H0t7xOQdSwPQDyhNRRqNewN4aujOV09YL3WDtzAfCP+9p6TQ8HIRECrp6lx7ow1jencL+pl8MksjSguEWxpcjuhHiAcq+HQuAi4wXA2zjss0T5Tq1CgAdB0kEzpRjQjOnSpMgGMQtOxOE4xWEiROJlcwEJnGVzKO8hAkmL+JLB5bEVhTIkBpMsEBuItaI4wg2riMKMx6oF9OPKa3gypoiqIxhW6P0id2hnpXogW08sSEaPJ2cMzOThU9QdMPKQNPI0Aw6uHAdo3XoR5TUWmEWqVyYyRnLpcdoVasR8VS3hRLGoQCywEd8GVNUFkFDIzGWplDVIQFmdCeHOkIJfaBJFwMyecy6WGUSnwVD91ky9W0YZpn6x+spVtlUzJ1jbzMvaP3neZmoMbKqiVh9JNWkTI0ZmvUZiS5CWeBaFaDIl0UQNo2wZt6czArM2NJbOpoXyNA087ShMqHlGeegguDXEJmcDKAyYwwZWhVaLIYZTFYGHDS4MBzSytKpAGVaWFkAGk80zSSYrDeKZPiwGZGZmlFAGPGk+NFS0jmlbRBvxRO8QRUNJzFaDZbUaqtCgd+U2sypnoSBmBuvA7zyP+I2pK/ZsZyhZxiP8H1fjU5zlgobHciYHmrM4Pp9fUDlzRtaXXgOPdzjffJ+sc1VlhYOSBW4wc9hjuJ5cW+8N8DmGT5bzWXifPgdOVuUgEYYdMiaCWV4n7P12MLasoepXs3+ky9TobQwevKXVYIU7Fh5Z7ien01hGQx2J69tumIW+hXXD7jt5rOfqfw6E3vx8P9B1N9Mpwbii6lMMOVwMOh7GZemY6HVlDkUXnbyVswWt4TbUwvpJyD17n0I7xh+IU6qvwr/6Vn3W6qGHke0585Ti0p+Wcevn8xJMJ7Z1nlqvXfw33x2GdoP2otF2jS5T8JWz5ef8QbcSOnR6dX71QQnxQC4ZegHzniH4/YK7qKgDU5wHsBOVx2XsOvWPv8Rya6l38NFb7Gq+JrbRq9/f8RL1H4sLvj5YiFvFuasAZJAKHA25e28wjpd8kk/oPyhqjg7bRXihx60Vm9pOJkV1A4BVWUD72N8beu0rpdaVXLAqAxd+bbJ8sGMcIsbudsHI7H6Q1mnUtzFQRnPLjaZntbqvUuUXRfh/EFUtfZhy2CqH72Oi/LpCaXVlrTYV+0amw+6oGUrPy748onqtbUueapSOnT/vEBovaQUf7pfC2Izyhjj59Y0INO0I1R7nRcMSsjU66wNYd1rYghfoOvyl9d7RWW/09KuAOtjYAUefpPn78e5iWbmuY9TYzfx2mloPaPTMoF62hVPKErC+EMDcnG5OfTG8ulkypbca2r1fq/zF3eh6Lh+j5rCyZ1WoB3tfPgUnz36ma3PTpm53ZtVq22AHvEHyRR0mRo+MreqrTatNIB5q6AXuIxk5/APU47dY5pbTsunQoCPedMW2v5g2n3V+hi4nt4im5fT+y/dliXsD1i3XMG1bBQTmvSp77n5qP5hrgigfaTyIccmlrPPbb5c/Luf8o2jNOhff3xSG+Lw/fuf/ADWt+wH1jOm0tNOTWgDH4nOWsb5udzNmHQZJvfPi/fl/f9B1wLc+quAWtBoqRgAsAbeXyCD4frD6HgOnrbxCGutPWy1uY/QdBGfFl0adKOmxx5a3P5+6HTG0YAYAAHkBgS4eBSXEvCX5pBMidCiHZnZkSCYQFuadzQfNKlorCFzJgeed4kAQ0o8p4sE90BCWlOaCe6UNssixJDaPGFMzq3jtTS2xEMASeWVUwgissKcsgpCzsQIguUgzXGysoVlkQNChrlOSNMsryxmLQvyywWGCyeQSpjggJbll+WdE2kBEQZMI8A8G0hJMGWEo+YIgyUQNziRA4M6GiWeaDxivpFEjSGYG+BWiznaZurMftaZ18swK2Zp9mdcsytT1mzeJi6zrG1XEREF0hmrSdpj6YzV05nOiuRhiVIl8Tis1xjwQGp3mhp2mW7bx7TNNOknUwxfJqK07MHWdpPNPSY5qjVF8B1MIDFlaFQwSmkNYYSwaVUyTM8syA5Fw0sGgMyeaVPMhdwwLJYPFOeSLJW8qJY7zyC0U8WdzytyQWM804GL80JWZRKdESGFEvyyqyczLLONR4f8AxCw1yr2WtT+cR9k9YVc19Me8vkR3Ee9rxzXufJVH/wBZi8NrKutmwVDuxIA+XrOVqI+JGXv2ZpdnqddQw/qAe6T235fnBaLJdewz1OcCalKhxynBR8b9htsZmchrs3cEA4wG3Zs4CgfzLtDq/Gx3L+Zdjrk9JpnVkC9+hHRhg9cTXrQco5vu5O4mdodKiFbMuxOAqnGFOOstxTiXKPd6bknc+6Dg5/b/AMGdKU9qtjUG1eqHbtv8p5/ivEURq+etbedmDIAS4UA4OQfPuZOsv8VMAZFiZJzjByD0/PaZy6Mj1ON2O5IHnOJrddjTp1J/ogvjg8lVqtRffcH5koV25aeYslXvHABPU47y92B85ua1ABgfWC0ns+1nvvlE8z1b5D+Zjeoi/M/KimVyfB5pwWO0e0nDH+IqfynrKuGU1DIUKB94+8x+sXtuBAx0O4iz1MqVRpMshjrsz6cr2xGQ/aKX3cp26+fWD01pLqT3IBka8tp8lotxNdvz+sxLevSfUDpMqFZQy9MEA/lMjW+zCNlqtv7T0i4NbBcSRTOF9HiqLCD0mhWA3bMd/wDSBnlI5H8j0aN6bRKp3UqR55EuyZ49oo2syvshBD1kqwwcgdcHOCDsRkdDtPYcE9p7Nq70BsPKiODyo3qR0B8+223kR16ZT6H94vfowcgj6Yg0/wCJyxS+C+PsesTV5PXm9fu5/tPcS5vnnuDWADkdmZ84TnOQVA+H9Pr85rchXGe/kMD8p6fBlhmgpxfDGfBoVPmN1TP08fplyQyHEhRA1wmYaDZaQZBaVLSUSziZRmlXaDNklAsuWgneDe8CLWatYrQbGvEneLETql85w1I84lBsdNsDZbAeMIKx/WBkLvdKi6JWW7yEsgi+RWzWpsj9LTJ0006JoQqHFaWDQIM7ngHGQ0sGiy2S4eFED5nGUUy8egFGEGYVhBMJGQqTOzOxOCxAlhOxLBZPLIQCyyhrjBEqRAQVNU7wYwZ2YlkACmdDZnQWQ+fIY0piaRpJyPEtiSZW0xKwxy2J2TdpXZmkJ6gzE1Z3m3qekwtV1g1jqIqCaaaulMydPNXSTFjCPgSWG0sk607TYgmdcd43pHiOobeH0r9JSsm2dkj2bVbbTiYGhoRzOvj1iUeWXlgYVGi3NLq8rnrl7hHVeTzRQWS4smV64gctKlpTmkEyh6lshfmkFpWQTDHOwlueWFkCZ2ZesrY40rxmiI0iP6cSjNnpMZIaE6QDOTcj1M5cszstpHjPaNQb7Nx8WN/kJiijbZl/PE0eOWf1bfSxx+sy63B9JdflOfLs9RwnJqA/CMefc/6TRq0VZsXUuMuAFC/dyD8eJ5fR8TFKMTsuRzWHPLWM7lsb43noeE8Rqv5/AtFnhlQxAYAkjO2d8TJo4vDKeaXES2Cvk179Yy52Iz3xg+mJ800vtY7a/wAN1/plxQUPlznDb98sT9TPowXGcktk753nmV9iKPtjax3dsv4gqIAAsznJI6jptI/xbDkc4zuq4+pamldnoGSI6lycqv1jGrv+6I7oNByDns69QDvy+RPr6TiY4t8lL5EtBwoD37BluoU9B/c3+kNr858IEixq2dWGMIAcDPlk9M+RhOK62qqprWAfAPhJ1e2z7qjv1wPqJ2l0jV1HxG5tRd/U1D9jaR0H9qjAHynR0+mTj4s/yQ6VHn+KXgsQDkbdtjj/AMxHnk6gEEg9QcH5xeyzl7ZPkIOZAttna2rODBaWonP6TSoTxEOxG+N4NylAJI5m9egmvFDy8llHquD2B61LAnJAZh/w36ZPpsI+dMT8RCWKPdfYLaOx/KfPdJxYuxWsAY3OBsB5yo41lip+LpnH5RYYca8rV/4/0K18ns9Zw9blIIxYvUDH5jzHpMhVIPhW7MPgfzHbebfAqebT7Ny2g86se+3T9JHENELq+b4XU4Yfgbz+RmTLh2dcr7/Veq/MRoy6sg8rdR0MYZeb5jpAVEsORtrE6esKhzt3ExS7AhPU6fKsNwSO3Y+YjfDuIOlS1WMzPzBUYK7u4PdiNhvmEK5+YiPFdSNPRbdjJRSQM4BJ2A/Wb/w/Wzw5ElynxQ6NkcU5cA752GNyzHoB27H/AMR88QCEJ1dgOVQGIOe+cfLefNPYzjB1A+z2VpzA5S9T4YDMcmsZ2LYxgf8Ame19ntJb4vi2AoqIUVMh/iYk5Pp02xPYqbugtUeuozjfrDRRbZY3S6wWHaDJgTbO55LAS7QFhlyYN5CCWpaY+otIM19VMTV9YGyAmvModUZBEGwiNkLNrmHcwL8Ubzg7ZnagymcgWPjiBJ6zV0DkzyldmDPQ8Lu2lUJeYB6bSzRqMydJZNOkzcmEYzBvZOLRa5ow1jSWiHR5krZGKrY0RbNZGhAYjVZGFeFhsNIMrmQWiMZEy8FzSQ8UIUSYMNJ5pCEmUIkl4NngZCDKmcXEqXlZGSZ0rzzoBLPAoN40kBjeMoNpwk/MI2CcRV1j1kTsnV0i4KWZ+qGxmDq+s39Ydp5/VdfrE1z4FRfTzW0kydMJraaY8TCPK0pc+0jmgL3m2+CWK6gw+kMUtMa0RmLMSPZr0mEYwNEKZneRmlFJdZAEtiDc6ITmSDKmVLQWFDCtLc0VWyEV4VOiBlPlLEbZgbNQirlsrhuXmAzufP0Gf0MY11gSjYBubFS75GW2J/LJ+k141ZAIBIBOBzfCO5Hn8pUnBAldJaLHsY55Uc1Agb+71/Xb6S2ipssPiBSwCoox0LYBb9/0lqlQ6Q5SQMnyGT6Riy7lwO53x6D/AKkD6xPTcNvKrz4TNpd/e5jyBtl29MTD9tONppQayLGtdQ1TLgJzBs4bJzjqNvOVUsstqassR6xLG5AWGGbAwN8EnEvo0DMi/CWQuDnDDHL/AKzH9l+MprtMtoVq3VyHHNzBbMdQe4w0ZQBCp97KKUVuZj7p6j9B1nMy6jFim4y5a7QWzyfFx4j2+GGe0XMjKEOGYE7gj8/rO4b7L6iwhrCKEO+G3s/5e31nrg3KPdAAJycYGSe59YVGJ6THm/EpNVCNfUp8Nepg+0PC6KdBcFRnwAzEthmII79AJ5b/AAv8VtVYQG8JaSH/AArkjlHz6z6TZWGUq4DKwwVO4YeRgdLpqqE5Ka0qXqVRQuT5nzMEPxJ/w08MlucvUe0lQwzYil9xzgbk9AN8yWcseVRk/oPnHNJpQgz1dhuehH+X/WYsOFyZUyNFo+X3m3f8xWP5MbusAUlzyoo3O3/ZMuQFBLEKiAsxOyoPMzPbU+LYpwy1LjCspU82ebmYefurj5kTtaTR7nb4RDI8Q36tmb4KiOReyBcYA/8Al+s0dVqcbGZfD2OLLe5ds/I2E/xAcV1OSrr5biTLdOh0gPE6/f5x0YZ+sydTp7g4srQ2q2AyqQGUjuM9RiaiakMMH/xG6bMdOmJmhkcH0FRp2V1VwVQFGBjp3+s8fxzWknlz1no9UxIMzeDcOD3s9gPKmAPUma451zKXSCxbhf8AQqZiPebfA+IiJ6R/EuBwRzMNjuRPT8P4Ba2ssttcLpUr/p7qTa+CSMdsAd/OcvDE8YPjHLnYbA+UkssYeZ87lf8AoDiev4UmNOjqATXkOPNdj/P6RhlCAWIMrvzL15kzv+Rkez78q8p6WZK+uBgiM0LyMaOxy9J6j1Ux3iUoxlH1/SXp/VfrXuVPsxuKaHP9ROoHMpH30/1EzhZze+NiPiE9AwCPydFZia+/I/dD6GY3ENP4bl1HuscMPwnynLy46+/v8iUQlud/zmP7WaO3U1JRTgB7V8ZiQAtYBOfXfEcssCtt0MubcSvE3jmprtEXZ57inDvFu02g05FdWnTxbGA+HJwD6scE/We84ToV01fhpz8ueYFmL9gMZ+k85pVAtewbF8Fj+LlG01dPrTjr8x/M9JoM1Y0n9v1/Udo3VuEk2+syl1Il/HnQ/iEK0aQshUaZldsdpaXQyWAZzKNJzIaXIglqZi6kbza1MyrxvFkx0hUVwdlccCyriINRkXiZmpM3NWuxmHqhMmWW0VoQycza4ZdMgpHdKcTn/wARtkVM9fobZsU2bTzHD7pt0XTp4tRYUaXPA2mUFkhml3jhAu0mu6DviXiEGL/EpOmQ3qbo5XZPP6fUTTptmiOVSIagsnF4mLJYWRm7Chjmnc8AbIC3UgRWMPeLI8WZZ1olftkFhNQ2wTWzOfVesXs1MVshpvqAO8C2rHnMl9RAtfFsrkza+2Tpk025nR1Ersz+beModoqUIMMrTz67C2WsMSsMac7RG1p19NxEpYnrDtMG87zZ1j7TFt6zNrJWQPpZracTK0s19P0lGFELtFbjGmid02tcAYu5jWhirCN6ETHlDE2aBtCEStHSFxMjRpiVVZJEsJVo6iNQJjBsYRhFdU/KrNnAUZJ64HeLTsNFsnt6frG9KwXmZip5eRAM7l3bAmZzlm5MFvEVFRV+LnJxk/mD9Ip7ScZt4a9dYRHdhl3sTmrBByEUdyM9czRp9O5yDGFnqE0hdeSpObLZawkeED8eQTnIztgQXtLQaNKzhTdbXl1AOAhIwxUeW5mr7PcVOq0lOoKeGbFOVHQYJGR6bQmpUWKyMOZWBUg9CCMGUz1TxzpLpjKNM8J/hx7RW232UMoCMhfHMWw+Rlt+57z39t7dMhRPN+zvslVoXexbHdnHKObHuJ5evzm4xX5znfiWoU8rcOFwNKvQgXHPxEzwf+KmnZk09uByIXVj35mxj9p7nJ7KPrIessMNykeWA36TFpNU9Pmjk7oi4PM/4bK40bApyL4rFGIwbAQMn856dk8zOIHmfptK847CVanN42WWSq3MDLBV8s/PpJ5v+xF9RqlX4iF9OrH6QSPZZ8CkL+N9h9BK445SAM2XhRknA9YOpHt3GVQ/ePxNv2Ea03Ctwze+fN//AMrNKqsDPTOMHsqeeW/gTfh0LfLFbF9PpVUcoHYncZy3bJHWMkAAnbIG5/CP5MjUXitC7MVQYBcjBPYBR2ETRjc43C1VnmxjHMSPd3P1z852NNpFdIVmdxO19QwqQOKF944OBcT0z+p77fo5zWAe8djgnYDIx1227eUiys1suOUsAMdmAxjG3WX4lcfC5mILYfcDlz7pxOi4rHCXwgLlnneDWf0Xz3VT/wDb/rMS42C0AtsegP3vlNvhleNuxqI/aZWo1ALNU68pRjysfOcrS1Nrd1ZYgNhwcjv19DL160r0384ozJkDoX+e8rYQuxIBJAHqScCNq9Oo5GkuB6PRcJZbKxdykeINlcYK74Ix84VkwcjYGc7cioo+6qj9N5ztmtj+Ag/ntOfON2kiIz+KccrqZahy2WcwDDnRWrVhv19O0YbUhRnqewnmzRp9S7kqrvU+56e9/O8bdCWBJ2UhlAyCGHmcyyWCCUVyq7v9gtHtfZe9rKLN82U3c6+gI6fLYzd1h8StbVyGT31+fdZ5X2Kt5LHB+GytGBB6HmYb/nPUaZuSxqj0bLL/ACJ0sSjKKj/3Kn8P/iyiS5B6pRbWLBsHxv8Ahfsf4mXY5cYcAEjlbvn19DG7bvB8Wns/vV/252P5bmZb25Py2lGfHGt8u3xXyu39+4YxKjhK4IDtv54IEyLOasmt9mX8iJv02RXj2l8SvxF+NP1Xv+UzRwxn0M4mMtp+WYzXaR3mTReT369o1XZNb8q4AaqanzAhhePUH8xM1XhVaDxGQ19K+ZrUGYmhabOnO06emlwKxoGcTIEgmbkyIVvmdaN5oXmIOd5B0VxKPCmDaAYR1KZExtTVN66ZmoSc/WSpCSMcJvGEWHWmWNc4EslspYTS2cpm1ptRMAHEdoulmLPKLIj0KXS3izLS+EW2blqGWUN22ZilktzyrGI8zZKK1k5mvpH2mOnWaelaa9Ll5FNANO5pQNOJnViwnPZMzWX4j7zL1ySSlQyQBdRDLdM7BEIGlEszGSHmugXuirvAtZE8WxqGmsgjbFi0rLMbbElGzW0T5BkRTRk7zprXRXsNC6rcwDJiP6hcGL2TlzxKyqSFLOkz7j1mhedpl3ma8SqJWzP1jTJc7zR1hma052qfJEN6QzXomLpDNehpMBAzmLEAkg9x7vlnPf0xmGcxZzN1cCtkpWWIUDfp2GO/WNaYg9xzDGe2QJ7/ANn+IIyBPAQe6uXCIq2HHUjffAjGv0mhsU84Wgk8pZSKjzEbDHRjA9PvXD5L44vVM8ZRDYmpf7N21+9UwvXy+GzHy7/SZ1qldmBU9wwKn8jMMsMovlF0eCkq0gsJCHLAdckDYZhjAY4IT0B/IxPU6G69noqUklFXm+4vOfeYntgD/wC0c4o+vWtFr0bObHKgFwoRB99z92ek+0V1IERVU7FgvQtjffvLvBS5GUX2C4TwyrSVqoPiWhcNcwHMfMDyEX45wjTa1FS9chG5g3NykH0ktezHYTsY3bp6kACUTbTtFlUHoWutFrrUBKwFRR0UCSWJ8h+s8pZ7cUC3waqNVeQ/KXqqHJ16jJyfynovFJAIVtxn3sDHzmDPjmuWqsFF2UdTv85QuB2lCtjdCvyGT+0InCrHG7sB6YTE58sE59IHAGy9R1IEWfXoDgEsfJRmaScEqU+86sfUs5jKaSlOin6gIP8AUww/DZPsFowjda3w1kerHH6QtPDdRZ8T8o8kHL+bGbnOB0Cr64GfzMG1uRufz7/n/AmmOhjHt/f5gsV0vBq03OCe5Hvt/wAx2jmUHwLk+ecn8+gnVVluxI9dl/1MBruIVUgAnnJblCJjHNjOD2G3nNUNJ/2r92AYrRm6nY/dQ4H1bv8ASUfX1LlQys6KTyKRyoARn6jOcek8tr+N6liWJGn01eWyqsOY7cgLY97I3wAPmc7TwniQu09lmNqz4as6rkYIxt26zoQ0qgrkBj2rsa9l2ZiSrKWGVqUEEhR5Z2yRnf0l7tSKBhg7nrgDOfLf84Pheqc0WOCQ5bA94sTjyJ6AxZDqWsDGgfCQWJyMdGB36/SW9JNFY1p9WL15uZS2CwBwXXyAMPqK+Wjl7eG53OTuP/MCdIXX+gEpcLhwy8qtkdtvdj3FEAQJ3FYU/PG8rzJrFJsaHZi6Ie8nkQAfliZvEdP7wY4BPuE9f6g2B/KaibMvoYDilR53x0sHMPIONv8ArOVovX4ZYZRUWoVYL4qfnEE+NA2+HXr23jO5fByl6dx8Ni+sVsJDgkYPMP3nW1K3qMiyJq2asqzAjIDEfSDt1QdGrJZVcYODggeh7RTU6nNj8o6s303gHRj1b+Iun06n2rG2l9Fo9Pp/92CCfiZiWZvUyaVr8U2eM5DAg1sQUHqBjbpM/UEA4ySfKKeMOwxGy6R7nz2FQPb8F11FVgJb3TW6EgZOSQQcfMT0ep4nXYqtW4NlZ5gNwWA6jefKNPqOU4845XxJxv5H1mV4ZRVIV4rPoXF9V4jgr8KoBzf3Hcj8sRIbzzdPtCwGCA3fBgtZ7RORhQE+UpzRnlmgeG0esOoRN3YL6d/yhU4jWSoBJyQMYxmfOLuIux3YzX9nNS721ID0bO/yMvw6bYuSOPA5r6EVm8M4wTlD5eh74gqnhtaF36luZiG26evnEVbEpnyUmklkYSyZiWw6WQRgQ3tC029O2081oX9ZuaazadHB0IzSVpxaLq8kvNakRA9SZnu+8cvaZ1h3k3DoNzyjNBgyrtFlk4GspYYpYMwztAlpytVO1RXJkLXIdIVGlLXnFlHkrErYDx8Q17TOuMtgrE6Zp1auO03zzVbkTQovlkrRbGSN0WzjbMxdTLePK97C2aKtNHSPMGq+aOktmvTZPMKbitLZitdkMrzvY5WFBDFb0jIMDdLJdFiM16oB0xHWEG6yiURzOeAYxm9Yo8p2gs4GWAgxGFWbMKBYbSDrOhaExOmolGnrW3MRZpGs1G8EDME3yZZMrqDtMy+aOo6TMvM0Y/5SsydYd4i0b1Z3iZnH1D8xA+mmrSdpl6eaVR2lmnVkYRjKCwjoAc9iAZYwTTpVwVtnsuFa9gEpsflsChjnAHLgHmBxvj4SM+c1uLLz1peig2oQFYgn3Sfe6bkbZx3xPFPrwUTDkWbhgW5aq1z1xjf6eU3+CawOlvOcaXZGZwFDZPT5YOD84iyOLTNeKZ6Th9pKqQxOQDzfi9Y+3K4w6LYPJgCP1mJz3KQ1eGUjmK4yGJOwB7dTv6esu2tvYMAiVnPKHyXI23IGBmaPGjNWaKGdTpdEpwaE5uvKhwQPMgHYRGulFYtVUqeXXA9d9yZK1qv/ABHZ98tZ77b9evT6SQ392T8pU4p+hKKvSbCeax8DbCgAQL8Ir/8Addf+U/xCsy9CW37CVYjsufmRiK4WMYlnslpTZ4rOz2Z62W2uPoC2JsV6asDHNn/Kv/mEWzGcBF+S80sLHP3nx5YCyqWFP7/2R8lhXgbK5+uP9JOw6hB/mIY/zBNknoT82JhFrbyA+S7/AJmVPTx9iBFt8sn/ACrgfmZRm33Cj/MxY/kJHgE9s/MmXTTn5fIfzD4K9gUipbA36dulSwAfJ90Z/wAo/wD0ZTUcS0lec2K7D7qf1HJ5ebGB6TJ1vtM3vCirkCglmsHvbFegGxyGHfvElGKYLSN404HPYy1r1JJHT1YxE8X04LLSPHt8OxlPRMqQOVnPTJI+mTPPXpayXLcz2m1OVPGA+AZ5mKgYDY2XA329Y9qL/eLDBO+CAoJJxtgdBsPyETyLmhXI0tNqLL6XdzyK9ZWrlBRVZ1TBO+Tgg4bbZugImBxCxmsce6KveNa7DwyE8MZ9SARjyM0qbeUIASQmw6A82MBj543/ADnitYx+0Gp7OVSwJ+LcEk+XkDNeLJF8IC5AcX1rWctbH3UJdtyRgOOVcem3THSb/DEZOHsrcvNfYSvUArFuKcEbwjYmLaimQw6gZBz+ka15DaHTOp2VSpHr5SZrUWwvoLofHr+IkiwcpC9Kx+LHl/rPRV4VQrAghScbnBxjcj6d586r1liDAY49D0+U9NpOIcqV2ktYHUhgeYlSDvgD6GZsOZUJR6PSWlhyuULA8oPNkHPr/wB9IXiaYO/4R6zz66wWMnKGQBwdm92wZG2DuvyxN7idoOGHRht3EtyNSxyDHsyUTmcCV4snKCMZZSGUehENo2HOSe0NxVuVqi2NwUf98fqZzdNj5kyw8xr05wtiHBUfXHlM7xPFsUfeyBiaep09gs8NCAlpJUt93zEHXwtqWFzjPLuNvdnQvy0WpozHHvv5B2H5GCtuJyF3Pn5QtmMv/mY/rAaYjBPqZo0XDaLqtCzpjPn3mde/L85p275MyeXmJb12nSnjCA52llvPSFKduhl/sbNuo5gOp22MwZMaQNyBLqTLeMWg2oZTuMR3QaTnB9ME+cz7ECUkL0uM+9nHmN8T0vs3V/VRlIb3xysCd/QzPXSoP5zNbh+lWi6pkYMjkcwBBAJ6EQ1wUydof4igD8oORk7zKsXB+U1tQhLEnrn+YndVOJKfJSJhoxU8E1cJUs36eO5ENHSW4m9pLdp52hJsaR5tjCgM11eSXiqvLBozYEWdopYI1iUauKwoUzBs0aeuJ3bSmbdEbA2PFnsk3PEbbpy8/JW2N+PKvdEPFkGyZNgjYex4uwk5lgsZcCAlrhVSGSuXKQOYyA5kiyRZFrbMQqNjjguj+i1E84dRHtBfvLsePbJMJ6ym6O1WZmLRbH6bJ2cUqCjVrMHbKV2yXbM07k0WADBPCtBMJVKVEbEtSIoUmk9eZXwZnlkSZW2Z4pjVKQhrhK1mjFlDHsIiToTE6afFNCRijJYmNLGDp8dpQ1zNODTMDA39Jk6kzU1R2mNq26y1OoiGVqTvFoW87wOZyMvLCM0TRq6TNpmjVNmlXIsgsGwhYN50ZdFYExvRXucV8zcuchcnGflFWhtB8YnNyy5LInuODapq1CNl03PX3kydgPTrNKtkt96t+YAkHGxBHUEGZOh6CM+ApIPQqCBjbGQQf3mlY+nF0zVGdDtlJ/OUCn1/aUopYbeI+MHuCdz13/SN1VvlsucHGNlyOueg9R+UtUMvwP4iArpz3H7nE5tNv0/KETSWEANY+Gr5XweRlYruVKgd/wAsQV+jYV2ElsqbHU8253Lk/XZfTEbwp+6D4hBRF6soycbkDcDJA+kq2r06jPiIeuMHmzgkHHngqR9JB4WnvKoChR4XOMc4TCs2D+Jm3Ld8L5Qeq01aV8orUhV5VXqTvkLn1OJTl3QV2DxDn45QuBixiRnCoe5AA37nmXA9fQ4C3tD2rpZ84HvOFw2SGzgHYY3PqOsBVpeXBY8zYyxxjNh6sP2HkPnOFYUYAA/8k4/U/nOVPXS5SGsBqOKati4U1VKMBSql3J2yQW2/Tr54mRqTbaV8a2xwj8wXPKGYHy/COuTufl11rYjYZR/FZJdsDFNPQFLtjDMxwM7KMAbfkIVFwS33ic9sdsfoF/KcxleaOpko0Evr5MEe8erbnBx+0ByDqrc3psp/I9Ys7f8AWDZo7yCNDyqepRhg9T7v8Tz3tpXyNWyCsFw3vMM5BABAbt3/ADMdsu2IB6b/ADHeA9qtObNFS7EZUkDaXYJ+YMTI0/HNRp6hWGBrtrGEyGCnoeU+X+s2dE/PwxvNLTv5AmeGrsZiqE7DAXPTI2x6T6N7HUJZpr6SM/eH+YjrN802mh30eY5OkYW5uYkdOgB7DtG7+HOhwwxjuSJWupM9T+U5Sg0Ac4WyDkDcxLE5OSOXfrn6T0fEnZNMrHGz8uBtgHM89pUHMuOmRPR0aI3ad63zndh5kjcTRhbdxD0B9nNOX57X+FWwo82xnJ+WRGeMVc1J6kqwbOfnNDTUCupU9Mn1OIO2nmRx/aTj0HX64zLoY1FKPq/7it82eWusFiqA/Kw3ByAVI7xbi2pcKtZs8Uthi22MHYKANh3P5Smt1J09rDwxavdOblIPmDgzBu1zWNkotYyThSW69Nz5CFR9C9Rsm+3d8HYFv3gUfYRa6z3Nu/8ArCIcKomrTLa0aEGv+E+u0hdGAIvddlgIVXPmflmdRiyE3T3jtkAxyrRl/gcoxG+DymcpVAzt0Az8z5RbTUixvEtzvjCg4AXymTNC1aK2xk8JYHf3/XO4jPDavDsABI5/dPlgxmvSocchK46jmOP3ldTSRvkbb4mEVsdGl/qcr+Gle48R87H19D5zXXRhEIZFVSQOdMMAex+UrQv2mpXJGQvKRgDGPMQ+kqtr2zlT7vhlhysPMfhMakVEXU985yPz9Ys9M0sAgY9du6nuDKeFOLnhWRoBktp5C0TVNMGap0NLGgWAqrxHKxAgRhBN8mBsMhhqhALHNOszN8gCokv4cMqySstSQwpZXM3W1TaZYjrRKcy4AzzGpmc5mzqa8mZ9unnGyvkRicsojC0QyUSlyKmLokOlcKKoRUlTsBQCVeFYRewxaLBa9pl6i2P6gzJ1JmzDEZATbHtBfgzNCxikYmmSVEPW6O/M1KbJ5bQ3zc010eGQZI2KnjKtmZ1Lxupo7z0WJDKrmSaxIQy4MqllbJQI0yj1xmUYQJtlbQkySUWFYSVEvgwxRAE6WnS/cakgz1RW5Jo2RHU95syHPl0YmufEw9W81eItvMPVtKZyqJUJWGCl7DKTlz7CM6eadImbpZqVCbNNwBlzBOYRjAuZqnk4EooxhdCffECRDaP4hOdOXI6Pa8PbYTTrWY/DDsPpNukTqYeUi1B6ljKCDrWMIJsQSQJYiSBOaEIrYoGfU5P5AfxEr4/bENRMWqXlIIWHeAsMJc0Wczy2TibLkL3NE7I1YItYJEEXYwZMIwgnl6YTkOT8tyewHnAu5PSXA2I88fpGKNPLErA0L06YmTx/P2VK8bc5/KaQrxEvaQEV1Z6e/NGKNMiR8/XT81nKgyc5n0/2VpCo+fdLIM+ee5nieAJzWZVTnfJ9PKfRPZ4MtbtaB1wAepE6qVqySZm6vg+wYOTknIaKfYkU+86k+Q7TU4xxAFCFUqc7ek8+c9z1mLIop8IRGnSEBGN8bza4fccdTgn5TA0lM1qGxtMzzqHIzZtWPsPkIHxuUhuwIz8u8Qs1m2MnaZup1hO2ZkzfiG6S2oSUkjH9rFaq51x0PuH8SHp9cTzGrtIBP3iQB9RPae0tIuoqvPUAVsfIrsD/AN+c8Reu5ycnO3kPpO2pKXm9+f6mrFK4o63GOT5DI7EDM4XKPPMEX5XA64Uk/UYleUHJG80Q4Lky3N72e0ZSK0gg/Pt1jAO/lNkZ26FbKar3io7ZhMkDOMyrrkiQ9zL0O0t22hGhvTanl6gkenUR9HRhkfX0+kwltZj0+s1qFUDmA3xuQOo9Zzs2OnYrRt8Cu5WNWRh/hOfvTQZQWJy2R1G+xnkLdRyMGAOQcg56T1qaxbK1sBOG+IDqD3lSYjQ1VqVyMbM3uttjp0zGWEzWuqOysxYgkcyFenke5mgHyoPmJh1MOVIRlWlZLGVBkxZKFZD1zkEN2lQs0PKKyyiP6ZYpWs0KFgg7ZBlRLcshZeaRkBcTM1p6zVsmPrTMeqntiGjIu6wZWFs6wJM4fibmCSK8snEjMkRkUNEGRmSZR4ziCiljxaxpexoBzK9tMsoXvMzrhkx+6KFZqxuhqF1SExCcs4iWbrGR1NmDNbSamYxhaLMRJL2GPW6a/M0aXnltLqcTZ0upzKHN+oyZt1tDKYjTZHK5dDkgUTsQiJL+HN+PTtiSYoyQZXEf8KVemaP4dokWIlp0LZXIiPGzQmEe0RPUttOLwFz7SjHqZTZRkgkjC153mLqjNnXneYuq6zRlflMQm0iWaQJz2MhrSCaaTO0wmlXNuDoVnNAtCOYImHJIFEQ2kHvCBEPpfjExt8jI9fwzoJuUdJh8POwmzQ86+CXCLEP1xhYnW8YV5tTGGIN2lTZAvZC2Qi1oje0LY8SveYdTLgAneYAwlpgZ5nN/MWxB2RWyMuIB1ipjCrCDKxhlnKkuhyMVppjtaYla1jKCbMaID5MzN9sOYLWm3wZm11nlvbS4nUJWp6VqG9O81Yo8kF/Y6pAxy3wEsf7s/wAT2d96tS7J8K4xPmPCdTy6llzsy8k+j8O05GjYDckk/MTdJ+ShZGV9sY7Y5vQgSa05t2UA9sS1GnCnmP0EPODqdTsVCssm05rcd4OywCJW3ZnJcpTfJXKYXUX5ipaQxkR1Gipux3R1G6u3T5wWRrK89OdRuPqP2njOIrynZTzeXrPWadyrBlOCpyDA8Zqrxnbn2OMeeZ19HnuO31X9jVp5eh4kJjPN1O5MqyY/eF1py+3TuYB7D9J2McrRsL0PtvnfvGTYMYBJ+cXTmwNtpb6TXgfmAXZxkAE+vlOsyZTl3BhhjznSilQyQJ/dHNKV3kEFmbfcgEgYjOpQcpiFi5A9BiZNRj4FcTX1JPKp6gjbv+sb4TqT/u84HXrsZ57Sawr7p3XyPaN6e7Dq69M7ictxaYjR6gagMOXoRup9RNzh1vNXk9jieLtvZWBxlSNp6j2fu5q3X0Djyz5SjPHdjZVJcGgzSvNKs0oTOT4lFdjlbbS0FSYwol0clhoJQN5pUrEqFmhVN2BkaLiTmQTI5pqIitp2mPru81LmmVqzOfrFaGRk2tFbHhdScGZ1tk4cYciyGq2zGFiemMbUzXBcCKJeDsWEE4rGY2wz7Vi7x/ULiJMJTfIyiK2iB5Yy4gystTI4geWVYQ5EC8ZMCQBpCtLPBiWroI5U00dLaRMqkTR0w6SiceQNG9oriZt6UzG4fVN3SVzraTB6srbY7UIyiStKRtEnWjjSIB8OCeuOFIKwQuI8TOtSdC2idKHDktPLPxodRp6x/nssb9iB+kCONFtjRSR6eKv/AO5neAcZJzLI4G2J5NZprpmOU5erG7hprOoupJ7qy3J/ynB/WZmt4LZgtUV1Cjc+FnxFHrWfe/LMLY2TJRipBBII6EHBEvjrMn/LkWzzrGQJ6XUGq/IvXD9tRWoFg/zjpYPnv6zG12gekjmwyN8Fqb12D0PY+h3limpcohOnmgkz6I+p2m/D0KyrmCJl7DBxchEWEZ0o94QCiMaYbzM/cZHp9C2wmtU8wtG016JqwZhx9HhhbE0eSXm9ZqRLGjfBPfFXeAeyVz1NAsYsuiVtsHZbFWsnG1es9BkgxbM6CVoVZzIz3FnRBWVauFk4mmMQ2KGuWSuMchkom814YBsmunMMKYatIYLOhGKoYWWvcfOeN9pwp1vyAB+gnvUXcT5txi3m1rt/ew+faX441YUeXW0C7mJwObB+WZ9e4e3Lo6878yjB+fefHL6SLSD3f+Z9hJxp60HRUUfpDqcnh4m/gXIZ7HcyllmJFtgHziVlmZ5B3N2zPKR1lmYOQTOllFZwlgJyiXAkIiyy1lK2YDjIGfniVjGkrLECHHNwmpIsg6Z4vjdK1sUTcDvMbJ5lUfM/Ke29r+DmshwCyuuRgdPMf9+c8zpNEV5nce8wOB5Cekjk2rk6EZJoA7/PaVW0yt4I9MmQzk9fzmzDlVjFuc+ZhkbG/eJq28ZUzfDMEOWzAYPMe8IkkHr5zTuU0OmLXVggt0I6jzgei+pPTyhNU24EETnacvKqkyto1NPcSgOfpPReytmSUP3s4/KeU0IIUqfPM3vZhsXKCcZIxMU1w18FU1weodcGRGbk3lOWeadplKRNBj9cRURqky/HOhkOVmMo0TQw6GdDDkolDPNIJlFljN8ZWgArjM3UzSsWZ+rr2lGaLaJZhazvMm47zX1qmZF43nN8LnkHYbTtHazM2lt5o6cxmqQUNKIQCUUyHsxEYQGqiFgjN1mYqxmd9ksCwkcsJiWCRiC5SBdI/wCEYN6o0W7IZrrIWuONVL10zQkyAqq5oaZNxKV1x7R1byxQtkZtcPTabmmSZmir6TZ06zv4IUkUjVKxpFgqhGAJqoJVhF7RGHMWtMSQ8RO+RK6gzpmcuS1I+fmwmH02l5+sQ4Nb4i4b402YfzNahuQ+k8bluDcV2YUueRe3ScsEZq3WoQc7zItaLCTl2CSSKmFot5AyMA9T/HW3wt6jybyIijuYzUeZQDtLuY8ii+p0AQeJUS9JODn46WP3X/g95VTD13NW2VPmCpGVdT1Vh3EvfplINtXwffQnLUn+V8j+c6ulzqXD7I+RRpUCTJAlmXsCLrGNN1i4jOk+ITNLosR6DQJ0msi7RHh6zZqTaW4VSGYoVMjeP+FKvTLQCDmLWGO314iLynKuCIE0XsjLRW4zmajHaHRwMOjRNWjNLCYsXEhhpFzGq6YCpxHUadbAosBHgiQtQzC5kToRSoKZAEusjEuglseCyyegJ8gTPk+pu/rtYemXb959N4vfyUWkdeQ/tPllWna3oCc5yewHcy/HzYyE9ErXWov96n9Z9K4rqsYQYAwOk8N7Ncp1lShSF5j1+8AOs9NxW7mtbGwBxMP4pN+GkvUqzOkL22Zg8yCZ04VGUmSJUS4EgUXEmQJZRnaKOkWrQscCek4TocAecW4Vw/oSN56bSafAnY0GivzyQUhfiHB11FLVH3W61v8Ahb19OxnyjiWjsrsauwcrVnlI/XI8x6z7eoxMf2k9na9an4LlH9OzH/0bzX9v362bS7o+XsvhKj4lrEDEeYiFgxN/iPDHotau1SlincH9CD3B85nWabJz6TCsjxumaIyMoD3o1jeUVcucdo0wPlNH8Q7Q5Umco3MlUAO5hGYD69JuxZwp0Ian45QLkiHsTJzB+G2dvpvBklfJGHpfBx2M1uFuVtrbyYTN0tBLDn93fvNfRqRaNu8yNiSPfahd4uVjrrkwL1zzc4u7KAAENWJULDIIYBDIIdRBKIxWJtgyF0EMqS9aQ6JOpijwIxRq4pqKdpsGuLX1TRsQh5fWaeed11WDPaauqee4nR3mHUY65QUYqjeO6doJa4equc52OMK8HY0IEg7FikaFmMGRDMsrywUgIhEjC1yqLGq1iIYH4co9UbCSTXHRDONElaY8a53hzTDkgutMe0NW8EFmlok6TZghchWzS0lc1dOsS0wmhTO1BcFY1WsLKVwhloQdkUujTxS4yqRZEz9QZ0rqTvImKUuS9Lg+V06g12CxenRx6Gbz3AjOflMd9JykjtC6az3Cp6qcfSeezwUqkjBIcN/lKtZB1mO16UMJmdRKxeogneFvTHSXbTcssNxiK5eqJRm2Oe8nTa8owZdiNsHcMO6kdwZbU14irUk9JojXYEaFyKy+LX8BIDJ1NLeXy8jAiU0VxrPMNwRyuh6OvkY1qKeXDKeat91Pl5qfUTZHJu77DQOMaQe9ACH0Z3iyHR6fQN0m1Q20wNE2wmxS8tg+BjQSWaAR4QvLExRfUjaY94wZr3vMfVNBN2goAzRa0wpaDec7USVDAgcSweDYyFM5lAs0dFuZrJMjSHE0a3nV0aqKGDlpQvKloF3m+6IMrdLm8TKsuxANqT5zPl1qhwNZ3tTqD9msCn3jPN6Oh0oAHuG1cBj2TuRNnjbkaZiQMk5B/ido/aDTCmuu2sOuApI+JBjtOnofPi3P1HXRi+zPI+vCp7yV1nDeZ6GaXFaStr+RPWH9nuG016uy2khqSpKbEEAnoRK8Vs5rbD0UHaZfxVJRX1KsvJnThIMuonDKCVWXAkqJcCLY6RUCbXCuH9Cwi3D9Nk5InqNFVibtDp/EluY1WNaPTgTSrSArEYRp6nHDaqGSLFZwk5kS0Jme0Xs/Trq+Swctig+HcAOes/yPSfI+PcHv0TFLlxnPJYu9dvqp8/Q7ifcAYHXaWu+tqrUFlbDdWH6jyPrM2o0scvPTGUqPzvRpyMsR1hWX6T2HtT7K2aMmyvNumJ2bGXq9Hx2/u/aeZZSek4uVThKpKjRGViRoBkX14KiMhMEkwIBZiT26SzHmaHTBPA7R5qxgwHIMTT4+5D2W01ROMdciei4HpOe9QG+Ehj5EYziZekTlT1Jnp/ZDTE22WdlUL/8AI/8ASUudtoqm+D0vLmQ9cMBOMyeAimxJlxLViGZZVEmd4trCGURmlYGtY3UJpxQtkGa1h1EpXDqJ18UeCtsoRA2iNkRa2XtCmTqU3mDxSuej1MxdauZlzq0MjHrojFdHpGq6odK5iWAcTajaKW1zZ5Ylqa5Tlw1yiGURO5YR13kTKAlFjdKResbzS06QJDELVJNUaCzisdIgn4cg1xsrKMs1YogYstc0dMkXrWP0LOjgjXIkhyiO1GJVxlHnRixB5GljZFhZKtbLHIKDu8VtaQ1sXtslE5lsUK6tt50BqHnTlzyLczXFcHhhcGG8UsHI6ns2xgarMQ9p5lx5biY/DW2jmUai6fbMvVdyjeRptSGqB74wfmIle2TOYouTakVDlmu7ZghqN4BNLneDspZfWMoR6RBq6wMJSi0CLOZVTiOocUQLqCM7bS/D9Xyko+9T45vND2ceo/WKWtmTpzvgy2PlVkRpX1FCVOPMEdGB6EekLo+sppjzr4J+JQTSf1Nf8iE0Q3juSfIxuaZuk1KbOkyNOY/W0sjILNOuyF8SIJZCGyNuAWueZuoGY1Y0TtaLKaS5HFHbEEzSbW3g8ZnHyTc5AKmXRYRUEIExHjgfbGSL1tiHS7EXWHrSaYNroagh1BgrLPOWcgRK62HLmaXYCHeBstxKWWRYtkzAo27YkpAfafVFaEXf3iTPNLnkDZ/4iKR85re1V5Y1J3CdPSYA1HIQD0YjI/aeu0UdunhRqj/Kj6f7KafmrdhsG6GL8e0XIVAO2N++T5xv2YbOmTl+HPy+cW9orlLAKc4GCPWUfiVeG/cz5DGC4l1EhRCqs862VpEqI1p6cytNceqSIvM6LEhzRpibmm6THoGI7VqMbT0WghsVsuo1hZCpZEa7AYQPidZSK2OiyEVpn+NDV3SxSQtjeZVngjbBNZI5UQvY+QQdwRgg7gieG9ofZBGJs0pFTdTUc+Gx9Pw/tPYs8T1LTHqFGapjJtHyLVaZ0YpYpVh1BlAnkJ9H12hrvHLYufI9GX5Ged13sncu9LLYv4T7jj+DOQ8UvTouUzzLLhTBaPT85HlNC7hdqEiyuwH1VsfnD6HQ2k4rqsY/5SB9SdotyXCXJZvKX1gcqgZ74HWe14FoTTSAfjf339Ce30EX4L7PGs+LeQbOyDcIfMnuZvck3YNPJLdLtlE53wgOJxELKPLHjEsGRLKsgQqCUSxpjpl0EYrEEojCS3HjRGw1ZhwYssuGm3GuBLGC0WuMsWgbWjyZBPV9DMi3eampaZDtvM8+WFMIiQoSRXCxljQdxTkiuqSOxfUSrLjVE3GLasHyxm0SgWcmcOQ2dSk0aRFKhG6zE2DIMJcSgl1jxjQxxEEwhsymN5pgKyakjtKwNSxutZuxOitnS6vOKSpEv30AJ40G98BaYpbaRK56mhoodN8E9kR8aXV8zJPU7uDTCIRhmdLLOlPZZuPmQMNWZHhQqV7Zi7kc4JpGxzL57iczb4lCcEN9DKt1mTJCpsSSHqbYRnzM9WlxZKXAQIwlWkGyQYUiFQoMkViWVZYiGyFGsxg9xNjQ3i1ecbOuBaPM9n+v7zGsQSdDaabAw3U+6481PWNGhkz1dEaVorXjAI3BAIPmIUGWLgZjiPCc0TVpY2STntQEFtsiV9k622Ku2ZzsmZz4XQzZGcy4E5RiTNODTcbmNGJdYYQKCGE0yx0hqLKIbnwIEuBAW3TJOaxhJutiNtk666KM8zJOTtlMpFneUXcgeZlCZfTJzOq+ZEtjErXZje1oKahV/sUTzut3cD5T0ntsuNXjsEXH5TzwxzEn6T1uBbccY+yN66Pp/s/qfB0FYHVgcZ7ZPWZxOSSescsQLpdMncVqfzEWVO88/wDiWVvLtb4Rml2Qqw9NeTIrTMfprwJym7dARKV4hqxKgSLHxOhpsK7Y6DteBKeNEHsnJZNssjRZZs0a3HWODVgzz/PLJcRDHWSgqYkkbn2mFr1MwxfCpfLI64TabwvneLMurUQ3jTStSmg0PeJFb3zBm2U5syvJmvhDIsohlWRTXGVqluGDA2UxOwYbw5UrNdAB8s7llzKSEBmUcSXMHY3aVSCkDzGKhFhG6ZQlyOFEIhgxLy+CFYQmSGgGaB8XEubpCjpaAsaD8aDeyVSmhkgOqaZLneO6p5mO+8z+JbJJUP1NCholU0MWmtPgUOWEDedpyyXXaLNcEM513gwIxYu8FiczJHkZMhYetoGV5ojiNY+rS4eIrZCrZIojjPNL1xZXjNG8ePYBypY3UsFQscQTXErZ3JKNXGAJDCRyAZ16RK1Jp3CJWrMmSVlkTPZJAh3EC0zmiIRLJ0ATOlqkWbTxNZhq+kEVxL1nBiNM5ovax3EZpUMoPpiL2r70LpWwGX6yaiNwTQJdF3SRXVINktp37TJzRUd4Yl1WWacYtsgVVBEXaErtxBOYEnZCoMLWAdovYcbzls3juPATc4Lqf+C3UZKfLuv8zUM8g95BDLsVORPT6XVC2tbB3G48mHURrqNsZcoa54J7JRngmeYMuRzfwTolnzKFpxlTJixubpD442SLYRHzFguTH9NTO7jg6o0UFqSTacCXY8oiF9+ZVqZqERJcEvZF7rZV3iztOQk27ZRKRzvmVzKzpYkVnGG0DYtQ/wBwgI5wmsNaoPSWQXmQV2Y3tqwbWHyAUfpPNE81oUDuNvrPQ+1ZB1T47bTI4RX/ALVVzdOdc577ieuS8q+huXR9I1tA5E7FUUD6CJIs3tdpxhTnaZoqGdp5T8Ri4zv3Mz7JorjQEGklrMTLp4XyxkibHxErbZa2yJu06UXSogTM4GCDzuaGQUxlWhAYorwweZsgwYGFQxcGMVyqD5CHUwiWQIllmhSJQwHjGnTJiiiP6YTXg80uRZdD1KRhVg6TDTsR6EJCwdiiEgb2lnoQA5gXeUttgS0pc0GizNBMZzQbyqUx0iQ0cpMQSO0GJF8jDMkGROM0RK2VsMVsjLxayV5pcDRQPmkF5RjIMwObsegN8QZd4/ZFLBLsSEmXrhhF0aFQzbFldB1liYIGdzSSZAdqwJWHaDaZJoIBxAvCs0BYZmkOdzS6WRcmcrStSGQ6rzR0fQTIUzX0XQS3Fyws16BGUitDbRpDNqK2GWVcSQZDtBIUVtETuEctaKXGZZDoTsizw9pgTM7ZfAEZMtidJZemeH5syCZGMGUczW8aOYXdtxLn4h5HaI88YD5x6HMSeO4tEoYspwZCLgxi19gfSK22TmptlQw7SFMV8SWrsh2ACWGCFku8WIMaKINAhhgwbUkdDIqELmDroKAtHuA6vkZqj0s3Xy5h/qIoywTVsMMOoORC0pJxZD1jGVUQemt8RFcdxv6MOohjOY006Gq2VMFa+IVoJK+Yzr6TDtjZrhSGdHVneaOyiLIeUQV+ozNs8scaC2kRqbog7ybbMwDNOLlyPJKzLOZJeDM7M6KVETjLTsQ2QriaHBFPirjtmJgTQ4SpDkjqAY+LmcV8jxXJ5X2gQm6yzsbCB6xPgo5tVWP7l/Qw/FryWK9g7H6wfsonNrquboGJx8gZ6vd5WbH0fTHJIx5b4i+YS5sE4gLrNsmebzRc2Z0rJZ8ROy7MFbfmBLxFHaiwK7xW15LPF3aTeKy6PC88WBlg0sUrRBlWjCGJI0arMqyMYbSNViK1RuqZoy5GQYJLBJdBL4miLGoqqxvTtFpatsGasMqkBo2EMMrRCm2NK4nbxytWV7QxaK6l5L2xS+zMsb4JtFbX3lOeRbBGYJNpj0F8SVZoPMq7SmU2FIvzx3TtMyszQ0xhxydkZoKZxg62hMzcnwJQN4tZGnitkqyRbHigREjlhlWW5Zn8Ftlu0Sdd4rcs0HWAsSaIworcRHEJUZLrBgxroTaHzK80pzTgYJSJRcmCtfaWYxW1pnyMFFGaUYyCYN2mZsNFGaQHg3aDVt4gTRqaa2lbaY2nM0anmjE6IbdFkbSyY9F0cS6aosVmiLZR7Yp40qbZJMiQWx4ndZJssidtkyTkkNRzNmRKZlg0yN8jxLASZUPOjIuPDsNzA2zp06RzxVhCL0nToH0EZDf0xF8zp05i7ZU+wbGErMidHfQBoHpLVrvOnSlgLWCUedOgRCywonTosiDXAHPPYn3cc2PI5myBOnTPk/6xdDoDdLUyJ06+P+UvRawxawyJ05uobsqmAaCM6dKkZyJM6dGITLqJ06BkLCaPC7CvPj8JnTpZpv8ArR+pcjwmo3ssJ/GY77DjOuXP4X/adOnq5dM1Po+iWjrM7W9J06YJJbSpGU0rInTnZCMhou06dMshCVkyJ0ddDRLKY7RJnSiY47THaZ06VY+wjiCTJnTbEZEYkqs6dLsfYGFTaFDmdOnVxdAKO5gmMidNSIUcQDTp0xZiFTKWSJ0yMJWk7zR086dLcYBpIUGTOmyIpV4AyZ0ZlsAiLLMonTpakiwAywTrInQtFbE7hAFZ06US7EOIkETp0rZCjReydOmfKKxdzAuZ06ZGEA8onWdOkIP6aOKZM6Xw6AMVMYyjmTOl4C3OZ3MZ06VyYyA2OYs7Tp0y5AlQxk80idKUMgimdOnS8uP/2Q==)"
      ],
      "metadata": {
        "id": "IDe7kjU3m8wR"
      }
    },
    {
      "cell_type": "markdown",
      "source": [
        "* Sequence parsing in Section **Parsing sequence file formats**\n",
        "* Extract sequence data from GenBank in Chapter **Accessing NCBI’s Entrez** databases\n",
        "* Extract data from Swiss-Prot from certain orchid proteins in Chapter **Swiss-Prot and ExPASy**\n",
        "* Work with ClustalW multiple sequence alignments of orchid proteins in Section **ClustalW**."
      ],
      "metadata": {
        "id": "oSn1xYzhoIVs"
      }
    },
    {
      "cell_type": "markdown",
      "source": [
        "### Parsing sequence file formats\n",
        "\n",
        "Download the FASTA file from https://www.ncbi.nlm.nih.gov/nuccore/PP811673.1?report=fasta"
      ],
      "metadata": {
        "id": "uJmn9tzIo206"
      }
    },
    {
      "cell_type": "code",
      "source": [
        "from Bio import SeqIO\n",
        "\n",
        "filename = \"fasta_seq.fasta\"\n",
        "for seq_record in SeqIO.parse(filename, \"fasta\"):\n",
        "    print(seq_record)\n"
      ],
      "metadata": {
        "colab": {
          "base_uri": "https://localhost:8080/"
        },
        "id": "69ZyxTEzlOKd",
        "outputId": "373a97d0-bb96-4980-cd9d-bedd3086bbab"
      },
      "execution_count": 24,
      "outputs": [
        {
          "output_type": "stream",
          "name": "stdout",
          "text": [
            "ID: PP811674.1\n",
            "Name: PP811674.1\n",
            "Description: PP811674.1 Cypripedium yatabeanum chloroplast, complete genome\n",
            "Number of features: 0\n",
            "Seq('AAGGTAGCAATCCCCCCATATCTTACAAGATATGGGGGGATTGCTACCTTCAAA...ACT')\n"
          ]
        }
      ]
    },
    {
      "cell_type": "markdown",
      "source": [
        "### Accessing NCBI’s Entrez\n",
        "\n",
        "Get data directly from databases instead of downloading manually\n",
        "\n",
        "Entrez (https://www.ncbi.nlm.nih.gov/Web/Search/entrezfs.html) is a data retrieval system that provides users access to NCBI’s databases such as PubMed, GenBank, GEO, and many others.\n",
        "\n",
        "The Bio.Entrez module makes use of the Entrez Programming Utilities (also known as EUtils), consisting of eight tools that are described in detail on NCBI’s page at https://www.ncbi.nlm.nih.gov/books/NBK25501/. Each of these tools corresponds to one Python function in the Bio.Entrez module\n",
        "\n",
        "\n",
        "The output returned by the Entrez Programming Utilities is typically in XML format. To parse such output, you have several options\n",
        "\n",
        "Use Bio.Entrez’s `parser` to parse the XML output into a Python object"
      ],
      "metadata": {
        "id": "2BT-jI710UAX"
      }
    },
    {
      "cell_type": "code",
      "source": [
        "from Bio import Entrez\n",
        "\n",
        "Entrez.api_key"
      ],
      "metadata": {
        "id": "OPW17XNim2Ni"
      },
      "execution_count": 28,
      "outputs": []
    },
    {
      "cell_type": "code",
      "source": [],
      "metadata": {
        "id": "ADi2dTcBCwGg"
      },
      "execution_count": null,
      "outputs": []
    }
  ]
}