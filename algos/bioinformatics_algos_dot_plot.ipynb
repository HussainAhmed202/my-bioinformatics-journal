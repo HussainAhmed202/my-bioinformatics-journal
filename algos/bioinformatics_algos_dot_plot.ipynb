{
  "nbformat": 4,
  "nbformat_minor": 0,
  "metadata": {
    "colab": {
      "provenance": [],
      "authorship_tag": "ABX9TyNlYzgSKuBAyQdsszmes9aB",
      "include_colab_link": true
    },
    "kernelspec": {
      "name": "python3",
      "display_name": "Python 3"
    },
    "language_info": {
      "name": "python"
    }
  },
  "cells": [
    {
      "cell_type": "markdown",
      "metadata": {
        "id": "view-in-github",
        "colab_type": "text"
      },
      "source": [
        "<a href=\"https://colab.research.google.com/github/HussainAhmed202/my-bioinformatics-journal/blob/main/algos/bioinformatics_algos_dot_plot.ipynb\" target=\"_parent\"><img src=\"https://colab.research.google.com/assets/colab-badge.svg\" alt=\"Open In Colab\"/></a>"
      ]
    },
    {
      "cell_type": "code",
      "execution_count": null,
      "metadata": {
        "id": "xVYyg-c0mFOC"
      },
      "outputs": [],
      "source": [
        "import numpy as np\n",
        "import matplotlib.pyplot as plt"
      ]
    },
    {
      "cell_type": "markdown",
      "source": [
        "## Input Sequences"
      ],
      "metadata": {
        "id": "m94wAnWpn95L"
      }
    },
    {
      "cell_type": "code",
      "source": [
        "# input sequences\n",
        "\n",
        "X = 'ACCGTCTAGGCTA'\n",
        "Y = 'ACCG'"
      ],
      "metadata": {
        "id": "JJvLIwkumapR"
      },
      "execution_count": null,
      "outputs": []
    },
    {
      "cell_type": "markdown",
      "source": [
        "## Generate Dot Plot"
      ],
      "metadata": {
        "id": "S4EfSmGcoB5_"
      }
    },
    {
      "cell_type": "markdown",
      "source": [
        "### Step1: Create 2D Matrix"
      ],
      "metadata": {
        "id": "4BKIV8uHoEK6"
      }
    },
    {
      "cell_type": "code",
      "source": [
        "# 2D matrix of dim len(X) x len(Y)\n",
        "\n",
        "mat = np.zeros((len(Y),len(X)))\n",
        "mat"
      ],
      "metadata": {
        "colab": {
          "base_uri": "https://localhost:8080/"
        },
        "id": "fiVSvBMqmpFA",
        "outputId": "6be565d1-f77b-41b3-ec8d-9e04e4e4219d"
      },
      "execution_count": null,
      "outputs": [
        {
          "output_type": "execute_result",
          "data": {
            "text/plain": [
              "array([[0., 0., 0., 0., 0., 0., 0., 0., 0., 0., 0., 0., 0.],\n",
              "       [0., 0., 0., 0., 0., 0., 0., 0., 0., 0., 0., 0., 0.],\n",
              "       [0., 0., 0., 0., 0., 0., 0., 0., 0., 0., 0., 0., 0.],\n",
              "       [0., 0., 0., 0., 0., 0., 0., 0., 0., 0., 0., 0., 0.]])"
            ]
          },
          "metadata": {},
          "execution_count": 38
        }
      ]
    },
    {
      "cell_type": "markdown",
      "source": [
        "### Fill the matrix"
      ],
      "metadata": {
        "id": "fk4CH6vCpFlb"
      }
    },
    {
      "cell_type": "code",
      "source": [
        "# filling with 1 instead of dot\n",
        "\n",
        "for i in range(len(Y)):\n",
        "    for j in range(len(X)):\n",
        "        if Y[i] == X[j]:\n",
        "            mat[i,j] = 1"
      ],
      "metadata": {
        "id": "aeE-1QO4o8sK"
      },
      "execution_count": null,
      "outputs": []
    },
    {
      "cell_type": "code",
      "source": [
        "mat"
      ],
      "metadata": {
        "colab": {
          "base_uri": "https://localhost:8080/"
        },
        "id": "yPy0TppyqN8N",
        "outputId": "0d22656b-bec0-48e0-ec53-e57e7cd9a32c"
      },
      "execution_count": null,
      "outputs": [
        {
          "output_type": "execute_result",
          "data": {
            "text/plain": [
              "array([[1., 0., 0., 0., 0., 0., 0., 1., 0., 0., 0., 0., 1.],\n",
              "       [0., 1., 1., 0., 0., 1., 0., 0., 0., 0., 1., 0., 0.],\n",
              "       [0., 1., 1., 0., 0., 1., 0., 0., 0., 0., 1., 0., 0.],\n",
              "       [0., 0., 0., 1., 0., 0., 0., 0., 1., 1., 0., 0., 0.]])"
            ]
          },
          "metadata": {},
          "execution_count": 41
        }
      ]
    },
    {
      "cell_type": "markdown",
      "source": [
        "### Plot the Matrix"
      ],
      "metadata": {
        "id": "M9WXbcY1qzPx"
      }
    },
    {
      "cell_type": "code",
      "source": [
        "plt.imshow(mat, cmap='Greys', interpolation='none', origin='upper')\n",
        "plt.xticks(ticks=np.arange(len(X)), labels=list(X))\n",
        "plt.yticks(ticks=np.arange(len(Y)), labels=list(Y))\n",
        "plt.xlabel('Sequence 2')\n",
        "plt.ylabel('Sequence 1')\n",
        "plt.title('Dot Plot of DNA Sequences')\n",
        "plt.show()"
      ],
      "metadata": {
        "colab": {
          "base_uri": "https://localhost:8080/",
          "height": 255
        },
        "id": "cK8NIJtfqO9c",
        "outputId": "094f7ac1-d84d-4b39-9866-05092bfdd7f3"
      },
      "execution_count": null,
      "outputs": [
        {
          "output_type": "display_data",
          "data": {
            "text/plain": [
              "<Figure size 640x480 with 1 Axes>"
            ],
            "image/png": "[encoded data removed]"
          },
          "metadata": {}
        }
      ]
    },
    {
      "cell_type": "code",
      "source": [],
      "metadata": {
        "id": "r-WycOgAs2kc"
      },
      "execution_count": null,
      "outputs": []
    }
  ]
}